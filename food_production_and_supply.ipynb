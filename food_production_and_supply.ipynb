{
 "cells": [
  {
   "cell_type": "code",
   "execution_count": 117,
   "id": "86972c50",
   "metadata": {},
   "outputs": [],
   "source": [
    "import pandas as pd\n",
    "from pandas.api.types import CategoricalDtype\n",
    "import numpy as np\n",
    "import matplotlib.pyplot as plt\n",
    "import plotly.express as px\n",
    "import awoc"
   ]
  },
  {
   "cell_type": "code",
   "execution_count": 118,
   "id": "86fac251",
   "metadata": {},
   "outputs": [],
   "source": [
    "# load dataset\n",
    "\n",
    "# food production dataset\n",
    "food_prod_df = pd.read_csv('dataset/Africa Food Production (2004 - 2013).csv')\n",
    "\n",
    "# food supply/consumption dataset\n",
    "food_supp_df = pd.read_csv('dataset/Africa Food Supply (2004 - 2013).csv')\n",
    "\n",
    "# Dimensional table containing additional country information\n",
    "country_dim_df = pd.read_csv('dataset/country_dim.csv', encoding = 'latin-1')"
   ]
  },
  {
   "cell_type": "code",
   "execution_count": 119,
   "id": "e93443f5",
   "metadata": {
    "scrolled": false
   },
   "outputs": [
    {
     "data": {
      "text/html": [
       "<div>\n",
       "<style scoped>\n",
       "    .dataframe tbody tr th:only-of-type {\n",
       "        vertical-align: middle;\n",
       "    }\n",
       "\n",
       "    .dataframe tbody tr th {\n",
       "        vertical-align: top;\n",
       "    }\n",
       "\n",
       "    .dataframe thead th {\n",
       "        text-align: right;\n",
       "    }\n",
       "</style>\n",
       "<table border=\"1\" class=\"dataframe\">\n",
       "  <thead>\n",
       "    <tr style=\"text-align: right;\">\n",
       "      <th></th>\n",
       "      <th>Country</th>\n",
       "      <th>Item</th>\n",
       "      <th>Year</th>\n",
       "      <th>Value</th>\n",
       "    </tr>\n",
       "  </thead>\n",
       "  <tbody>\n",
       "    <tr>\n",
       "      <th>0</th>\n",
       "      <td>Algeria</td>\n",
       "      <td>Wheat and products</td>\n",
       "      <td>2004</td>\n",
       "      <td>2731</td>\n",
       "    </tr>\n",
       "    <tr>\n",
       "      <th>1</th>\n",
       "      <td>Algeria</td>\n",
       "      <td>Wheat and products</td>\n",
       "      <td>2005</td>\n",
       "      <td>2415</td>\n",
       "    </tr>\n",
       "    <tr>\n",
       "      <th>2</th>\n",
       "      <td>Algeria</td>\n",
       "      <td>Wheat and products</td>\n",
       "      <td>2006</td>\n",
       "      <td>2688</td>\n",
       "    </tr>\n",
       "    <tr>\n",
       "      <th>3</th>\n",
       "      <td>Algeria</td>\n",
       "      <td>Wheat and products</td>\n",
       "      <td>2007</td>\n",
       "      <td>2319</td>\n",
       "    </tr>\n",
       "    <tr>\n",
       "      <th>4</th>\n",
       "      <td>Algeria</td>\n",
       "      <td>Wheat and products</td>\n",
       "      <td>2008</td>\n",
       "      <td>1111</td>\n",
       "    </tr>\n",
       "    <tr>\n",
       "      <th>5</th>\n",
       "      <td>Algeria</td>\n",
       "      <td>Wheat and products</td>\n",
       "      <td>2009</td>\n",
       "      <td>2953</td>\n",
       "    </tr>\n",
       "    <tr>\n",
       "      <th>6</th>\n",
       "      <td>Algeria</td>\n",
       "      <td>Wheat and products</td>\n",
       "      <td>2010</td>\n",
       "      <td>2605</td>\n",
       "    </tr>\n",
       "    <tr>\n",
       "      <th>7</th>\n",
       "      <td>Algeria</td>\n",
       "      <td>Wheat and products</td>\n",
       "      <td>2011</td>\n",
       "      <td>2555</td>\n",
       "    </tr>\n",
       "    <tr>\n",
       "      <th>8</th>\n",
       "      <td>Algeria</td>\n",
       "      <td>Wheat and products</td>\n",
       "      <td>2012</td>\n",
       "      <td>3432</td>\n",
       "    </tr>\n",
       "    <tr>\n",
       "      <th>9</th>\n",
       "      <td>Algeria</td>\n",
       "      <td>Wheat and products</td>\n",
       "      <td>2013</td>\n",
       "      <td>3299</td>\n",
       "    </tr>\n",
       "    <tr>\n",
       "      <th>10</th>\n",
       "      <td>Algeria</td>\n",
       "      <td>Rice (Milled Equivalent)</td>\n",
       "      <td>2004</td>\n",
       "      <td>0</td>\n",
       "    </tr>\n",
       "    <tr>\n",
       "      <th>11</th>\n",
       "      <td>Algeria</td>\n",
       "      <td>Rice (Milled Equivalent)</td>\n",
       "      <td>2005</td>\n",
       "      <td>0</td>\n",
       "    </tr>\n",
       "    <tr>\n",
       "      <th>12</th>\n",
       "      <td>Algeria</td>\n",
       "      <td>Rice (Milled Equivalent)</td>\n",
       "      <td>2006</td>\n",
       "      <td>0</td>\n",
       "    </tr>\n",
       "    <tr>\n",
       "      <th>13</th>\n",
       "      <td>Algeria</td>\n",
       "      <td>Rice (Milled Equivalent)</td>\n",
       "      <td>2007</td>\n",
       "      <td>0</td>\n",
       "    </tr>\n",
       "    <tr>\n",
       "      <th>14</th>\n",
       "      <td>Algeria</td>\n",
       "      <td>Rice (Milled Equivalent)</td>\n",
       "      <td>2008</td>\n",
       "      <td>0</td>\n",
       "    </tr>\n",
       "    <tr>\n",
       "      <th>15</th>\n",
       "      <td>Algeria</td>\n",
       "      <td>Rice (Milled Equivalent)</td>\n",
       "      <td>2009</td>\n",
       "      <td>0</td>\n",
       "    </tr>\n",
       "    <tr>\n",
       "      <th>16</th>\n",
       "      <td>Algeria</td>\n",
       "      <td>Rice (Milled Equivalent)</td>\n",
       "      <td>2010</td>\n",
       "      <td>0</td>\n",
       "    </tr>\n",
       "    <tr>\n",
       "      <th>17</th>\n",
       "      <td>Algeria</td>\n",
       "      <td>Rice (Milled Equivalent)</td>\n",
       "      <td>2011</td>\n",
       "      <td>0</td>\n",
       "    </tr>\n",
       "    <tr>\n",
       "      <th>18</th>\n",
       "      <td>Algeria</td>\n",
       "      <td>Rice (Milled Equivalent)</td>\n",
       "      <td>2012</td>\n",
       "      <td>0</td>\n",
       "    </tr>\n",
       "    <tr>\n",
       "      <th>19</th>\n",
       "      <td>Algeria</td>\n",
       "      <td>Rice (Milled Equivalent)</td>\n",
       "      <td>2013</td>\n",
       "      <td>0</td>\n",
       "    </tr>\n",
       "  </tbody>\n",
       "</table>\n",
       "</div>"
      ],
      "text/plain": [
       "    Country                      Item  Year  Value\n",
       "0   Algeria        Wheat and products  2004   2731\n",
       "1   Algeria        Wheat and products  2005   2415\n",
       "2   Algeria        Wheat and products  2006   2688\n",
       "3   Algeria        Wheat and products  2007   2319\n",
       "4   Algeria        Wheat and products  2008   1111\n",
       "5   Algeria        Wheat and products  2009   2953\n",
       "6   Algeria        Wheat and products  2010   2605\n",
       "7   Algeria        Wheat and products  2011   2555\n",
       "8   Algeria        Wheat and products  2012   3432\n",
       "9   Algeria        Wheat and products  2013   3299\n",
       "10  Algeria  Rice (Milled Equivalent)  2004      0\n",
       "11  Algeria  Rice (Milled Equivalent)  2005      0\n",
       "12  Algeria  Rice (Milled Equivalent)  2006      0\n",
       "13  Algeria  Rice (Milled Equivalent)  2007      0\n",
       "14  Algeria  Rice (Milled Equivalent)  2008      0\n",
       "15  Algeria  Rice (Milled Equivalent)  2009      0\n",
       "16  Algeria  Rice (Milled Equivalent)  2010      0\n",
       "17  Algeria  Rice (Milled Equivalent)  2011      0\n",
       "18  Algeria  Rice (Milled Equivalent)  2012      0\n",
       "19  Algeria  Rice (Milled Equivalent)  2013      0"
      ]
     },
     "execution_count": 119,
     "metadata": {},
     "output_type": "execute_result"
    }
   ],
   "source": [
    "food_prod_df.head(20)"
   ]
  },
  {
   "cell_type": "code",
   "execution_count": 120,
   "id": "922ffafc",
   "metadata": {
    "scrolled": true
   },
   "outputs": [
    {
     "data": {
      "text/html": [
       "<div>\n",
       "<style scoped>\n",
       "    .dataframe tbody tr th:only-of-type {\n",
       "        vertical-align: middle;\n",
       "    }\n",
       "\n",
       "    .dataframe tbody tr th {\n",
       "        vertical-align: top;\n",
       "    }\n",
       "\n",
       "    .dataframe thead th {\n",
       "        text-align: right;\n",
       "    }\n",
       "</style>\n",
       "<table border=\"1\" class=\"dataframe\">\n",
       "  <thead>\n",
       "    <tr style=\"text-align: right;\">\n",
       "      <th></th>\n",
       "      <th>Country</th>\n",
       "      <th>Item</th>\n",
       "      <th>Year</th>\n",
       "      <th>Value</th>\n",
       "    </tr>\n",
       "  </thead>\n",
       "  <tbody>\n",
       "    <tr>\n",
       "      <th>0</th>\n",
       "      <td>Algeria</td>\n",
       "      <td>Wheat and products</td>\n",
       "      <td>2004</td>\n",
       "      <td>2731</td>\n",
       "    </tr>\n",
       "    <tr>\n",
       "      <th>1</th>\n",
       "      <td>Algeria</td>\n",
       "      <td>Wheat and products</td>\n",
       "      <td>2005</td>\n",
       "      <td>2415</td>\n",
       "    </tr>\n",
       "    <tr>\n",
       "      <th>2</th>\n",
       "      <td>Algeria</td>\n",
       "      <td>Wheat and products</td>\n",
       "      <td>2006</td>\n",
       "      <td>2688</td>\n",
       "    </tr>\n",
       "    <tr>\n",
       "      <th>3</th>\n",
       "      <td>Algeria</td>\n",
       "      <td>Wheat and products</td>\n",
       "      <td>2007</td>\n",
       "      <td>2319</td>\n",
       "    </tr>\n",
       "    <tr>\n",
       "      <th>4</th>\n",
       "      <td>Algeria</td>\n",
       "      <td>Wheat and products</td>\n",
       "      <td>2008</td>\n",
       "      <td>1111</td>\n",
       "    </tr>\n",
       "    <tr>\n",
       "      <th>...</th>\n",
       "      <td>...</td>\n",
       "      <td>...</td>\n",
       "      <td>...</td>\n",
       "      <td>...</td>\n",
       "    </tr>\n",
       "    <tr>\n",
       "      <th>23105</th>\n",
       "      <td>Zimbabwe</td>\n",
       "      <td>Crustaceans</td>\n",
       "      <td>2009</td>\n",
       "      <td>0</td>\n",
       "    </tr>\n",
       "    <tr>\n",
       "      <th>23106</th>\n",
       "      <td>Zimbabwe</td>\n",
       "      <td>Crustaceans</td>\n",
       "      <td>2010</td>\n",
       "      <td>0</td>\n",
       "    </tr>\n",
       "    <tr>\n",
       "      <th>23107</th>\n",
       "      <td>Zimbabwe</td>\n",
       "      <td>Crustaceans</td>\n",
       "      <td>2011</td>\n",
       "      <td>0</td>\n",
       "    </tr>\n",
       "    <tr>\n",
       "      <th>23108</th>\n",
       "      <td>Zimbabwe</td>\n",
       "      <td>Crustaceans</td>\n",
       "      <td>2012</td>\n",
       "      <td>0</td>\n",
       "    </tr>\n",
       "    <tr>\n",
       "      <th>23109</th>\n",
       "      <td>Zimbabwe</td>\n",
       "      <td>Crustaceans</td>\n",
       "      <td>2013</td>\n",
       "      <td>0</td>\n",
       "    </tr>\n",
       "  </tbody>\n",
       "</table>\n",
       "<p>23110 rows × 4 columns</p>\n",
       "</div>"
      ],
      "text/plain": [
       "        Country                Item  Year  Value\n",
       "0       Algeria  Wheat and products  2004   2731\n",
       "1       Algeria  Wheat and products  2005   2415\n",
       "2       Algeria  Wheat and products  2006   2688\n",
       "3       Algeria  Wheat and products  2007   2319\n",
       "4       Algeria  Wheat and products  2008   1111\n",
       "...         ...                 ...   ...    ...\n",
       "23105  Zimbabwe         Crustaceans  2009      0\n",
       "23106  Zimbabwe         Crustaceans  2010      0\n",
       "23107  Zimbabwe         Crustaceans  2011      0\n",
       "23108  Zimbabwe         Crustaceans  2012      0\n",
       "23109  Zimbabwe         Crustaceans  2013      0\n",
       "\n",
       "[23110 rows x 4 columns]"
      ]
     },
     "execution_count": 120,
     "metadata": {},
     "output_type": "execute_result"
    }
   ],
   "source": [
    "food_prod_df.groupby(['Year', 'Item', 'Value']).head(200)"
   ]
  },
  {
   "cell_type": "code",
   "execution_count": 121,
   "id": "86fc4715",
   "metadata": {},
   "outputs": [
    {
     "data": {
      "text/html": [
       "<div>\n",
       "<style scoped>\n",
       "    .dataframe tbody tr th:only-of-type {\n",
       "        vertical-align: middle;\n",
       "    }\n",
       "\n",
       "    .dataframe tbody tr th {\n",
       "        vertical-align: top;\n",
       "    }\n",
       "\n",
       "    .dataframe thead th {\n",
       "        text-align: right;\n",
       "    }\n",
       "</style>\n",
       "<table border=\"1\" class=\"dataframe\">\n",
       "  <thead>\n",
       "    <tr style=\"text-align: right;\">\n",
       "      <th></th>\n",
       "      <th>Country</th>\n",
       "      <th>Year</th>\n",
       "      <th>Value</th>\n",
       "    </tr>\n",
       "  </thead>\n",
       "  <tbody>\n",
       "    <tr>\n",
       "      <th>0</th>\n",
       "      <td>Algeria</td>\n",
       "      <td>2004</td>\n",
       "      <td>2987</td>\n",
       "    </tr>\n",
       "    <tr>\n",
       "      <th>1</th>\n",
       "      <td>Algeria</td>\n",
       "      <td>2005</td>\n",
       "      <td>2958</td>\n",
       "    </tr>\n",
       "    <tr>\n",
       "      <th>2</th>\n",
       "      <td>Algeria</td>\n",
       "      <td>2006</td>\n",
       "      <td>3047</td>\n",
       "    </tr>\n",
       "    <tr>\n",
       "      <th>3</th>\n",
       "      <td>Algeria</td>\n",
       "      <td>2007</td>\n",
       "      <td>3041</td>\n",
       "    </tr>\n",
       "    <tr>\n",
       "      <th>4</th>\n",
       "      <td>Algeria</td>\n",
       "      <td>2008</td>\n",
       "      <td>3048</td>\n",
       "    </tr>\n",
       "    <tr>\n",
       "      <th>...</th>\n",
       "      <td>...</td>\n",
       "      <td>...</td>\n",
       "      <td>...</td>\n",
       "    </tr>\n",
       "    <tr>\n",
       "      <th>445</th>\n",
       "      <td>Zimbabwe</td>\n",
       "      <td>2009</td>\n",
       "      <td>2147</td>\n",
       "    </tr>\n",
       "    <tr>\n",
       "      <th>446</th>\n",
       "      <td>Zimbabwe</td>\n",
       "      <td>2010</td>\n",
       "      <td>2168</td>\n",
       "    </tr>\n",
       "    <tr>\n",
       "      <th>447</th>\n",
       "      <td>Zimbabwe</td>\n",
       "      <td>2011</td>\n",
       "      <td>2200</td>\n",
       "    </tr>\n",
       "    <tr>\n",
       "      <th>448</th>\n",
       "      <td>Zimbabwe</td>\n",
       "      <td>2012</td>\n",
       "      <td>2197</td>\n",
       "    </tr>\n",
       "    <tr>\n",
       "      <th>449</th>\n",
       "      <td>Zimbabwe</td>\n",
       "      <td>2013</td>\n",
       "      <td>2110</td>\n",
       "    </tr>\n",
       "  </tbody>\n",
       "</table>\n",
       "<p>450 rows × 3 columns</p>\n",
       "</div>"
      ],
      "text/plain": [
       "      Country  Year  Value\n",
       "0     Algeria  2004   2987\n",
       "1     Algeria  2005   2958\n",
       "2     Algeria  2006   3047\n",
       "3     Algeria  2007   3041\n",
       "4     Algeria  2008   3048\n",
       "..        ...   ...    ...\n",
       "445  Zimbabwe  2009   2147\n",
       "446  Zimbabwe  2010   2168\n",
       "447  Zimbabwe  2011   2200\n",
       "448  Zimbabwe  2012   2197\n",
       "449  Zimbabwe  2013   2110\n",
       "\n",
       "[450 rows x 3 columns]"
      ]
     },
     "execution_count": 121,
     "metadata": {},
     "output_type": "execute_result"
    }
   ],
   "source": [
    "food_supp_df"
   ]
  },
  {
   "cell_type": "code",
   "execution_count": 122,
   "id": "b253a46b",
   "metadata": {},
   "outputs": [
    {
     "data": {
      "text/plain": [
       "array(['Algeria', 'Angola', 'Benin', 'Botswana', 'Burkina Faso',\n",
       "       'Cabo Verde', 'Cameroon', 'Central African Republic', 'Chad',\n",
       "       'Congo', \"Cote d'Ivoire\", 'Djibouti', 'Egypt', 'Ethiopia', 'Gabon',\n",
       "       'Gambia', 'Ghana', 'Guinea', 'Guinea-Bissau', 'Kenya', 'Lesotho',\n",
       "       'Liberia', 'Madagascar', 'Malawi', 'Mali', 'Mauritania',\n",
       "       'Mauritius', 'Morocco', 'Mozambique', 'Namibia', 'Niger',\n",
       "       'Nigeria', 'Rwanda', 'Sao Tome and Principe', 'Senegal',\n",
       "       'Sierra Leone', 'South Africa', 'Sudan', 'Swaziland', 'Togo',\n",
       "       'Tunisia', 'Uganda', 'United Republic of Tanzania', 'Zambia',\n",
       "       'Zimbabwe'], dtype=object)"
      ]
     },
     "execution_count": 122,
     "metadata": {},
     "output_type": "execute_result"
    }
   ],
   "source": [
    "food_supp_df['Country'].unique()"
   ]
  },
  {
   "cell_type": "code",
   "execution_count": 123,
   "id": "ab9d68b0",
   "metadata": {
    "scrolled": true
   },
   "outputs": [
    {
     "data": {
      "text/plain": [
       "['Algeria',\n",
       " 'Angola',\n",
       " 'Benin',\n",
       " 'Botswana',\n",
       " 'Burkina Faso',\n",
       " 'Burundi',\n",
       " 'Cameroon',\n",
       " 'Cape Verde',\n",
       " 'Central African Republic',\n",
       " 'Chad',\n",
       " 'Comoros',\n",
       " 'Democratic Republic of the Congo',\n",
       " 'Djibouti',\n",
       " 'Egypt',\n",
       " 'Equatorial Guinea',\n",
       " 'Eritrea',\n",
       " 'Ethiopia',\n",
       " 'Gabon',\n",
       " 'Gambia',\n",
       " 'Ghana',\n",
       " 'Guinea',\n",
       " 'Guinea-Bissau',\n",
       " 'Ivory Coast',\n",
       " 'Kenya',\n",
       " 'Lesotho',\n",
       " 'Liberia',\n",
       " 'Libya',\n",
       " 'Madagascar',\n",
       " 'Malawi',\n",
       " 'Mali',\n",
       " 'Mauritania',\n",
       " 'Mauritius',\n",
       " 'Mayotte',\n",
       " 'Morocco',\n",
       " 'Mozambique',\n",
       " 'Namibia',\n",
       " 'Niger',\n",
       " 'Nigeria',\n",
       " 'Republic of the Congo',\n",
       " 'Reunion',\n",
       " 'Rwanda',\n",
       " 'Saint Helena',\n",
       " 'Sao Tome and Principe',\n",
       " 'Senegal',\n",
       " 'Seychelles',\n",
       " 'Sierra Leone',\n",
       " 'Somalia',\n",
       " 'South Africa',\n",
       " 'South Sudan',\n",
       " 'Sudan',\n",
       " 'Swaziland',\n",
       " 'Tanzania',\n",
       " 'Togo',\n",
       " 'Tunisia',\n",
       " 'Uganda',\n",
       " 'Western Sahara',\n",
       " 'Zambia',\n",
       " 'Zimbabwe']"
      ]
     },
     "execution_count": 123,
     "metadata": {},
     "output_type": "execute_result"
    }
   ],
   "source": [
    "# Fetch additional data such as sub-region and ISO code for each country\n",
    "countries_list = awoc.AWOC()\n",
    "african_countries = countries_list.get_countries_list_of('Africa')\n",
    "african_countries"
   ]
  },
  {
   "cell_type": "code",
   "execution_count": 124,
   "id": "f4db88dc",
   "metadata": {},
   "outputs": [
    {
     "data": {
      "text/plain": [
       "array(['Algeria', 'Angola', 'Benin', 'Botswana', 'Burkina Faso',\n",
       "       'Cape Verde', 'Cameroon', 'Central African Republic', 'Chad',\n",
       "       'Republic of the Congo', 'Ivory Coast', 'Djibouti', 'Egypt',\n",
       "       'Ethiopia', 'Gabon', 'Gambia', 'Ghana', 'Guinea', 'Guinea-Bissau',\n",
       "       'Kenya', 'Lesotho', 'Liberia', 'Madagascar', 'Malawi', 'Mali',\n",
       "       'Mauritania', 'Mauritius', 'Morocco', 'Mozambique', 'Namibia',\n",
       "       'Niger', 'Nigeria', 'Rwanda', 'Sao Tome and Principe', 'Senegal',\n",
       "       'Sierra Leone', 'South Africa', 'Sudan', 'Swaziland', 'Togo',\n",
       "       'Tunisia', 'Uganda', 'Tanzania', 'Zambia', 'Zimbabwe'],\n",
       "      dtype=object)"
      ]
     },
     "execution_count": 124,
     "metadata": {},
     "output_type": "execute_result"
    }
   ],
   "source": [
    "# slightly modify some country names in the food_supp_df and food_prod_df tables so that they can match \n",
    "# the ones obtained using the awoc module\n",
    "\n",
    "country_name_remapper = {\n",
    "    'Congo' : 'Republic of the Congo',\n",
    "    \"Cote d'Ivoire\" : 'Ivory Coast',\n",
    "    'Cabo Verde': 'Cape Verde',\n",
    "    'United Republic of Tanzania': 'Tanzania',\n",
    "}\n",
    "\n",
    "food_prod_df['Country'] = food_prod_df['Country'].replace(country_name_remapper)\n",
    "food_prod_df['Country'].unique()"
   ]
  },
  {
   "cell_type": "code",
   "execution_count": 125,
   "id": "2a20ea99",
   "metadata": {},
   "outputs": [
    {
     "data": {
      "text/plain": [
       "array(['Algeria', 'Angola', 'Benin', 'Botswana', 'Burkina Faso',\n",
       "       'Cape Verde', 'Cameroon', 'Central African Republic', 'Chad',\n",
       "       'Republic of the Congo', 'Ivory Coast', 'Djibouti', 'Egypt',\n",
       "       'Ethiopia', 'Gabon', 'Gambia', 'Ghana', 'Guinea', 'Guinea-Bissau',\n",
       "       'Kenya', 'Lesotho', 'Liberia', 'Madagascar', 'Malawi', 'Mali',\n",
       "       'Mauritania', 'Mauritius', 'Morocco', 'Mozambique', 'Namibia',\n",
       "       'Niger', 'Nigeria', 'Rwanda', 'Sao Tome and Principe', 'Senegal',\n",
       "       'Sierra Leone', 'South Africa', 'Sudan', 'Swaziland', 'Togo',\n",
       "       'Tunisia', 'Uganda', 'Tanzania', 'Zambia', 'Zimbabwe'],\n",
       "      dtype=object)"
      ]
     },
     "execution_count": 125,
     "metadata": {},
     "output_type": "execute_result"
    }
   ],
   "source": [
    "food_supp_df['Country'] = food_supp_df['Country'].replace(country_name_remapper)\n",
    "food_supp_df['Country'].unique()"
   ]
  },
  {
   "cell_type": "code",
   "execution_count": 126,
   "id": "bde3b622",
   "metadata": {},
   "outputs": [
    {
     "name": "stdout",
     "output_type": "stream",
     "text": [
      "set()\n"
     ]
    }
   ],
   "source": [
    "# Ensure that no country is missed out before merging\n",
    "# It should return empty set if true\n",
    "\n",
    "print(set(food_supp_df['Country']) - set(african_countries))"
   ]
  },
  {
   "cell_type": "code",
   "execution_count": 127,
   "id": "82b86539",
   "metadata": {},
   "outputs": [
    {
     "data": {
      "text/html": [
       "<div>\n",
       "<style scoped>\n",
       "    .dataframe tbody tr th:only-of-type {\n",
       "        vertical-align: middle;\n",
       "    }\n",
       "\n",
       "    .dataframe tbody tr th {\n",
       "        vertical-align: top;\n",
       "    }\n",
       "\n",
       "    .dataframe thead th {\n",
       "        text-align: right;\n",
       "    }\n",
       "</style>\n",
       "<table border=\"1\" class=\"dataframe\">\n",
       "  <thead>\n",
       "    <tr style=\"text-align: right;\">\n",
       "      <th></th>\n",
       "      <th>Country</th>\n",
       "      <th>Year</th>\n",
       "      <th>Value</th>\n",
       "      <th>ISO3</th>\n",
       "    </tr>\n",
       "  </thead>\n",
       "  <tbody>\n",
       "    <tr>\n",
       "      <th>0</th>\n",
       "      <td>Algeria</td>\n",
       "      <td>2004</td>\n",
       "      <td>2987</td>\n",
       "      <td>DZA</td>\n",
       "    </tr>\n",
       "    <tr>\n",
       "      <th>1</th>\n",
       "      <td>Algeria</td>\n",
       "      <td>2005</td>\n",
       "      <td>2958</td>\n",
       "      <td>DZA</td>\n",
       "    </tr>\n",
       "    <tr>\n",
       "      <th>2</th>\n",
       "      <td>Algeria</td>\n",
       "      <td>2006</td>\n",
       "      <td>3047</td>\n",
       "      <td>DZA</td>\n",
       "    </tr>\n",
       "    <tr>\n",
       "      <th>3</th>\n",
       "      <td>Algeria</td>\n",
       "      <td>2007</td>\n",
       "      <td>3041</td>\n",
       "      <td>DZA</td>\n",
       "    </tr>\n",
       "    <tr>\n",
       "      <th>4</th>\n",
       "      <td>Algeria</td>\n",
       "      <td>2008</td>\n",
       "      <td>3048</td>\n",
       "      <td>DZA</td>\n",
       "    </tr>\n",
       "    <tr>\n",
       "      <th>...</th>\n",
       "      <td>...</td>\n",
       "      <td>...</td>\n",
       "      <td>...</td>\n",
       "      <td>...</td>\n",
       "    </tr>\n",
       "    <tr>\n",
       "      <th>445</th>\n",
       "      <td>Zimbabwe</td>\n",
       "      <td>2009</td>\n",
       "      <td>2147</td>\n",
       "      <td>ZWE</td>\n",
       "    </tr>\n",
       "    <tr>\n",
       "      <th>446</th>\n",
       "      <td>Zimbabwe</td>\n",
       "      <td>2010</td>\n",
       "      <td>2168</td>\n",
       "      <td>ZWE</td>\n",
       "    </tr>\n",
       "    <tr>\n",
       "      <th>447</th>\n",
       "      <td>Zimbabwe</td>\n",
       "      <td>2011</td>\n",
       "      <td>2200</td>\n",
       "      <td>ZWE</td>\n",
       "    </tr>\n",
       "    <tr>\n",
       "      <th>448</th>\n",
       "      <td>Zimbabwe</td>\n",
       "      <td>2012</td>\n",
       "      <td>2197</td>\n",
       "      <td>ZWE</td>\n",
       "    </tr>\n",
       "    <tr>\n",
       "      <th>449</th>\n",
       "      <td>Zimbabwe</td>\n",
       "      <td>2013</td>\n",
       "      <td>2110</td>\n",
       "      <td>ZWE</td>\n",
       "    </tr>\n",
       "  </tbody>\n",
       "</table>\n",
       "<p>450 rows × 4 columns</p>\n",
       "</div>"
      ],
      "text/plain": [
       "      Country  Year  Value ISO3\n",
       "0     Algeria  2004   2987  DZA\n",
       "1     Algeria  2005   2958  DZA\n",
       "2     Algeria  2006   3047  DZA\n",
       "3     Algeria  2007   3041  DZA\n",
       "4     Algeria  2008   3048  DZA\n",
       "..        ...   ...    ...  ...\n",
       "445  Zimbabwe  2009   2147  ZWE\n",
       "446  Zimbabwe  2010   2168  ZWE\n",
       "447  Zimbabwe  2011   2200  ZWE\n",
       "448  Zimbabwe  2012   2197  ZWE\n",
       "449  Zimbabwe  2013   2110  ZWE\n",
       "\n",
       "[450 rows x 4 columns]"
      ]
     },
     "execution_count": 127,
     "metadata": {},
     "output_type": "execute_result"
    }
   ],
   "source": [
    "# Let's pull additional country information from the module\n",
    "\n",
    "# Country ISO3\n",
    "food_supp_df['ISO3'] = food_supp_df.apply(lambda x: countries_list.get_country_ISO3(x.Country), axis=1)\n",
    "food_supp_df"
   ]
  },
  {
   "cell_type": "code",
   "execution_count": 128,
   "id": "4823c2fc",
   "metadata": {},
   "outputs": [
    {
     "data": {
      "text/html": [
       "<div>\n",
       "<style scoped>\n",
       "    .dataframe tbody tr th:only-of-type {\n",
       "        vertical-align: middle;\n",
       "    }\n",
       "\n",
       "    .dataframe tbody tr th {\n",
       "        vertical-align: top;\n",
       "    }\n",
       "\n",
       "    .dataframe thead th {\n",
       "        text-align: right;\n",
       "    }\n",
       "</style>\n",
       "<table border=\"1\" class=\"dataframe\">\n",
       "  <thead>\n",
       "    <tr style=\"text-align: right;\">\n",
       "      <th></th>\n",
       "      <th>Country</th>\n",
       "      <th>Year</th>\n",
       "      <th>Value</th>\n",
       "      <th>ISO3</th>\n",
       "      <th>Sub-region</th>\n",
       "      <th>Intermediate region</th>\n",
       "    </tr>\n",
       "  </thead>\n",
       "  <tbody>\n",
       "    <tr>\n",
       "      <th>0</th>\n",
       "      <td>Algeria</td>\n",
       "      <td>2004</td>\n",
       "      <td>2987</td>\n",
       "      <td>DZA</td>\n",
       "      <td>Northern Africa</td>\n",
       "      <td>Northern Africa</td>\n",
       "    </tr>\n",
       "    <tr>\n",
       "      <th>1</th>\n",
       "      <td>Algeria</td>\n",
       "      <td>2005</td>\n",
       "      <td>2958</td>\n",
       "      <td>DZA</td>\n",
       "      <td>Northern Africa</td>\n",
       "      <td>Northern Africa</td>\n",
       "    </tr>\n",
       "    <tr>\n",
       "      <th>2</th>\n",
       "      <td>Algeria</td>\n",
       "      <td>2006</td>\n",
       "      <td>3047</td>\n",
       "      <td>DZA</td>\n",
       "      <td>Northern Africa</td>\n",
       "      <td>Northern Africa</td>\n",
       "    </tr>\n",
       "    <tr>\n",
       "      <th>3</th>\n",
       "      <td>Algeria</td>\n",
       "      <td>2007</td>\n",
       "      <td>3041</td>\n",
       "      <td>DZA</td>\n",
       "      <td>Northern Africa</td>\n",
       "      <td>Northern Africa</td>\n",
       "    </tr>\n",
       "    <tr>\n",
       "      <th>4</th>\n",
       "      <td>Algeria</td>\n",
       "      <td>2008</td>\n",
       "      <td>3048</td>\n",
       "      <td>DZA</td>\n",
       "      <td>Northern Africa</td>\n",
       "      <td>Northern Africa</td>\n",
       "    </tr>\n",
       "    <tr>\n",
       "      <th>...</th>\n",
       "      <td>...</td>\n",
       "      <td>...</td>\n",
       "      <td>...</td>\n",
       "      <td>...</td>\n",
       "      <td>...</td>\n",
       "      <td>...</td>\n",
       "    </tr>\n",
       "    <tr>\n",
       "      <th>445</th>\n",
       "      <td>Zimbabwe</td>\n",
       "      <td>2009</td>\n",
       "      <td>2147</td>\n",
       "      <td>ZWE</td>\n",
       "      <td>Sub-Saharan Africa</td>\n",
       "      <td>Eastern Africa</td>\n",
       "    </tr>\n",
       "    <tr>\n",
       "      <th>446</th>\n",
       "      <td>Zimbabwe</td>\n",
       "      <td>2010</td>\n",
       "      <td>2168</td>\n",
       "      <td>ZWE</td>\n",
       "      <td>Sub-Saharan Africa</td>\n",
       "      <td>Eastern Africa</td>\n",
       "    </tr>\n",
       "    <tr>\n",
       "      <th>447</th>\n",
       "      <td>Zimbabwe</td>\n",
       "      <td>2011</td>\n",
       "      <td>2200</td>\n",
       "      <td>ZWE</td>\n",
       "      <td>Sub-Saharan Africa</td>\n",
       "      <td>Eastern Africa</td>\n",
       "    </tr>\n",
       "    <tr>\n",
       "      <th>448</th>\n",
       "      <td>Zimbabwe</td>\n",
       "      <td>2012</td>\n",
       "      <td>2197</td>\n",
       "      <td>ZWE</td>\n",
       "      <td>Sub-Saharan Africa</td>\n",
       "      <td>Eastern Africa</td>\n",
       "    </tr>\n",
       "    <tr>\n",
       "      <th>449</th>\n",
       "      <td>Zimbabwe</td>\n",
       "      <td>2013</td>\n",
       "      <td>2110</td>\n",
       "      <td>ZWE</td>\n",
       "      <td>Sub-Saharan Africa</td>\n",
       "      <td>Eastern Africa</td>\n",
       "    </tr>\n",
       "  </tbody>\n",
       "</table>\n",
       "<p>450 rows × 6 columns</p>\n",
       "</div>"
      ],
      "text/plain": [
       "      Country  Year  Value ISO3          Sub-region Intermediate region\n",
       "0     Algeria  2004   2987  DZA     Northern Africa     Northern Africa\n",
       "1     Algeria  2005   2958  DZA     Northern Africa     Northern Africa\n",
       "2     Algeria  2006   3047  DZA     Northern Africa     Northern Africa\n",
       "3     Algeria  2007   3041  DZA     Northern Africa     Northern Africa\n",
       "4     Algeria  2008   3048  DZA     Northern Africa     Northern Africa\n",
       "..        ...   ...    ...  ...                 ...                 ...\n",
       "445  Zimbabwe  2009   2147  ZWE  Sub-Saharan Africa      Eastern Africa\n",
       "446  Zimbabwe  2010   2168  ZWE  Sub-Saharan Africa      Eastern Africa\n",
       "447  Zimbabwe  2011   2200  ZWE  Sub-Saharan Africa      Eastern Africa\n",
       "448  Zimbabwe  2012   2197  ZWE  Sub-Saharan Africa      Eastern Africa\n",
       "449  Zimbabwe  2013   2110  ZWE  Sub-Saharan Africa      Eastern Africa\n",
       "\n",
       "[450 rows x 6 columns]"
      ]
     },
     "execution_count": 128,
     "metadata": {},
     "output_type": "execute_result"
    }
   ],
   "source": [
    "# Using the ISO3 column, let's fetch additional data for each country from the country_dim table\n",
    "\n",
    "food_supp_df = pd.merge(food_supp_df, country_dim_df, on='ISO3', how='left')\n",
    "food_supp_df"
   ]
  },
  {
   "cell_type": "code",
   "execution_count": null,
   "id": "d559eb1e",
   "metadata": {},
   "outputs": [],
   "source": []
  },
  {
   "cell_type": "markdown",
   "id": "3f27ce3a",
   "metadata": {},
   "source": [
    "### Data Cleaning"
   ]
  },
  {
   "cell_type": "code",
   "execution_count": 129,
   "id": "2dbd179b",
   "metadata": {},
   "outputs": [
    {
     "name": "stdout",
     "output_type": "stream",
     "text": [
      "<class 'pandas.core.frame.DataFrame'>\n",
      "RangeIndex: 23110 entries, 0 to 23109\n",
      "Data columns (total 4 columns):\n",
      " #   Column   Non-Null Count  Dtype \n",
      "---  ------   --------------  ----- \n",
      " 0   Country  23110 non-null  object\n",
      " 1   Item     23110 non-null  object\n",
      " 2   Year     23110 non-null  int64 \n",
      " 3   Value    23110 non-null  int64 \n",
      "dtypes: int64(2), object(2)\n",
      "memory usage: 722.3+ KB\n"
     ]
    }
   ],
   "source": [
    "food_prod_df.info()"
   ]
  },
  {
   "cell_type": "code",
   "execution_count": 130,
   "id": "ff9c28bc",
   "metadata": {},
   "outputs": [
    {
     "data": {
      "text/plain": [
       "array(['Wheat and products', 'Rice (Milled Equivalent)',\n",
       "       'Barley and products', 'Maize and products', 'Oats',\n",
       "       'Sorghum and products', 'Cereals, Other', 'Potatoes and products',\n",
       "       'Sugar beet', 'Sugar (Raw Equivalent)', 'Honey', 'Beans', 'Peas',\n",
       "       'Pulses, Other and products', 'Nuts and products',\n",
       "       'Groundnuts (Shelled Eq)', 'Sunflower seed',\n",
       "       'Rape and Mustardseed', 'Cottonseed',\n",
       "       'Olives (including preserved)', 'Groundnut Oil',\n",
       "       'Sunflowerseed Oil', 'Rape and Mustard Oil', 'Olive Oil',\n",
       "       'Oilcrops Oil, Other', 'Tomatoes and products', 'Onions',\n",
       "       'Vegetables, Other', 'Oranges, Mandarines',\n",
       "       'Lemons, Limes and products', 'Grapefruit and products',\n",
       "       'Citrus, Other', 'Bananas', 'Apples and products', 'Dates',\n",
       "       'Grapes and products (excl wine)', 'Fruits, Other', 'Pimento',\n",
       "       'Wine', 'Beer', 'Beverages, Alcoholic', 'Bovine Meat',\n",
       "       'Mutton & Goat Meat', 'Pigmeat', 'Poultry Meat', 'Meat, Other',\n",
       "       'Offals, Edible', 'Butter, Ghee', 'Fats, Animals, Raw', 'Eggs',\n",
       "       'Milk - Excluding Butter', 'Freshwater Fish', 'Demersal Fish',\n",
       "       'Pelagic Fish', 'Marine Fish, Other', 'Crustaceans', 'Cephalopods',\n",
       "       'Molluscs, Other', 'Millet and products', 'Cassava and products',\n",
       "       'Sweet potatoes', 'Sugar cane', 'Soyabeans', 'Sesame seed',\n",
       "       'Palm kernels', 'Oilcrops, Other', 'Cottonseed Oil',\n",
       "       'Palmkernel Oil', 'Palm Oil', 'Pineapples and products',\n",
       "       'Coffee and products', 'Cocoa Beans and products',\n",
       "       'Beverages, Fermented', 'Fish, Body Oil', 'Yams', 'Roots, Other',\n",
       "       'Coconuts - Incl Copra', 'Soyabean Oil', 'Coconut Oil', 'Pepper',\n",
       "       'Aquatic Animals, Others', 'Sweeteners, Other', 'Cream',\n",
       "       'Fish, Liver Oil', 'Sesameseed Oil', 'Spices, Other',\n",
       "       'Aquatic Plants', 'Plantains', 'Tea (including mate)',\n",
       "       'Rye and products', 'Alcohol, Non-Food', 'Sugar non-centrifugal',\n",
       "       'Maize Germ Oil', 'Cloves'], dtype=object)"
      ]
     },
     "execution_count": 130,
     "metadata": {},
     "output_type": "execute_result"
    }
   ],
   "source": [
    "food_prod_df['Item'].unique()"
   ]
  },
  {
   "cell_type": "code",
   "execution_count": 131,
   "id": "a01d6b79",
   "metadata": {
    "scrolled": true
   },
   "outputs": [
    {
     "data": {
      "text/plain": [
       "[2731,\n",
       " 2415,\n",
       " 2688,\n",
       " 2319,\n",
       " 1111,\n",
       " 2953,\n",
       " 2605,\n",
       " 2555,\n",
       " 3432,\n",
       " 3299,\n",
       " 0,\n",
       " 0,\n",
       " 0,\n",
       " 0,\n",
       " 0,\n",
       " 0,\n",
       " 0,\n",
       " 0,\n",
       " 0,\n",
       " 0,\n",
       " 1212,\n",
       " 1033,\n",
       " 1236,\n",
       " 1187,\n",
       " 396,\n",
       " 2203,\n",
       " 1308,\n",
       " 1104,\n",
       " 1592,\n",
       " 1499,\n",
       " 1,\n",
       " 1,\n",
       " 2,\n",
       " 2,\n",
       " 1,\n",
       " 1,\n",
       " 0,\n",
       " 1,\n",
       " 2,\n",
       " 1,\n",
       " 89,\n",
       " 78,\n",
       " 89,\n",
       " 92,\n",
       " 27,\n",
       " 96,\n",
       " 88,\n",
       " 67,\n",
       " 110,\n",
       " 113,\n",
       " 1,\n",
       " 1,\n",
       " 2,\n",
       " 2,\n",
       " 1,\n",
       " 0,\n",
       " 0,\n",
       " 1,\n",
       " 2,\n",
       " 2,\n",
       " 0,\n",
       " 0,\n",
       " 0,\n",
       " 0,\n",
       " 0,\n",
       " 0,\n",
       " 0,\n",
       " 0,\n",
       " 0,\n",
       " 0,\n",
       " 1896,\n",
       " 2157,\n",
       " 2181,\n",
       " 1507,\n",
       " 2171,\n",
       " 2636,\n",
       " 3300,\n",
       " 3862,\n",
       " 4219,\n",
       " 4928,\n",
       " 0,\n",
       " 0,\n",
       " 0,\n",
       " 0,\n",
       " 0,\n",
       " 0,\n",
       " 0,\n",
       " 0,\n",
       " 0,\n",
       " 0,\n",
       " 0,\n",
       " 0,\n",
       " 0,\n",
       " 0,\n",
       " 0,\n",
       " 0,\n",
       " 0,\n",
       " 0,\n",
       " 0,\n",
       " 0,\n",
       " 3,\n",
       " 3,\n",
       " 3,\n",
       " 3,\n",
       " 3,\n",
       " 3,\n",
       " 5,\n",
       " 5,\n",
       " 5,\n",
       " 6,\n",
       " 2,\n",
       " 1,\n",
       " 1,\n",
       " 1,\n",
       " 1,\n",
       " 1,\n",
       " 1,\n",
       " 1,\n",
       " 1,\n",
       " 1,\n",
       " 7,\n",
       " 5,\n",
       " 5,\n",
       " 6,\n",
       " 4,\n",
       " 6,\n",
       " 7,\n",
       " 7,\n",
       " 9,\n",
       " 11,\n",
       " 49,\n",
       " 41,\n",
       " 38,\n",
       " 43,\n",
       " 36,\n",
       " 57,\n",
       " 65,\n",
       " 71,\n",
       " 74,\n",
       " 84,\n",
       " 38,\n",
       " 45,\n",
       " 54,\n",
       " 34,\n",
       " 40,\n",
       " 47,\n",
       " 57,\n",
       " 22,\n",
       " 34,\n",
       " 35,\n",
       " 3,\n",
       " 2,\n",
       " 2,\n",
       " 2,\n",
       " 2,\n",
       " 2,\n",
       " 2,\n",
       " 2,\n",
       " 2,\n",
       " 2,\n",
       " 0,\n",
       " 0,\n",
       " 0,\n",
       " 0,\n",
       " 0,\n",
       " 0,\n",
       " 0,\n",
       " 0,\n",
       " 0,\n",
       " 0,\n",
       " 29,\n",
       " 29,\n",
       " 29,\n",
       " 29,\n",
       " 35,\n",
       " 37,\n",
       " 39,\n",
       " 45,\n",
       " 47,\n",
       " 47,\n",
       " 0,\n",
       " 0,\n",
       " 0,\n",
       " 0,\n",
       " 0,\n",
       " 0,\n",
       " 0,\n",
       " 0,\n",
       " 0,\n",
       " 0,\n",
       " 469,\n",
       " 316,\n",
       " 265,\n",
       " 209,\n",
       " 254,\n",
       " 475,\n",
       " 311,\n",
       " 611,\n",
       " 394,\n",
       " 579,\n",
       " 19,\n",
       " 23,\n",
       " 18,\n",
       " 20,\n",
       " 23,\n",
       " 22,\n",
       " 14,\n",
       " 20,\n",
       " 15,\n",
       " 20,\n",
       " 1,\n",
       " 1,\n",
       " 1,\n",
       " 1,\n",
       " 1,\n",
       " 1,\n",
       " 1,\n",
       " 0,\n",
       " 1,\n",
       " 1,\n",
       " 9,\n",
       " 9,\n",
       " 9,\n",
       " 9,\n",
       " 11,\n",
       " 12,\n",
       " 12,\n",
       " 14,\n",
       " 15,\n",
       " 15,\n",
       " 61,\n",
       " 37,\n",
       " 34,\n",
       " 24,\n",
       " 39,\n",
       " 54,\n",
       " 43,\n",
       " 60,\n",
       " 51,\n",
       " 68,\n",
       " 2,\n",
       " 1,\n",
       " 2,\n",
       " 1,\n",
       " 3,\n",
       " 1,\n",
       " 1,\n",
       " 2,\n",
       " 2,\n",
       " 3,\n",
       " 1092,\n",
       " 1023,\n",
       " 796,\n",
       " 567,\n",
       " 559,\n",
       " 641,\n",
       " 718,\n",
       " 772,\n",
       " 797,\n",
       " 975,\n",
       " 658,\n",
       " 686,\n",
       " 704,\n",
       " 827,\n",
       " 759,\n",
       " 980,\n",
       " 1001,\n",
       " 1144,\n",
       " 1183,\n",
       " 1344,\n",
       " 2348,\n",
       " 2522,\n",
       " 2445,\n",
       " 2512,\n",
       " 2578,\n",
       " 3131,\n",
       " 3499,\n",
       " 3666,\n",
       " 4068,\n",
       " 4472,\n",
       " 561,\n",
       " 579,\n",
       " 631,\n",
       " 647,\n",
       " 653,\n",
       " 783,\n",
       " 734,\n",
       " 1033,\n",
       " 1010,\n",
       " 1122,\n",
       " 46,\n",
       " 47,\n",
       " 47,\n",
       " 45,\n",
       " 43,\n",
       " 60,\n",
       " 52,\n",
       " 72,\n",
       " 76,\n",
       " 81,\n",
       " 2,\n",
       " 2,\n",
       " 3,\n",
       " 1,\n",
       " 1,\n",
       " 1,\n",
       " 2,\n",
       " 2,\n",
       " 2,\n",
       " 2,\n",
       " 0,\n",
       " 0,\n",
       " 0,\n",
       " 0,\n",
       " 0,\n",
       " 0,\n",
       " 1,\n",
       " 1,\n",
       " 1,\n",
       " 1,\n",
       " 0,\n",
       " 0,\n",
       " 0,\n",
       " 0,\n",
       " 0,\n",
       " 0,\n",
       " 0,\n",
       " 0,\n",
       " 0,\n",
       " 0,\n",
       " 165,\n",
       " 200,\n",
       " 283,\n",
       " 190,\n",
       " 261,\n",
       " 267,\n",
       " 379,\n",
       " 404,\n",
       " 398,\n",
       " 456,\n",
       " 443,\n",
       " 516,\n",
       " 491,\n",
       " 527,\n",
       " 553,\n",
       " 601,\n",
       " 645,\n",
       " 725,\n",
       " 789,\n",
       " 848,\n",
       " 284,\n",
       " 334,\n",
       " 398,\n",
       " 245,\n",
       " 402,\n",
       " 493,\n",
       " 561,\n",
       " 403,\n",
       " 543,\n",
       " 571,\n",
       " 480,\n",
       " 602,\n",
       " 737,\n",
       " 530,\n",
       " 703,\n",
       " 783,\n",
       " 931,\n",
       " 1036,\n",
       " 1015,\n",
       " 1148,\n",
       " 6,\n",
       " 8,\n",
       " 9,\n",
       " 6,\n",
       " 8,\n",
       " 9,\n",
       " 12,\n",
       " 13,\n",
       " 14,\n",
       " 15,\n",
       " 85,\n",
       " 90,\n",
       " 105,\n",
       " 52,\n",
       " 50,\n",
       " 59,\n",
       " 48,\n",
       " 48,\n",
       " 49,\n",
       " 50,\n",
       " 110,\n",
       " 118,\n",
       " 125,\n",
       " 130,\n",
       " 141,\n",
       " 140,\n",
       " 141,\n",
       " 143,\n",
       " 145,\n",
       " 165,\n",
       " 0,\n",
       " 0,\n",
       " 0,\n",
       " 0,\n",
       " 0,\n",
       " 0,\n",
       " 0,\n",
       " 0,\n",
       " 0,\n",
       " 0,\n",
       " 125,\n",
       " 120,\n",
       " 122,\n",
       " 123,\n",
       " 125,\n",
       " 131,\n",
       " 126,\n",
       " 125,\n",
       " 136,\n",
       " 140,\n",
       " 185,\n",
       " 191,\n",
       " 199,\n",
       " 201,\n",
       " 193,\n",
       " 212,\n",
       " 221,\n",
       " 270,\n",
       " 279,\n",
       " 298,\n",
       " 0,\n",
       " 0,\n",
       " 0,\n",
       " 0,\n",
       " 0,\n",
       " 0,\n",
       " 0,\n",
       " 0,\n",
       " 0,\n",
       " 0,\n",
       " 268,\n",
       " 270,\n",
       " 261,\n",
       " 266,\n",
       " 267,\n",
       " 270,\n",
       " 275,\n",
       " 277,\n",
       " 289,\n",
       " 288,\n",
       " 11,\n",
       " 11,\n",
       " 12,\n",
       " 12,\n",
       " 12,\n",
       " 12,\n",
       " 13,\n",
       " 14,\n",
       " 14,\n",
       " 14,\n",
       " 40,\n",
       " 40,\n",
       " 41,\n",
       " 41,\n",
       " 41,\n",
       " 44,\n",
       " 45,\n",
       " 52,\n",
       " 53,\n",
       " 56,\n",
       " 2,\n",
       " 2,\n",
       " 2,\n",
       " 2,\n",
       " 2,\n",
       " 2,\n",
       " 2,\n",
       " 4,\n",
       " 4,\n",
       " 5,\n",
       " 7,\n",
       " 7,\n",
       " 7,\n",
       " 7,\n",
       " 7,\n",
       " 7,\n",
       " 8,\n",
       " 9,\n",
       " 9,\n",
       " 10,\n",
       " 180,\n",
       " 175,\n",
       " 178,\n",
       " 196,\n",
       " 184,\n",
       " 194,\n",
       " 260,\n",
       " 280,\n",
       " 309,\n",
       " 347,\n",
       " 1701,\n",
       " 1799,\n",
       " 2017,\n",
       " 1999,\n",
       " 1998,\n",
       " 2263,\n",
       " 2634,\n",
       " 2733,\n",
       " 2908,\n",
       " 3129,\n",
       " 1,\n",
       " 0,\n",
       " 0,\n",
       " 0,\n",
       " 3,\n",
       " 2,\n",
       " 2,\n",
       " 2,\n",
       " 2,\n",
       " 2,\n",
       " 10,\n",
       " 11,\n",
       " 10,\n",
       " 11,\n",
       " 15,\n",
       " 12,\n",
       " 11,\n",
       " 12,\n",
       " 12,\n",
       " 12,\n",
       " 100,\n",
       " 111,\n",
       " 132,\n",
       " 125,\n",
       " 106,\n",
       " 98,\n",
       " 66,\n",
       " 72,\n",
       " 74,\n",
       " 74,\n",
       " 0,\n",
       " 0,\n",
       " 0,\n",
       " 6,\n",
       " 14,\n",
       " 14,\n",
       " 14,\n",
       " 13,\n",
       " 17,\n",
       " 17,\n",
       " 3,\n",
       " 3,\n",
       " 2,\n",
       " 2,\n",
       " 2,\n",
       " 3,\n",
       " 2,\n",
       " 2,\n",
       " 2,\n",
       " 2,\n",
       " 1,\n",
       " 2,\n",
       " 1,\n",
       " 2,\n",
       " 2,\n",
       " 1,\n",
       " 1,\n",
       " 1,\n",
       " 1,\n",
       " 1,\n",
       " 0,\n",
       " 0,\n",
       " 0,\n",
       " 0,\n",
       " 0,\n",
       " 0,\n",
       " 0,\n",
       " 0,\n",
       " 0,\n",
       " 0,\n",
       " 4,\n",
       " 4,\n",
       " 4,\n",
       " 4,\n",
       " 4,\n",
       " 4,\n",
       " 4,\n",
       " 4,\n",
       " 4,\n",
       " 4,\n",
       " 9,\n",
       " 6,\n",
       " 3,\n",
       " 3,\n",
       " 6,\n",
       " 10,\n",
       " 12,\n",
       " 15,\n",
       " 14,\n",
       " 25,\n",
       " 577,\n",
       " 734,\n",
       " 526,\n",
       " 616,\n",
       " 702,\n",
       " 970,\n",
       " 1073,\n",
       " 1262,\n",
       " 454,\n",
       " 1549,\n",
       " 123,\n",
       " 138,\n",
       " 144,\n",
       " 77,\n",
       " 27,\n",
       " 28,\n",
       " 41,\n",
       " 61,\n",
       " 18,\n",
       " 39,\n",
       " 25,\n",
       " 30,\n",
       " 45,\n",
       " 79,\n",
       " 13,\n",
       " 40,\n",
       " 47,\n",
       " 62,\n",
       " 11,\n",
       " 46,\n",
       " 8587,\n",
       " 8806,\n",
       " 9037,\n",
       " 9730,\n",
       " 10057,\n",
       " 12828,\n",
       " 13859,\n",
       " 14334,\n",
       " 10636,\n",
       " 16412,\n",
       " 242,\n",
       " 307,\n",
       " 295,\n",
       " 491,\n",
       " 402,\n",
       " 823,\n",
       " 841,\n",
       " 841,\n",
       " 654,\n",
       " 670,\n",
       " 630,\n",
       " 664,\n",
       " 685,\n",
       " 949,\n",
       " 820,\n",
       " 983,\n",
       " 987,\n",
       " 1045,\n",
       " 645,\n",
       " 1200,\n",
       " 345,\n",
       " 345,\n",
       " 450,\n",
       " 500,\n",
       " 520,\n",
       " 500,\n",
       " 500,\n",
       " 510,\n",
       " 520,\n",
       " 510,\n",
       " 30,\n",
       " 30,\n",
       " 45,\n",
       " 50,\n",
       " 52,\n",
       " 50,\n",
       " 50,\n",
       " 51,\n",
       " 52,\n",
       " 51,\n",
       " 22,\n",
       " 24,\n",
       " 23,\n",
       " 26,\n",
       " 27,\n",
       " 26,\n",
       " 23,\n",
       " 23,\n",
       " 23,\n",
       " 23,\n",
       " 76,\n",
       " 109,\n",
       " 85,\n",
       " 104,\n",
       " 124,\n",
       " 247,\n",
       " 250,\n",
       " 304,\n",
       " 96,\n",
       " 312,\n",
       " 1,\n",
       " 2,\n",
       " 2,\n",
       " 2,\n",
       " 2,\n",
       " 2,\n",
       " 2,\n",
       " 2,\n",
       " 2,\n",
       " 2,\n",
       " 2,\n",
       " 2,\n",
       " 3,\n",
       " 7,\n",
       " 15,\n",
       " 6,\n",
       " 6,\n",
       " 8,\n",
       " 6,\n",
       " 10,\n",
       " 35,\n",
       " 46,\n",
       " 40,\n",
       " 47,\n",
       " 64,\n",
       " 78,\n",
       " 81,\n",
       " 113,\n",
       " 47,\n",
       " 134,\n",
       " 12,\n",
       " 14,\n",
       " 12,\n",
       " 10,\n",
       " 12,\n",
       " 11,\n",
       " 11,\n",
       " 12,\n",
       " 12,\n",
       " 12,\n",
       " 2,\n",
       " 2,\n",
       " 2,\n",
       " 2,\n",
       " 2,\n",
       " 2,\n",
       " 2,\n",
       " 3,\n",
       " 3,\n",
       " 3,\n",
       " 2,\n",
       " 2,\n",
       " 2,\n",
       " 2,\n",
       " 2,\n",
       " 2,\n",
       " 3,\n",
       " 3,\n",
       " 3,\n",
       " 3,\n",
       " 22,\n",
       " 22,\n",
       " 23,\n",
       " 23,\n",
       " 21,\n",
       " 23,\n",
       " 23,\n",
       " 23,\n",
       " 23,\n",
       " 23,\n",
       " 4,\n",
       " 4,\n",
       " 4,\n",
       " 3,\n",
       " 4,\n",
       " 3,\n",
       " 4,\n",
       " 4,\n",
       " 4,\n",
       " 4,\n",
       " 5,\n",
       " 7,\n",
       " 6,\n",
       " 7,\n",
       " 10,\n",
       " 12,\n",
       " 13,\n",
       " 25,\n",
       " 4,\n",
       " 32,\n",
       " 4,\n",
       " 5,\n",
       " 4,\n",
       " 4,\n",
       " 4,\n",
       " 4,\n",
       " 4,\n",
       " 4,\n",
       " 4,\n",
       " 4,\n",
       " 0,\n",
       " 0,\n",
       " 0,\n",
       " 0,\n",
       " 0,\n",
       " 0,\n",
       " 0,\n",
       " 1,\n",
       " 1,\n",
       " 1,\n",
       " 9,\n",
       " 9,\n",
       " 9,\n",
       " 10,\n",
       " 8,\n",
       " 10,\n",
       " 10,\n",
       " 9,\n",
       " 8,\n",
       " 9,\n",
       " 51,\n",
       " 53,\n",
       " 54,\n",
       " 55,\n",
       " 46,\n",
       " 55,\n",
       " 57,\n",
       " 50,\n",
       " 48,\n",
       " 50,\n",
       " 2,\n",
       " 2,\n",
       " 2,\n",
       " 1,\n",
       " 2,\n",
       " 2,\n",
       " 2,\n",
       " 2,\n",
       " 2,\n",
       " 2,\n",
       " 14,\n",
       " 15,\n",
       " 18,\n",
       " 14,\n",
       " 15,\n",
       " 17,\n",
       " 16,\n",
       " 16,\n",
       " 17,\n",
       " 17,\n",
       " 279,\n",
       " 261,\n",
       " 311,\n",
       " 335,\n",
       " 897,\n",
       " 1338,\n",
       " 1417,\n",
       " 1532,\n",
       " 1436,\n",
       " 1511,\n",
       " 84,\n",
       " 85,\n",
       " 92,\n",
       " 91,\n",
       " 106,\n",
       " 232,\n",
       " 248,\n",
       " 267,\n",
       " 200,\n",
       " 304,\n",
       " 800,\n",
       " 960,\n",
       " 1100,\n",
       " 1398,\n",
       " 1723,\n",
       " 1985,\n",
       " 2048,\n",
       " 2646,\n",
       " 2991,\n",
       " 3095,\n",
       " 41,\n",
       " 50,\n",
       " 75,\n",
       " 82,\n",
       " 95,\n",
       " 292,\n",
       " 313,\n",
       " 326,\n",
       " 281,\n",
       " 479,\n",
       " 34,\n",
       " 35,\n",
       " 37,\n",
       " 38,\n",
       " 39,\n",
       " 48,\n",
       " 32,\n",
       " 40,\n",
       " 40,\n",
       " 40,\n",
       " 2,\n",
       " 4,\n",
       " 5,\n",
       " 12,\n",
       " 4,\n",
       " 12,\n",
       " 46,\n",
       " 49,\n",
       " 50,\n",
       " 13,\n",
       " 0,\n",
       " 0,\n",
       " 0,\n",
       " 0,\n",
       " 0,\n",
       " 0,\n",
       " 0,\n",
       " 0,\n",
       " 0,\n",
       " 0,\n",
       " 206,\n",
       " 293,\n",
       " 375,\n",
       " 396,\n",
       " 533,\n",
       " 687,\n",
       " 736,\n",
       " 820,\n",
       " 950,\n",
       " 1050,\n",
       " 95,\n",
       " 99,\n",
       " 119,\n",
       " 131,\n",
       " 190,\n",
       " 238,\n",
       " 318,\n",
       " 472,\n",
       " 494,\n",
       " 446,\n",
       " 6,\n",
       " 6,\n",
       " 7,\n",
       " 8,\n",
       " 9,\n",
       " 8,\n",
       " 8,\n",
       " 8,\n",
       " 9,\n",
       " 8,\n",
       " 72,\n",
       " 85,\n",
       " 85,\n",
       " 92,\n",
       " 97,\n",
       " 98,\n",
       " 99,\n",
       " 100,\n",
       " 102,\n",
       " 105,\n",
       " 17,\n",
       " 18,\n",
       " 19,\n",
       " 19,\n",
       " 20,\n",
       " 20,\n",
       " 21,\n",
       " 22,\n",
       " 22,\n",
       " 23,\n",
       " 39,\n",
       " 40,\n",
       " 45,\n",
       " 50,\n",
       " 56,\n",
       " 62,\n",
       " 70,\n",
       " 77,\n",
       " 85,\n",
       " 94,\n",
       " 8,\n",
       " 8,\n",
       " 9,\n",
       " 11,\n",
       " 13,\n",
       " 16,\n",
       " 19,\n",
       " 22,\n",
       " 26,\n",
       " 30,\n",
       " 7,\n",
       " 7,\n",
       " 7,\n",
       " 7,\n",
       " 7,\n",
       " 8,\n",
       " 9,\n",
       " 9,\n",
       " 9,\n",
       " 9,\n",
       " ...]"
      ]
     },
     "execution_count": 131,
     "metadata": {},
     "output_type": "execute_result"
    }
   ],
   "source": [
    "food_prod_df['Value'].tolist()"
   ]
  },
  {
   "cell_type": "code",
   "execution_count": 132,
   "id": "b2410416",
   "metadata": {},
   "outputs": [
    {
     "name": "stdout",
     "output_type": "stream",
     "text": [
      "<class 'pandas.core.frame.DataFrame'>\n",
      "Int64Index: 450 entries, 0 to 449\n",
      "Data columns (total 6 columns):\n",
      " #   Column               Non-Null Count  Dtype \n",
      "---  ------               --------------  ----- \n",
      " 0   Country              450 non-null    object\n",
      " 1   Year                 450 non-null    int64 \n",
      " 2   Value                450 non-null    int64 \n",
      " 3   ISO3                 450 non-null    object\n",
      " 4   Sub-region           450 non-null    object\n",
      " 5   Intermediate region  450 non-null    object\n",
      "dtypes: int64(2), object(4)\n",
      "memory usage: 24.6+ KB\n"
     ]
    }
   ],
   "source": [
    "food_supp_df.info()"
   ]
  },
  {
   "cell_type": "markdown",
   "id": "9ce47c85",
   "metadata": {},
   "source": [
    "- Change column datatypes [Country, Item, Year, Sub-region, Intermediate region]\n",
    "- "
   ]
  },
  {
   "cell_type": "code",
   "execution_count": 133,
   "id": "67822128",
   "metadata": {},
   "outputs": [],
   "source": [
    "# food supply table\n",
    "dtype_mapper = {\n",
    "    'Country': 'category',\n",
    "    'Sub-region': 'category',\n",
    "    'Intermediate region': 'category',\n",
    "}\n",
    "\n",
    "food_supp_df = food_supp_df.astype(dtype_mapper)\n",
    "food_supp_df['Year'] = pd.to_datetime(food_supp_df['Year'], yearfirst=True, format='%Y')\n",
    "# food_supp_df['Year'] = pd.DatetimeIndex(food_supp_df['Year']).year"
   ]
  },
  {
   "cell_type": "code",
   "execution_count": 134,
   "id": "1941a751",
   "metadata": {},
   "outputs": [
    {
     "data": {
      "text/html": [
       "<div>\n",
       "<style scoped>\n",
       "    .dataframe tbody tr th:only-of-type {\n",
       "        vertical-align: middle;\n",
       "    }\n",
       "\n",
       "    .dataframe tbody tr th {\n",
       "        vertical-align: top;\n",
       "    }\n",
       "\n",
       "    .dataframe thead th {\n",
       "        text-align: right;\n",
       "    }\n",
       "</style>\n",
       "<table border=\"1\" class=\"dataframe\">\n",
       "  <thead>\n",
       "    <tr style=\"text-align: right;\">\n",
       "      <th></th>\n",
       "      <th>Country</th>\n",
       "      <th>Year</th>\n",
       "      <th>Value</th>\n",
       "      <th>ISO3</th>\n",
       "      <th>Sub-region</th>\n",
       "      <th>Intermediate region</th>\n",
       "    </tr>\n",
       "  </thead>\n",
       "  <tbody>\n",
       "    <tr>\n",
       "      <th>0</th>\n",
       "      <td>Algeria</td>\n",
       "      <td>2004-01-01</td>\n",
       "      <td>2987</td>\n",
       "      <td>DZA</td>\n",
       "      <td>Northern Africa</td>\n",
       "      <td>Northern Africa</td>\n",
       "    </tr>\n",
       "    <tr>\n",
       "      <th>1</th>\n",
       "      <td>Algeria</td>\n",
       "      <td>2005-01-01</td>\n",
       "      <td>2958</td>\n",
       "      <td>DZA</td>\n",
       "      <td>Northern Africa</td>\n",
       "      <td>Northern Africa</td>\n",
       "    </tr>\n",
       "    <tr>\n",
       "      <th>2</th>\n",
       "      <td>Algeria</td>\n",
       "      <td>2006-01-01</td>\n",
       "      <td>3047</td>\n",
       "      <td>DZA</td>\n",
       "      <td>Northern Africa</td>\n",
       "      <td>Northern Africa</td>\n",
       "    </tr>\n",
       "    <tr>\n",
       "      <th>3</th>\n",
       "      <td>Algeria</td>\n",
       "      <td>2007-01-01</td>\n",
       "      <td>3041</td>\n",
       "      <td>DZA</td>\n",
       "      <td>Northern Africa</td>\n",
       "      <td>Northern Africa</td>\n",
       "    </tr>\n",
       "    <tr>\n",
       "      <th>4</th>\n",
       "      <td>Algeria</td>\n",
       "      <td>2008-01-01</td>\n",
       "      <td>3048</td>\n",
       "      <td>DZA</td>\n",
       "      <td>Northern Africa</td>\n",
       "      <td>Northern Africa</td>\n",
       "    </tr>\n",
       "    <tr>\n",
       "      <th>...</th>\n",
       "      <td>...</td>\n",
       "      <td>...</td>\n",
       "      <td>...</td>\n",
       "      <td>...</td>\n",
       "      <td>...</td>\n",
       "      <td>...</td>\n",
       "    </tr>\n",
       "    <tr>\n",
       "      <th>445</th>\n",
       "      <td>Zimbabwe</td>\n",
       "      <td>2009-01-01</td>\n",
       "      <td>2147</td>\n",
       "      <td>ZWE</td>\n",
       "      <td>Sub-Saharan Africa</td>\n",
       "      <td>Eastern Africa</td>\n",
       "    </tr>\n",
       "    <tr>\n",
       "      <th>446</th>\n",
       "      <td>Zimbabwe</td>\n",
       "      <td>2010-01-01</td>\n",
       "      <td>2168</td>\n",
       "      <td>ZWE</td>\n",
       "      <td>Sub-Saharan Africa</td>\n",
       "      <td>Eastern Africa</td>\n",
       "    </tr>\n",
       "    <tr>\n",
       "      <th>447</th>\n",
       "      <td>Zimbabwe</td>\n",
       "      <td>2011-01-01</td>\n",
       "      <td>2200</td>\n",
       "      <td>ZWE</td>\n",
       "      <td>Sub-Saharan Africa</td>\n",
       "      <td>Eastern Africa</td>\n",
       "    </tr>\n",
       "    <tr>\n",
       "      <th>448</th>\n",
       "      <td>Zimbabwe</td>\n",
       "      <td>2012-01-01</td>\n",
       "      <td>2197</td>\n",
       "      <td>ZWE</td>\n",
       "      <td>Sub-Saharan Africa</td>\n",
       "      <td>Eastern Africa</td>\n",
       "    </tr>\n",
       "    <tr>\n",
       "      <th>449</th>\n",
       "      <td>Zimbabwe</td>\n",
       "      <td>2013-01-01</td>\n",
       "      <td>2110</td>\n",
       "      <td>ZWE</td>\n",
       "      <td>Sub-Saharan Africa</td>\n",
       "      <td>Eastern Africa</td>\n",
       "    </tr>\n",
       "  </tbody>\n",
       "</table>\n",
       "<p>450 rows × 6 columns</p>\n",
       "</div>"
      ],
      "text/plain": [
       "      Country       Year  Value ISO3          Sub-region Intermediate region\n",
       "0     Algeria 2004-01-01   2987  DZA     Northern Africa     Northern Africa\n",
       "1     Algeria 2005-01-01   2958  DZA     Northern Africa     Northern Africa\n",
       "2     Algeria 2006-01-01   3047  DZA     Northern Africa     Northern Africa\n",
       "3     Algeria 2007-01-01   3041  DZA     Northern Africa     Northern Africa\n",
       "4     Algeria 2008-01-01   3048  DZA     Northern Africa     Northern Africa\n",
       "..        ...        ...    ...  ...                 ...                 ...\n",
       "445  Zimbabwe 2009-01-01   2147  ZWE  Sub-Saharan Africa      Eastern Africa\n",
       "446  Zimbabwe 2010-01-01   2168  ZWE  Sub-Saharan Africa      Eastern Africa\n",
       "447  Zimbabwe 2011-01-01   2200  ZWE  Sub-Saharan Africa      Eastern Africa\n",
       "448  Zimbabwe 2012-01-01   2197  ZWE  Sub-Saharan Africa      Eastern Africa\n",
       "449  Zimbabwe 2013-01-01   2110  ZWE  Sub-Saharan Africa      Eastern Africa\n",
       "\n",
       "[450 rows x 6 columns]"
      ]
     },
     "execution_count": 134,
     "metadata": {},
     "output_type": "execute_result"
    }
   ],
   "source": [
    "food_supp_df"
   ]
  },
  {
   "cell_type": "code",
   "execution_count": 135,
   "id": "c55b0b09",
   "metadata": {},
   "outputs": [
    {
     "name": "stdout",
     "output_type": "stream",
     "text": [
      "<class 'pandas.core.frame.DataFrame'>\n",
      "Int64Index: 450 entries, 0 to 449\n",
      "Data columns (total 6 columns):\n",
      " #   Column               Non-Null Count  Dtype         \n",
      "---  ------               --------------  -----         \n",
      " 0   Country              450 non-null    category      \n",
      " 1   Year                 450 non-null    datetime64[ns]\n",
      " 2   Value                450 non-null    int64         \n",
      " 3   ISO3                 450 non-null    object        \n",
      " 4   Sub-region           450 non-null    category      \n",
      " 5   Intermediate region  450 non-null    category      \n",
      "dtypes: category(3), datetime64[ns](1), int64(1), object(1)\n",
      "memory usage: 17.1+ KB\n"
     ]
    }
   ],
   "source": [
    "food_supp_df.info()"
   ]
  },
  {
   "cell_type": "code",
   "execution_count": 136,
   "id": "b405209f",
   "metadata": {},
   "outputs": [],
   "source": [
    "# food production table\n",
    "dtype_mapper = {\n",
    "    'Country': 'category',\n",
    "    'Item': 'category',\n",
    "}\n",
    "\n",
    "food_prod_df = food_prod_df.astype(dtype_mapper)\n",
    "food_prod_df['Year'] = pd.to_datetime(food_prod_df['Year'], yearfirst=True, format='%Y')\n",
    "# food_prod_df['Year'] = pd.DatetimeIndex(food_prod_df['Year']).year"
   ]
  },
  {
   "cell_type": "code",
   "execution_count": null,
   "id": "1b84c055",
   "metadata": {},
   "outputs": [],
   "source": []
  },
  {
   "cell_type": "code",
   "execution_count": 137,
   "id": "fd852a46",
   "metadata": {},
   "outputs": [
    {
     "name": "stdout",
     "output_type": "stream",
     "text": [
      "<class 'pandas.core.frame.DataFrame'>\n",
      "RangeIndex: 23110 entries, 0 to 23109\n",
      "Data columns (total 4 columns):\n",
      " #   Column   Non-Null Count  Dtype         \n",
      "---  ------   --------------  -----         \n",
      " 0   Country  23110 non-null  category      \n",
      " 1   Item     23110 non-null  category      \n",
      " 2   Year     23110 non-null  datetime64[ns]\n",
      " 3   Value    23110 non-null  int64         \n",
      "dtypes: category(2), datetime64[ns](1), int64(1)\n",
      "memory usage: 410.5 KB\n"
     ]
    }
   ],
   "source": [
    "food_prod_df.info()"
   ]
  },
  {
   "cell_type": "code",
   "execution_count": null,
   "id": "89a26585",
   "metadata": {},
   "outputs": [],
   "source": []
  },
  {
   "cell_type": "code",
   "execution_count": 138,
   "id": "542b8f02",
   "metadata": {},
   "outputs": [],
   "source": [
    "food_prod_df2 = food_prod_df.copy()"
   ]
  },
  {
   "cell_type": "code",
   "execution_count": 139,
   "id": "bf13212b",
   "metadata": {},
   "outputs": [
    {
     "data": {
      "text/html": [
       "<div>\n",
       "<style scoped>\n",
       "    .dataframe tbody tr th:only-of-type {\n",
       "        vertical-align: middle;\n",
       "    }\n",
       "\n",
       "    .dataframe tbody tr th {\n",
       "        vertical-align: top;\n",
       "    }\n",
       "\n",
       "    .dataframe thead th {\n",
       "        text-align: right;\n",
       "    }\n",
       "</style>\n",
       "<table border=\"1\" class=\"dataframe\">\n",
       "  <thead>\n",
       "    <tr style=\"text-align: right;\">\n",
       "      <th></th>\n",
       "      <th>Country</th>\n",
       "      <th>Item</th>\n",
       "      <th>Year</th>\n",
       "      <th>Value</th>\n",
       "    </tr>\n",
       "  </thead>\n",
       "  <tbody>\n",
       "    <tr>\n",
       "      <th>0</th>\n",
       "      <td>Algeria</td>\n",
       "      <td>Wheat and products</td>\n",
       "      <td>2004-01-01</td>\n",
       "      <td>2731</td>\n",
       "    </tr>\n",
       "    <tr>\n",
       "      <th>1</th>\n",
       "      <td>Algeria</td>\n",
       "      <td>Wheat and products</td>\n",
       "      <td>2005-01-01</td>\n",
       "      <td>2415</td>\n",
       "    </tr>\n",
       "    <tr>\n",
       "      <th>2</th>\n",
       "      <td>Algeria</td>\n",
       "      <td>Wheat and products</td>\n",
       "      <td>2006-01-01</td>\n",
       "      <td>2688</td>\n",
       "    </tr>\n",
       "    <tr>\n",
       "      <th>3</th>\n",
       "      <td>Algeria</td>\n",
       "      <td>Wheat and products</td>\n",
       "      <td>2007-01-01</td>\n",
       "      <td>2319</td>\n",
       "    </tr>\n",
       "    <tr>\n",
       "      <th>4</th>\n",
       "      <td>Algeria</td>\n",
       "      <td>Wheat and products</td>\n",
       "      <td>2008-01-01</td>\n",
       "      <td>1111</td>\n",
       "    </tr>\n",
       "    <tr>\n",
       "      <th>...</th>\n",
       "      <td>...</td>\n",
       "      <td>...</td>\n",
       "      <td>...</td>\n",
       "      <td>...</td>\n",
       "    </tr>\n",
       "    <tr>\n",
       "      <th>23105</th>\n",
       "      <td>Zimbabwe</td>\n",
       "      <td>Crustaceans</td>\n",
       "      <td>2009-01-01</td>\n",
       "      <td>0</td>\n",
       "    </tr>\n",
       "    <tr>\n",
       "      <th>23106</th>\n",
       "      <td>Zimbabwe</td>\n",
       "      <td>Crustaceans</td>\n",
       "      <td>2010-01-01</td>\n",
       "      <td>0</td>\n",
       "    </tr>\n",
       "    <tr>\n",
       "      <th>23107</th>\n",
       "      <td>Zimbabwe</td>\n",
       "      <td>Crustaceans</td>\n",
       "      <td>2011-01-01</td>\n",
       "      <td>0</td>\n",
       "    </tr>\n",
       "    <tr>\n",
       "      <th>23108</th>\n",
       "      <td>Zimbabwe</td>\n",
       "      <td>Crustaceans</td>\n",
       "      <td>2012-01-01</td>\n",
       "      <td>0</td>\n",
       "    </tr>\n",
       "    <tr>\n",
       "      <th>23109</th>\n",
       "      <td>Zimbabwe</td>\n",
       "      <td>Crustaceans</td>\n",
       "      <td>2013-01-01</td>\n",
       "      <td>0</td>\n",
       "    </tr>\n",
       "  </tbody>\n",
       "</table>\n",
       "<p>23110 rows × 4 columns</p>\n",
       "</div>"
      ],
      "text/plain": [
       "        Country                Item       Year  Value\n",
       "0       Algeria  Wheat and products 2004-01-01   2731\n",
       "1       Algeria  Wheat and products 2005-01-01   2415\n",
       "2       Algeria  Wheat and products 2006-01-01   2688\n",
       "3       Algeria  Wheat and products 2007-01-01   2319\n",
       "4       Algeria  Wheat and products 2008-01-01   1111\n",
       "...         ...                 ...        ...    ...\n",
       "23105  Zimbabwe         Crustaceans 2009-01-01      0\n",
       "23106  Zimbabwe         Crustaceans 2010-01-01      0\n",
       "23107  Zimbabwe         Crustaceans 2011-01-01      0\n",
       "23108  Zimbabwe         Crustaceans 2012-01-01      0\n",
       "23109  Zimbabwe         Crustaceans 2013-01-01      0\n",
       "\n",
       "[23110 rows x 4 columns]"
      ]
     },
     "execution_count": 139,
     "metadata": {},
     "output_type": "execute_result"
    }
   ],
   "source": [
    "food_prod_df2"
   ]
  },
  {
   "cell_type": "code",
   "execution_count": null,
   "id": "601ccbde",
   "metadata": {},
   "outputs": [],
   "source": []
  },
  {
   "cell_type": "markdown",
   "id": "2ccd5242",
   "metadata": {},
   "source": [
    "### Preliminary Analysis"
   ]
  },
  {
   "cell_type": "code",
   "execution_count": 140,
   "id": "38c90196",
   "metadata": {},
   "outputs": [],
   "source": [
    "# Distribution of food production over time\n",
    "\n",
    "def dist_for_year_x(df, val):\n",
    "    '''\n",
    "    This function sums up the total food production value for each country for a particular year\n",
    "    '''\n",
    "    year_df = df[df['Year'] == val]\n",
    "    year_df = year_df.groupby('Country')['Value'].sum().reset_index()\n",
    "    return year_df\n",
    "    \n",
    "# y2004 = food_prod_df2[food_prod_df2['Year'] == '2004']\n",
    "# y2004 = y2004.groupby(['Country', 'Year'])['Value'].sum().reset_index()\n",
    "# y2004\n",
    "# food_prod_df2.groupby(['Country', 'Year'])['Value'].sum().reset_index()"
   ]
  },
  {
   "cell_type": "code",
   "execution_count": 141,
   "id": "03807e5e",
   "metadata": {},
   "outputs": [
    {
     "data": {
      "text/html": [
       "<div>\n",
       "<style scoped>\n",
       "    .dataframe tbody tr th:only-of-type {\n",
       "        vertical-align: middle;\n",
       "    }\n",
       "\n",
       "    .dataframe tbody tr th {\n",
       "        vertical-align: top;\n",
       "    }\n",
       "\n",
       "    .dataframe thead th {\n",
       "        text-align: right;\n",
       "    }\n",
       "</style>\n",
       "<table border=\"1\" class=\"dataframe\">\n",
       "  <thead>\n",
       "    <tr style=\"text-align: right;\">\n",
       "      <th></th>\n",
       "      <th>Country</th>\n",
       "      <th>Value</th>\n",
       "    </tr>\n",
       "  </thead>\n",
       "  <tbody>\n",
       "    <tr>\n",
       "      <th>0</th>\n",
       "      <td>Algeria</td>\n",
       "      <td>15536</td>\n",
       "    </tr>\n",
       "    <tr>\n",
       "      <th>1</th>\n",
       "      <td>Angola</td>\n",
       "      <td>13028</td>\n",
       "    </tr>\n",
       "    <tr>\n",
       "      <th>2</th>\n",
       "      <td>Benin</td>\n",
       "      <td>7963</td>\n",
       "    </tr>\n",
       "    <tr>\n",
       "      <th>3</th>\n",
       "      <td>Botswana</td>\n",
       "      <td>461</td>\n",
       "    </tr>\n",
       "    <tr>\n",
       "      <th>4</th>\n",
       "      <td>Burkina Faso</td>\n",
       "      <td>8323</td>\n",
       "    </tr>\n",
       "    <tr>\n",
       "      <th>5</th>\n",
       "      <td>Cameroon</td>\n",
       "      <td>13739</td>\n",
       "    </tr>\n",
       "    <tr>\n",
       "      <th>6</th>\n",
       "      <td>Cape Verde</td>\n",
       "      <td>148</td>\n",
       "    </tr>\n",
       "    <tr>\n",
       "      <th>7</th>\n",
       "      <td>Central African Republic</td>\n",
       "      <td>2242</td>\n",
       "    </tr>\n",
       "    <tr>\n",
       "      <th>8</th>\n",
       "      <td>Chad</td>\n",
       "      <td>3660</td>\n",
       "    </tr>\n",
       "    <tr>\n",
       "      <th>9</th>\n",
       "      <td>Djibouti</td>\n",
       "      <td>55</td>\n",
       "    </tr>\n",
       "    <tr>\n",
       "      <th>10</th>\n",
       "      <td>Egypt</td>\n",
       "      <td>75989</td>\n",
       "    </tr>\n",
       "    <tr>\n",
       "      <th>11</th>\n",
       "      <td>Ethiopia</td>\n",
       "      <td>26246</td>\n",
       "    </tr>\n",
       "    <tr>\n",
       "      <th>12</th>\n",
       "      <td>Gabon</td>\n",
       "      <td>1211</td>\n",
       "    </tr>\n",
       "    <tr>\n",
       "      <th>13</th>\n",
       "      <td>Gambia</td>\n",
       "      <td>473</td>\n",
       "    </tr>\n",
       "    <tr>\n",
       "      <th>14</th>\n",
       "      <td>Ghana</td>\n",
       "      <td>24040</td>\n",
       "    </tr>\n",
       "    <tr>\n",
       "      <th>15</th>\n",
       "      <td>Guinea</td>\n",
       "      <td>5891</td>\n",
       "    </tr>\n",
       "    <tr>\n",
       "      <th>16</th>\n",
       "      <td>Guinea-Bissau</td>\n",
       "      <td>637</td>\n",
       "    </tr>\n",
       "    <tr>\n",
       "      <th>17</th>\n",
       "      <td>Ivory Coast</td>\n",
       "      <td>16675</td>\n",
       "    </tr>\n",
       "    <tr>\n",
       "      <th>18</th>\n",
       "      <td>Kenya</td>\n",
       "      <td>20664</td>\n",
       "    </tr>\n",
       "    <tr>\n",
       "      <th>19</th>\n",
       "      <td>Lesotho</td>\n",
       "      <td>371</td>\n",
       "    </tr>\n",
       "    <tr>\n",
       "      <th>20</th>\n",
       "      <td>Liberia</td>\n",
       "      <td>1382</td>\n",
       "    </tr>\n",
       "    <tr>\n",
       "      <th>21</th>\n",
       "      <td>Madagascar</td>\n",
       "      <td>10360</td>\n",
       "    </tr>\n",
       "    <tr>\n",
       "      <th>22</th>\n",
       "      <td>Malawi</td>\n",
       "      <td>10917</td>\n",
       "    </tr>\n",
       "    <tr>\n",
       "      <th>23</th>\n",
       "      <td>Mali</td>\n",
       "      <td>6275</td>\n",
       "    </tr>\n",
       "    <tr>\n",
       "      <th>24</th>\n",
       "      <td>Mauritania</td>\n",
       "      <td>906</td>\n",
       "    </tr>\n",
       "    <tr>\n",
       "      <th>25</th>\n",
       "      <td>Mauritius</td>\n",
       "      <td>6081</td>\n",
       "    </tr>\n",
       "    <tr>\n",
       "      <th>26</th>\n",
       "      <td>Morocco</td>\n",
       "      <td>27244</td>\n",
       "    </tr>\n",
       "    <tr>\n",
       "      <th>27</th>\n",
       "      <td>Mozambique</td>\n",
       "      <td>12867</td>\n",
       "    </tr>\n",
       "    <tr>\n",
       "      <th>28</th>\n",
       "      <td>Namibia</td>\n",
       "      <td>1421</td>\n",
       "    </tr>\n",
       "    <tr>\n",
       "      <th>29</th>\n",
       "      <td>Niger</td>\n",
       "      <td>5852</td>\n",
       "    </tr>\n",
       "    <tr>\n",
       "      <th>30</th>\n",
       "      <td>Nigeria</td>\n",
       "      <td>149857</td>\n",
       "    </tr>\n",
       "    <tr>\n",
       "      <th>31</th>\n",
       "      <td>Republic of the Congo</td>\n",
       "      <td>2241</td>\n",
       "    </tr>\n",
       "    <tr>\n",
       "      <th>32</th>\n",
       "      <td>Rwanda</td>\n",
       "      <td>6863</td>\n",
       "    </tr>\n",
       "    <tr>\n",
       "      <th>33</th>\n",
       "      <td>Sao Tome and Principe</td>\n",
       "      <td>113</td>\n",
       "    </tr>\n",
       "    <tr>\n",
       "      <th>34</th>\n",
       "      <td>Senegal</td>\n",
       "      <td>4368</td>\n",
       "    </tr>\n",
       "    <tr>\n",
       "      <th>35</th>\n",
       "      <td>Sierra Leone</td>\n",
       "      <td>3592</td>\n",
       "    </tr>\n",
       "    <tr>\n",
       "      <th>36</th>\n",
       "      <td>South Africa</td>\n",
       "      <td>54949</td>\n",
       "    </tr>\n",
       "    <tr>\n",
       "      <th>37</th>\n",
       "      <td>Sudan</td>\n",
       "      <td>28646</td>\n",
       "    </tr>\n",
       "    <tr>\n",
       "      <th>38</th>\n",
       "      <td>Swaziland</td>\n",
       "      <td>5950</td>\n",
       "    </tr>\n",
       "    <tr>\n",
       "      <th>39</th>\n",
       "      <td>Tanzania</td>\n",
       "      <td>27389</td>\n",
       "    </tr>\n",
       "    <tr>\n",
       "      <th>40</th>\n",
       "      <td>Togo</td>\n",
       "      <td>2765</td>\n",
       "    </tr>\n",
       "    <tr>\n",
       "      <th>41</th>\n",
       "      <td>Tunisia</td>\n",
       "      <td>8503</td>\n",
       "    </tr>\n",
       "    <tr>\n",
       "      <th>42</th>\n",
       "      <td>Uganda</td>\n",
       "      <td>31819</td>\n",
       "    </tr>\n",
       "    <tr>\n",
       "      <th>43</th>\n",
       "      <td>Zambia</td>\n",
       "      <td>6310</td>\n",
       "    </tr>\n",
       "    <tr>\n",
       "      <th>44</th>\n",
       "      <td>Zimbabwe</td>\n",
       "      <td>8984</td>\n",
       "    </tr>\n",
       "  </tbody>\n",
       "</table>\n",
       "</div>"
      ],
      "text/plain": [
       "                     Country   Value\n",
       "0                    Algeria   15536\n",
       "1                     Angola   13028\n",
       "2                      Benin    7963\n",
       "3                   Botswana     461\n",
       "4               Burkina Faso    8323\n",
       "5                   Cameroon   13739\n",
       "6                 Cape Verde     148\n",
       "7   Central African Republic    2242\n",
       "8                       Chad    3660\n",
       "9                   Djibouti      55\n",
       "10                     Egypt   75989\n",
       "11                  Ethiopia   26246\n",
       "12                     Gabon    1211\n",
       "13                    Gambia     473\n",
       "14                     Ghana   24040\n",
       "15                    Guinea    5891\n",
       "16             Guinea-Bissau     637\n",
       "17               Ivory Coast   16675\n",
       "18                     Kenya   20664\n",
       "19                   Lesotho     371\n",
       "20                   Liberia    1382\n",
       "21                Madagascar   10360\n",
       "22                    Malawi   10917\n",
       "23                      Mali    6275\n",
       "24                Mauritania     906\n",
       "25                 Mauritius    6081\n",
       "26                   Morocco   27244\n",
       "27                Mozambique   12867\n",
       "28                   Namibia    1421\n",
       "29                     Niger    5852\n",
       "30                   Nigeria  149857\n",
       "31     Republic of the Congo    2241\n",
       "32                    Rwanda    6863\n",
       "33     Sao Tome and Principe     113\n",
       "34                   Senegal    4368\n",
       "35              Sierra Leone    3592\n",
       "36              South Africa   54949\n",
       "37                     Sudan   28646\n",
       "38                 Swaziland    5950\n",
       "39                  Tanzania   27389\n",
       "40                      Togo    2765\n",
       "41                   Tunisia    8503\n",
       "42                    Uganda   31819\n",
       "43                    Zambia    6310\n",
       "44                  Zimbabwe    8984"
      ]
     },
     "execution_count": 141,
     "metadata": {},
     "output_type": "execute_result"
    }
   ],
   "source": [
    "year_2004 = dist_for_year_x(food_prod_df, '2004')\n",
    "year_2004"
   ]
  },
  {
   "cell_type": "code",
   "execution_count": 142,
   "id": "d8efff34",
   "metadata": {},
   "outputs": [
    {
     "data": {
      "application/vnd.plotly.v1+json": {
       "config": {
        "plotlyServerURL": "https://plot.ly"
       },
       "data": [
        {
         "alignmentgroup": "True",
         "hovertemplate": "Country=%{x}<br>Value=%{y}<extra></extra>",
         "legendgroup": "",
         "marker": {
          "color": "#636efa",
          "pattern": {
           "shape": ""
          }
         },
         "name": "",
         "offsetgroup": "",
         "orientation": "v",
         "showlegend": false,
         "textposition": "auto",
         "type": "bar",
         "x": [
          "Algeria",
          "Angola",
          "Benin",
          "Botswana",
          "Burkina Faso",
          "Cameroon",
          "Cape Verde",
          "Central African Republic",
          "Chad",
          "Djibouti",
          "Egypt",
          "Ethiopia",
          "Gabon",
          "Gambia",
          "Ghana",
          "Guinea",
          "Guinea-Bissau",
          "Ivory Coast",
          "Kenya",
          "Lesotho",
          "Liberia",
          "Madagascar",
          "Malawi",
          "Mali",
          "Mauritania",
          "Mauritius",
          "Morocco",
          "Mozambique",
          "Namibia",
          "Niger",
          "Nigeria",
          "Republic of the Congo",
          "Rwanda",
          "Sao Tome and Principe",
          "Senegal",
          "Sierra Leone",
          "South Africa",
          "Sudan",
          "Swaziland",
          "Tanzania",
          "Togo",
          "Tunisia",
          "Uganda",
          "Zambia",
          "Zimbabwe"
         ],
         "xaxis": "x",
         "y": [
          15536,
          13028,
          7963,
          461,
          8323,
          13739,
          148,
          2242,
          3660,
          55,
          75989,
          26246,
          1211,
          473,
          24040,
          5891,
          637,
          16675,
          20664,
          371,
          1382,
          10360,
          10917,
          6275,
          906,
          6081,
          27244,
          12867,
          1421,
          5852,
          149857,
          2241,
          6863,
          113,
          4368,
          3592,
          54949,
          28646,
          5950,
          27389,
          2765,
          8503,
          31819,
          6310,
          8984
         ],
         "yaxis": "y"
        }
       ],
       "layout": {
        "barmode": "relative",
        "legend": {
         "tracegroupgap": 0
        },
        "margin": {
         "t": 60
        },
        "template": {
         "data": {
          "bar": [
           {
            "error_x": {
             "color": "#2a3f5f"
            },
            "error_y": {
             "color": "#2a3f5f"
            },
            "marker": {
             "line": {
              "color": "#E5ECF6",
              "width": 0.5
             },
             "pattern": {
              "fillmode": "overlay",
              "size": 10,
              "solidity": 0.2
             }
            },
            "type": "bar"
           }
          ],
          "barpolar": [
           {
            "marker": {
             "line": {
              "color": "#E5ECF6",
              "width": 0.5
             },
             "pattern": {
              "fillmode": "overlay",
              "size": 10,
              "solidity": 0.2
             }
            },
            "type": "barpolar"
           }
          ],
          "carpet": [
           {
            "aaxis": {
             "endlinecolor": "#2a3f5f",
             "gridcolor": "white",
             "linecolor": "white",
             "minorgridcolor": "white",
             "startlinecolor": "#2a3f5f"
            },
            "baxis": {
             "endlinecolor": "#2a3f5f",
             "gridcolor": "white",
             "linecolor": "white",
             "minorgridcolor": "white",
             "startlinecolor": "#2a3f5f"
            },
            "type": "carpet"
           }
          ],
          "choropleth": [
           {
            "colorbar": {
             "outlinewidth": 0,
             "ticks": ""
            },
            "type": "choropleth"
           }
          ],
          "contour": [
           {
            "colorbar": {
             "outlinewidth": 0,
             "ticks": ""
            },
            "colorscale": [
             [
              0,
              "#0d0887"
             ],
             [
              0.1111111111111111,
              "#46039f"
             ],
             [
              0.2222222222222222,
              "#7201a8"
             ],
             [
              0.3333333333333333,
              "#9c179e"
             ],
             [
              0.4444444444444444,
              "#bd3786"
             ],
             [
              0.5555555555555556,
              "#d8576b"
             ],
             [
              0.6666666666666666,
              "#ed7953"
             ],
             [
              0.7777777777777778,
              "#fb9f3a"
             ],
             [
              0.8888888888888888,
              "#fdca26"
             ],
             [
              1,
              "#f0f921"
             ]
            ],
            "type": "contour"
           }
          ],
          "contourcarpet": [
           {
            "colorbar": {
             "outlinewidth": 0,
             "ticks": ""
            },
            "type": "contourcarpet"
           }
          ],
          "heatmap": [
           {
            "colorbar": {
             "outlinewidth": 0,
             "ticks": ""
            },
            "colorscale": [
             [
              0,
              "#0d0887"
             ],
             [
              0.1111111111111111,
              "#46039f"
             ],
             [
              0.2222222222222222,
              "#7201a8"
             ],
             [
              0.3333333333333333,
              "#9c179e"
             ],
             [
              0.4444444444444444,
              "#bd3786"
             ],
             [
              0.5555555555555556,
              "#d8576b"
             ],
             [
              0.6666666666666666,
              "#ed7953"
             ],
             [
              0.7777777777777778,
              "#fb9f3a"
             ],
             [
              0.8888888888888888,
              "#fdca26"
             ],
             [
              1,
              "#f0f921"
             ]
            ],
            "type": "heatmap"
           }
          ],
          "heatmapgl": [
           {
            "colorbar": {
             "outlinewidth": 0,
             "ticks": ""
            },
            "colorscale": [
             [
              0,
              "#0d0887"
             ],
             [
              0.1111111111111111,
              "#46039f"
             ],
             [
              0.2222222222222222,
              "#7201a8"
             ],
             [
              0.3333333333333333,
              "#9c179e"
             ],
             [
              0.4444444444444444,
              "#bd3786"
             ],
             [
              0.5555555555555556,
              "#d8576b"
             ],
             [
              0.6666666666666666,
              "#ed7953"
             ],
             [
              0.7777777777777778,
              "#fb9f3a"
             ],
             [
              0.8888888888888888,
              "#fdca26"
             ],
             [
              1,
              "#f0f921"
             ]
            ],
            "type": "heatmapgl"
           }
          ],
          "histogram": [
           {
            "marker": {
             "pattern": {
              "fillmode": "overlay",
              "size": 10,
              "solidity": 0.2
             }
            },
            "type": "histogram"
           }
          ],
          "histogram2d": [
           {
            "colorbar": {
             "outlinewidth": 0,
             "ticks": ""
            },
            "colorscale": [
             [
              0,
              "#0d0887"
             ],
             [
              0.1111111111111111,
              "#46039f"
             ],
             [
              0.2222222222222222,
              "#7201a8"
             ],
             [
              0.3333333333333333,
              "#9c179e"
             ],
             [
              0.4444444444444444,
              "#bd3786"
             ],
             [
              0.5555555555555556,
              "#d8576b"
             ],
             [
              0.6666666666666666,
              "#ed7953"
             ],
             [
              0.7777777777777778,
              "#fb9f3a"
             ],
             [
              0.8888888888888888,
              "#fdca26"
             ],
             [
              1,
              "#f0f921"
             ]
            ],
            "type": "histogram2d"
           }
          ],
          "histogram2dcontour": [
           {
            "colorbar": {
             "outlinewidth": 0,
             "ticks": ""
            },
            "colorscale": [
             [
              0,
              "#0d0887"
             ],
             [
              0.1111111111111111,
              "#46039f"
             ],
             [
              0.2222222222222222,
              "#7201a8"
             ],
             [
              0.3333333333333333,
              "#9c179e"
             ],
             [
              0.4444444444444444,
              "#bd3786"
             ],
             [
              0.5555555555555556,
              "#d8576b"
             ],
             [
              0.6666666666666666,
              "#ed7953"
             ],
             [
              0.7777777777777778,
              "#fb9f3a"
             ],
             [
              0.8888888888888888,
              "#fdca26"
             ],
             [
              1,
              "#f0f921"
             ]
            ],
            "type": "histogram2dcontour"
           }
          ],
          "mesh3d": [
           {
            "colorbar": {
             "outlinewidth": 0,
             "ticks": ""
            },
            "type": "mesh3d"
           }
          ],
          "parcoords": [
           {
            "line": {
             "colorbar": {
              "outlinewidth": 0,
              "ticks": ""
             }
            },
            "type": "parcoords"
           }
          ],
          "pie": [
           {
            "automargin": true,
            "type": "pie"
           }
          ],
          "scatter": [
           {
            "fillpattern": {
             "fillmode": "overlay",
             "size": 10,
             "solidity": 0.2
            },
            "type": "scatter"
           }
          ],
          "scatter3d": [
           {
            "line": {
             "colorbar": {
              "outlinewidth": 0,
              "ticks": ""
             }
            },
            "marker": {
             "colorbar": {
              "outlinewidth": 0,
              "ticks": ""
             }
            },
            "type": "scatter3d"
           }
          ],
          "scattercarpet": [
           {
            "marker": {
             "colorbar": {
              "outlinewidth": 0,
              "ticks": ""
             }
            },
            "type": "scattercarpet"
           }
          ],
          "scattergeo": [
           {
            "marker": {
             "colorbar": {
              "outlinewidth": 0,
              "ticks": ""
             }
            },
            "type": "scattergeo"
           }
          ],
          "scattergl": [
           {
            "marker": {
             "colorbar": {
              "outlinewidth": 0,
              "ticks": ""
             }
            },
            "type": "scattergl"
           }
          ],
          "scattermapbox": [
           {
            "marker": {
             "colorbar": {
              "outlinewidth": 0,
              "ticks": ""
             }
            },
            "type": "scattermapbox"
           }
          ],
          "scatterpolar": [
           {
            "marker": {
             "colorbar": {
              "outlinewidth": 0,
              "ticks": ""
             }
            },
            "type": "scatterpolar"
           }
          ],
          "scatterpolargl": [
           {
            "marker": {
             "colorbar": {
              "outlinewidth": 0,
              "ticks": ""
             }
            },
            "type": "scatterpolargl"
           }
          ],
          "scatterternary": [
           {
            "marker": {
             "colorbar": {
              "outlinewidth": 0,
              "ticks": ""
             }
            },
            "type": "scatterternary"
           }
          ],
          "surface": [
           {
            "colorbar": {
             "outlinewidth": 0,
             "ticks": ""
            },
            "colorscale": [
             [
              0,
              "#0d0887"
             ],
             [
              0.1111111111111111,
              "#46039f"
             ],
             [
              0.2222222222222222,
              "#7201a8"
             ],
             [
              0.3333333333333333,
              "#9c179e"
             ],
             [
              0.4444444444444444,
              "#bd3786"
             ],
             [
              0.5555555555555556,
              "#d8576b"
             ],
             [
              0.6666666666666666,
              "#ed7953"
             ],
             [
              0.7777777777777778,
              "#fb9f3a"
             ],
             [
              0.8888888888888888,
              "#fdca26"
             ],
             [
              1,
              "#f0f921"
             ]
            ],
            "type": "surface"
           }
          ],
          "table": [
           {
            "cells": {
             "fill": {
              "color": "#EBF0F8"
             },
             "line": {
              "color": "white"
             }
            },
            "header": {
             "fill": {
              "color": "#C8D4E3"
             },
             "line": {
              "color": "white"
             }
            },
            "type": "table"
           }
          ]
         },
         "layout": {
          "annotationdefaults": {
           "arrowcolor": "#2a3f5f",
           "arrowhead": 0,
           "arrowwidth": 1
          },
          "autotypenumbers": "strict",
          "coloraxis": {
           "colorbar": {
            "outlinewidth": 0,
            "ticks": ""
           }
          },
          "colorscale": {
           "diverging": [
            [
             0,
             "#8e0152"
            ],
            [
             0.1,
             "#c51b7d"
            ],
            [
             0.2,
             "#de77ae"
            ],
            [
             0.3,
             "#f1b6da"
            ],
            [
             0.4,
             "#fde0ef"
            ],
            [
             0.5,
             "#f7f7f7"
            ],
            [
             0.6,
             "#e6f5d0"
            ],
            [
             0.7,
             "#b8e186"
            ],
            [
             0.8,
             "#7fbc41"
            ],
            [
             0.9,
             "#4d9221"
            ],
            [
             1,
             "#276419"
            ]
           ],
           "sequential": [
            [
             0,
             "#0d0887"
            ],
            [
             0.1111111111111111,
             "#46039f"
            ],
            [
             0.2222222222222222,
             "#7201a8"
            ],
            [
             0.3333333333333333,
             "#9c179e"
            ],
            [
             0.4444444444444444,
             "#bd3786"
            ],
            [
             0.5555555555555556,
             "#d8576b"
            ],
            [
             0.6666666666666666,
             "#ed7953"
            ],
            [
             0.7777777777777778,
             "#fb9f3a"
            ],
            [
             0.8888888888888888,
             "#fdca26"
            ],
            [
             1,
             "#f0f921"
            ]
           ],
           "sequentialminus": [
            [
             0,
             "#0d0887"
            ],
            [
             0.1111111111111111,
             "#46039f"
            ],
            [
             0.2222222222222222,
             "#7201a8"
            ],
            [
             0.3333333333333333,
             "#9c179e"
            ],
            [
             0.4444444444444444,
             "#bd3786"
            ],
            [
             0.5555555555555556,
             "#d8576b"
            ],
            [
             0.6666666666666666,
             "#ed7953"
            ],
            [
             0.7777777777777778,
             "#fb9f3a"
            ],
            [
             0.8888888888888888,
             "#fdca26"
            ],
            [
             1,
             "#f0f921"
            ]
           ]
          },
          "colorway": [
           "#636efa",
           "#EF553B",
           "#00cc96",
           "#ab63fa",
           "#FFA15A",
           "#19d3f3",
           "#FF6692",
           "#B6E880",
           "#FF97FF",
           "#FECB52"
          ],
          "font": {
           "color": "#2a3f5f"
          },
          "geo": {
           "bgcolor": "white",
           "lakecolor": "white",
           "landcolor": "#E5ECF6",
           "showlakes": true,
           "showland": true,
           "subunitcolor": "white"
          },
          "hoverlabel": {
           "align": "left"
          },
          "hovermode": "closest",
          "mapbox": {
           "style": "light"
          },
          "paper_bgcolor": "white",
          "plot_bgcolor": "#E5ECF6",
          "polar": {
           "angularaxis": {
            "gridcolor": "white",
            "linecolor": "white",
            "ticks": ""
           },
           "bgcolor": "#E5ECF6",
           "radialaxis": {
            "gridcolor": "white",
            "linecolor": "white",
            "ticks": ""
           }
          },
          "scene": {
           "xaxis": {
            "backgroundcolor": "#E5ECF6",
            "gridcolor": "white",
            "gridwidth": 2,
            "linecolor": "white",
            "showbackground": true,
            "ticks": "",
            "zerolinecolor": "white"
           },
           "yaxis": {
            "backgroundcolor": "#E5ECF6",
            "gridcolor": "white",
            "gridwidth": 2,
            "linecolor": "white",
            "showbackground": true,
            "ticks": "",
            "zerolinecolor": "white"
           },
           "zaxis": {
            "backgroundcolor": "#E5ECF6",
            "gridcolor": "white",
            "gridwidth": 2,
            "linecolor": "white",
            "showbackground": true,
            "ticks": "",
            "zerolinecolor": "white"
           }
          },
          "shapedefaults": {
           "line": {
            "color": "#2a3f5f"
           }
          },
          "ternary": {
           "aaxis": {
            "gridcolor": "white",
            "linecolor": "white",
            "ticks": ""
           },
           "baxis": {
            "gridcolor": "white",
            "linecolor": "white",
            "ticks": ""
           },
           "bgcolor": "#E5ECF6",
           "caxis": {
            "gridcolor": "white",
            "linecolor": "white",
            "ticks": ""
           }
          },
          "title": {
           "x": 0.05
          },
          "xaxis": {
           "automargin": true,
           "gridcolor": "white",
           "linecolor": "white",
           "ticks": "",
           "title": {
            "standoff": 15
           },
           "zerolinecolor": "white",
           "zerolinewidth": 2
          },
          "yaxis": {
           "automargin": true,
           "gridcolor": "white",
           "linecolor": "white",
           "ticks": "",
           "title": {
            "standoff": 15
           },
           "zerolinecolor": "white",
           "zerolinewidth": 2
          }
         }
        },
        "xaxis": {
         "anchor": "y",
         "domain": [
          0,
          1
         ],
         "title": {
          "text": "Country"
         }
        },
        "yaxis": {
         "anchor": "x",
         "domain": [
          0,
          1
         ],
         "title": {
          "text": "Value"
         }
        }
       }
      },
      "text/html": [
       "<div>                            <div id=\"2619f4af-cb1e-4f3c-85f0-c2b3b0fb4773\" class=\"plotly-graph-div\" style=\"height:525px; width:100%;\"></div>            <script type=\"text/javascript\">                require([\"plotly\"], function(Plotly) {                    window.PLOTLYENV=window.PLOTLYENV || {};                                    if (document.getElementById(\"2619f4af-cb1e-4f3c-85f0-c2b3b0fb4773\")) {                    Plotly.newPlot(                        \"2619f4af-cb1e-4f3c-85f0-c2b3b0fb4773\",                        [{\"alignmentgroup\":\"True\",\"hovertemplate\":\"Country=%{x}<br>Value=%{y}<extra></extra>\",\"legendgroup\":\"\",\"marker\":{\"color\":\"#636efa\",\"pattern\":{\"shape\":\"\"}},\"name\":\"\",\"offsetgroup\":\"\",\"orientation\":\"v\",\"showlegend\":false,\"textposition\":\"auto\",\"x\":[\"Algeria\",\"Angola\",\"Benin\",\"Botswana\",\"Burkina Faso\",\"Cameroon\",\"Cape Verde\",\"Central African Republic\",\"Chad\",\"Djibouti\",\"Egypt\",\"Ethiopia\",\"Gabon\",\"Gambia\",\"Ghana\",\"Guinea\",\"Guinea-Bissau\",\"Ivory Coast\",\"Kenya\",\"Lesotho\",\"Liberia\",\"Madagascar\",\"Malawi\",\"Mali\",\"Mauritania\",\"Mauritius\",\"Morocco\",\"Mozambique\",\"Namibia\",\"Niger\",\"Nigeria\",\"Republic of the Congo\",\"Rwanda\",\"Sao Tome and Principe\",\"Senegal\",\"Sierra Leone\",\"South Africa\",\"Sudan\",\"Swaziland\",\"Tanzania\",\"Togo\",\"Tunisia\",\"Uganda\",\"Zambia\",\"Zimbabwe\"],\"xaxis\":\"x\",\"y\":[15536,13028,7963,461,8323,13739,148,2242,3660,55,75989,26246,1211,473,24040,5891,637,16675,20664,371,1382,10360,10917,6275,906,6081,27244,12867,1421,5852,149857,2241,6863,113,4368,3592,54949,28646,5950,27389,2765,8503,31819,6310,8984],\"yaxis\":\"y\",\"type\":\"bar\"}],                        {\"template\":{\"data\":{\"histogram2dcontour\":[{\"type\":\"histogram2dcontour\",\"colorbar\":{\"outlinewidth\":0,\"ticks\":\"\"},\"colorscale\":[[0.0,\"#0d0887\"],[0.1111111111111111,\"#46039f\"],[0.2222222222222222,\"#7201a8\"],[0.3333333333333333,\"#9c179e\"],[0.4444444444444444,\"#bd3786\"],[0.5555555555555556,\"#d8576b\"],[0.6666666666666666,\"#ed7953\"],[0.7777777777777778,\"#fb9f3a\"],[0.8888888888888888,\"#fdca26\"],[1.0,\"#f0f921\"]]}],\"choropleth\":[{\"type\":\"choropleth\",\"colorbar\":{\"outlinewidth\":0,\"ticks\":\"\"}}],\"histogram2d\":[{\"type\":\"histogram2d\",\"colorbar\":{\"outlinewidth\":0,\"ticks\":\"\"},\"colorscale\":[[0.0,\"#0d0887\"],[0.1111111111111111,\"#46039f\"],[0.2222222222222222,\"#7201a8\"],[0.3333333333333333,\"#9c179e\"],[0.4444444444444444,\"#bd3786\"],[0.5555555555555556,\"#d8576b\"],[0.6666666666666666,\"#ed7953\"],[0.7777777777777778,\"#fb9f3a\"],[0.8888888888888888,\"#fdca26\"],[1.0,\"#f0f921\"]]}],\"heatmap\":[{\"type\":\"heatmap\",\"colorbar\":{\"outlinewidth\":0,\"ticks\":\"\"},\"colorscale\":[[0.0,\"#0d0887\"],[0.1111111111111111,\"#46039f\"],[0.2222222222222222,\"#7201a8\"],[0.3333333333333333,\"#9c179e\"],[0.4444444444444444,\"#bd3786\"],[0.5555555555555556,\"#d8576b\"],[0.6666666666666666,\"#ed7953\"],[0.7777777777777778,\"#fb9f3a\"],[0.8888888888888888,\"#fdca26\"],[1.0,\"#f0f921\"]]}],\"heatmapgl\":[{\"type\":\"heatmapgl\",\"colorbar\":{\"outlinewidth\":0,\"ticks\":\"\"},\"colorscale\":[[0.0,\"#0d0887\"],[0.1111111111111111,\"#46039f\"],[0.2222222222222222,\"#7201a8\"],[0.3333333333333333,\"#9c179e\"],[0.4444444444444444,\"#bd3786\"],[0.5555555555555556,\"#d8576b\"],[0.6666666666666666,\"#ed7953\"],[0.7777777777777778,\"#fb9f3a\"],[0.8888888888888888,\"#fdca26\"],[1.0,\"#f0f921\"]]}],\"contourcarpet\":[{\"type\":\"contourcarpet\",\"colorbar\":{\"outlinewidth\":0,\"ticks\":\"\"}}],\"contour\":[{\"type\":\"contour\",\"colorbar\":{\"outlinewidth\":0,\"ticks\":\"\"},\"colorscale\":[[0.0,\"#0d0887\"],[0.1111111111111111,\"#46039f\"],[0.2222222222222222,\"#7201a8\"],[0.3333333333333333,\"#9c179e\"],[0.4444444444444444,\"#bd3786\"],[0.5555555555555556,\"#d8576b\"],[0.6666666666666666,\"#ed7953\"],[0.7777777777777778,\"#fb9f3a\"],[0.8888888888888888,\"#fdca26\"],[1.0,\"#f0f921\"]]}],\"surface\":[{\"type\":\"surface\",\"colorbar\":{\"outlinewidth\":0,\"ticks\":\"\"},\"colorscale\":[[0.0,\"#0d0887\"],[0.1111111111111111,\"#46039f\"],[0.2222222222222222,\"#7201a8\"],[0.3333333333333333,\"#9c179e\"],[0.4444444444444444,\"#bd3786\"],[0.5555555555555556,\"#d8576b\"],[0.6666666666666666,\"#ed7953\"],[0.7777777777777778,\"#fb9f3a\"],[0.8888888888888888,\"#fdca26\"],[1.0,\"#f0f921\"]]}],\"mesh3d\":[{\"type\":\"mesh3d\",\"colorbar\":{\"outlinewidth\":0,\"ticks\":\"\"}}],\"scatter\":[{\"fillpattern\":{\"fillmode\":\"overlay\",\"size\":10,\"solidity\":0.2},\"type\":\"scatter\"}],\"parcoords\":[{\"type\":\"parcoords\",\"line\":{\"colorbar\":{\"outlinewidth\":0,\"ticks\":\"\"}}}],\"scatterpolargl\":[{\"type\":\"scatterpolargl\",\"marker\":{\"colorbar\":{\"outlinewidth\":0,\"ticks\":\"\"}}}],\"bar\":[{\"error_x\":{\"color\":\"#2a3f5f\"},\"error_y\":{\"color\":\"#2a3f5f\"},\"marker\":{\"line\":{\"color\":\"#E5ECF6\",\"width\":0.5},\"pattern\":{\"fillmode\":\"overlay\",\"size\":10,\"solidity\":0.2}},\"type\":\"bar\"}],\"scattergeo\":[{\"type\":\"scattergeo\",\"marker\":{\"colorbar\":{\"outlinewidth\":0,\"ticks\":\"\"}}}],\"scatterpolar\":[{\"type\":\"scatterpolar\",\"marker\":{\"colorbar\":{\"outlinewidth\":0,\"ticks\":\"\"}}}],\"histogram\":[{\"marker\":{\"pattern\":{\"fillmode\":\"overlay\",\"size\":10,\"solidity\":0.2}},\"type\":\"histogram\"}],\"scattergl\":[{\"type\":\"scattergl\",\"marker\":{\"colorbar\":{\"outlinewidth\":0,\"ticks\":\"\"}}}],\"scatter3d\":[{\"type\":\"scatter3d\",\"line\":{\"colorbar\":{\"outlinewidth\":0,\"ticks\":\"\"}},\"marker\":{\"colorbar\":{\"outlinewidth\":0,\"ticks\":\"\"}}}],\"scattermapbox\":[{\"type\":\"scattermapbox\",\"marker\":{\"colorbar\":{\"outlinewidth\":0,\"ticks\":\"\"}}}],\"scatterternary\":[{\"type\":\"scatterternary\",\"marker\":{\"colorbar\":{\"outlinewidth\":0,\"ticks\":\"\"}}}],\"scattercarpet\":[{\"type\":\"scattercarpet\",\"marker\":{\"colorbar\":{\"outlinewidth\":0,\"ticks\":\"\"}}}],\"carpet\":[{\"aaxis\":{\"endlinecolor\":\"#2a3f5f\",\"gridcolor\":\"white\",\"linecolor\":\"white\",\"minorgridcolor\":\"white\",\"startlinecolor\":\"#2a3f5f\"},\"baxis\":{\"endlinecolor\":\"#2a3f5f\",\"gridcolor\":\"white\",\"linecolor\":\"white\",\"minorgridcolor\":\"white\",\"startlinecolor\":\"#2a3f5f\"},\"type\":\"carpet\"}],\"table\":[{\"cells\":{\"fill\":{\"color\":\"#EBF0F8\"},\"line\":{\"color\":\"white\"}},\"header\":{\"fill\":{\"color\":\"#C8D4E3\"},\"line\":{\"color\":\"white\"}},\"type\":\"table\"}],\"barpolar\":[{\"marker\":{\"line\":{\"color\":\"#E5ECF6\",\"width\":0.5},\"pattern\":{\"fillmode\":\"overlay\",\"size\":10,\"solidity\":0.2}},\"type\":\"barpolar\"}],\"pie\":[{\"automargin\":true,\"type\":\"pie\"}]},\"layout\":{\"autotypenumbers\":\"strict\",\"colorway\":[\"#636efa\",\"#EF553B\",\"#00cc96\",\"#ab63fa\",\"#FFA15A\",\"#19d3f3\",\"#FF6692\",\"#B6E880\",\"#FF97FF\",\"#FECB52\"],\"font\":{\"color\":\"#2a3f5f\"},\"hovermode\":\"closest\",\"hoverlabel\":{\"align\":\"left\"},\"paper_bgcolor\":\"white\",\"plot_bgcolor\":\"#E5ECF6\",\"polar\":{\"bgcolor\":\"#E5ECF6\",\"angularaxis\":{\"gridcolor\":\"white\",\"linecolor\":\"white\",\"ticks\":\"\"},\"radialaxis\":{\"gridcolor\":\"white\",\"linecolor\":\"white\",\"ticks\":\"\"}},\"ternary\":{\"bgcolor\":\"#E5ECF6\",\"aaxis\":{\"gridcolor\":\"white\",\"linecolor\":\"white\",\"ticks\":\"\"},\"baxis\":{\"gridcolor\":\"white\",\"linecolor\":\"white\",\"ticks\":\"\"},\"caxis\":{\"gridcolor\":\"white\",\"linecolor\":\"white\",\"ticks\":\"\"}},\"coloraxis\":{\"colorbar\":{\"outlinewidth\":0,\"ticks\":\"\"}},\"colorscale\":{\"sequential\":[[0.0,\"#0d0887\"],[0.1111111111111111,\"#46039f\"],[0.2222222222222222,\"#7201a8\"],[0.3333333333333333,\"#9c179e\"],[0.4444444444444444,\"#bd3786\"],[0.5555555555555556,\"#d8576b\"],[0.6666666666666666,\"#ed7953\"],[0.7777777777777778,\"#fb9f3a\"],[0.8888888888888888,\"#fdca26\"],[1.0,\"#f0f921\"]],\"sequentialminus\":[[0.0,\"#0d0887\"],[0.1111111111111111,\"#46039f\"],[0.2222222222222222,\"#7201a8\"],[0.3333333333333333,\"#9c179e\"],[0.4444444444444444,\"#bd3786\"],[0.5555555555555556,\"#d8576b\"],[0.6666666666666666,\"#ed7953\"],[0.7777777777777778,\"#fb9f3a\"],[0.8888888888888888,\"#fdca26\"],[1.0,\"#f0f921\"]],\"diverging\":[[0,\"#8e0152\"],[0.1,\"#c51b7d\"],[0.2,\"#de77ae\"],[0.3,\"#f1b6da\"],[0.4,\"#fde0ef\"],[0.5,\"#f7f7f7\"],[0.6,\"#e6f5d0\"],[0.7,\"#b8e186\"],[0.8,\"#7fbc41\"],[0.9,\"#4d9221\"],[1,\"#276419\"]]},\"xaxis\":{\"gridcolor\":\"white\",\"linecolor\":\"white\",\"ticks\":\"\",\"title\":{\"standoff\":15},\"zerolinecolor\":\"white\",\"automargin\":true,\"zerolinewidth\":2},\"yaxis\":{\"gridcolor\":\"white\",\"linecolor\":\"white\",\"ticks\":\"\",\"title\":{\"standoff\":15},\"zerolinecolor\":\"white\",\"automargin\":true,\"zerolinewidth\":2},\"scene\":{\"xaxis\":{\"backgroundcolor\":\"#E5ECF6\",\"gridcolor\":\"white\",\"linecolor\":\"white\",\"showbackground\":true,\"ticks\":\"\",\"zerolinecolor\":\"white\",\"gridwidth\":2},\"yaxis\":{\"backgroundcolor\":\"#E5ECF6\",\"gridcolor\":\"white\",\"linecolor\":\"white\",\"showbackground\":true,\"ticks\":\"\",\"zerolinecolor\":\"white\",\"gridwidth\":2},\"zaxis\":{\"backgroundcolor\":\"#E5ECF6\",\"gridcolor\":\"white\",\"linecolor\":\"white\",\"showbackground\":true,\"ticks\":\"\",\"zerolinecolor\":\"white\",\"gridwidth\":2}},\"shapedefaults\":{\"line\":{\"color\":\"#2a3f5f\"}},\"annotationdefaults\":{\"arrowcolor\":\"#2a3f5f\",\"arrowhead\":0,\"arrowwidth\":1},\"geo\":{\"bgcolor\":\"white\",\"landcolor\":\"#E5ECF6\",\"subunitcolor\":\"white\",\"showland\":true,\"showlakes\":true,\"lakecolor\":\"white\"},\"title\":{\"x\":0.05},\"mapbox\":{\"style\":\"light\"}}},\"xaxis\":{\"anchor\":\"y\",\"domain\":[0.0,1.0],\"title\":{\"text\":\"Country\"}},\"yaxis\":{\"anchor\":\"x\",\"domain\":[0.0,1.0],\"title\":{\"text\":\"Value\"}},\"legend\":{\"tracegroupgap\":0},\"margin\":{\"t\":60},\"barmode\":\"relative\"},                        {\"responsive\": true}                    ).then(function(){\n",
       "                            \n",
       "var gd = document.getElementById('2619f4af-cb1e-4f3c-85f0-c2b3b0fb4773');\n",
       "var x = new MutationObserver(function (mutations, observer) {{\n",
       "        var display = window.getComputedStyle(gd).display;\n",
       "        if (!display || display === 'none') {{\n",
       "            console.log([gd, 'removed!']);\n",
       "            Plotly.purge(gd);\n",
       "            observer.disconnect();\n",
       "        }}\n",
       "}});\n",
       "\n",
       "// Listen for the removal of the full notebook cells\n",
       "var notebookContainer = gd.closest('#notebook-container');\n",
       "if (notebookContainer) {{\n",
       "    x.observe(notebookContainer, {childList: true});\n",
       "}}\n",
       "\n",
       "// Listen for the clearing of the current output cell\n",
       "var outputEl = gd.closest('.output');\n",
       "if (outputEl) {{\n",
       "    x.observe(outputEl, {childList: true});\n",
       "}}\n",
       "\n",
       "                        })                };                });            </script>        </div>"
      ]
     },
     "metadata": {},
     "output_type": "display_data"
    }
   ],
   "source": [
    "px.bar(year_2004, x='Country', y='Value')"
   ]
  },
  {
   "cell_type": "code",
   "execution_count": null,
   "id": "4d3accdb",
   "metadata": {},
   "outputs": [],
   "source": []
  },
  {
   "cell_type": "code",
   "execution_count": 143,
   "id": "30871f28",
   "metadata": {},
   "outputs": [
    {
     "data": {
      "application/vnd.plotly.v1+json": {
       "config": {
        "plotlyServerURL": "https://plot.ly"
       },
       "data": [
        {
         "alignmentgroup": "True",
         "hovertemplate": "variable=%{x}<br>value=%{y}<extra></extra>",
         "legendgroup": "",
         "marker": {
          "color": "#636efa"
         },
         "name": "",
         "notched": false,
         "offsetgroup": "",
         "orientation": "v",
         "showlegend": false,
         "type": "box",
         "x": [
          "Value",
          "Value",
          "Value",
          "Value",
          "Value",
          "Value",
          "Value",
          "Value",
          "Value",
          "Value",
          "Value",
          "Value",
          "Value",
          "Value",
          "Value",
          "Value",
          "Value",
          "Value",
          "Value",
          "Value",
          "Value",
          "Value",
          "Value",
          "Value",
          "Value",
          "Value",
          "Value",
          "Value",
          "Value",
          "Value",
          "Value",
          "Value",
          "Value",
          "Value",
          "Value",
          "Value",
          "Value",
          "Value",
          "Value",
          "Value",
          "Value",
          "Value",
          "Value",
          "Value",
          "Value"
         ],
         "x0": " ",
         "xaxis": "x",
         "y": [
          15536,
          13028,
          7963,
          461,
          8323,
          13739,
          148,
          2242,
          3660,
          55,
          75989,
          26246,
          1211,
          473,
          24040,
          5891,
          637,
          16675,
          20664,
          371,
          1382,
          10360,
          10917,
          6275,
          906,
          6081,
          27244,
          12867,
          1421,
          5852,
          149857,
          2241,
          6863,
          113,
          4368,
          3592,
          54949,
          28646,
          5950,
          27389,
          2765,
          8503,
          31819,
          6310,
          8984
         ],
         "y0": " ",
         "yaxis": "y"
        }
       ],
       "layout": {
        "boxmode": "group",
        "legend": {
         "tracegroupgap": 0
        },
        "margin": {
         "t": 60
        },
        "template": {
         "data": {
          "bar": [
           {
            "error_x": {
             "color": "#2a3f5f"
            },
            "error_y": {
             "color": "#2a3f5f"
            },
            "marker": {
             "line": {
              "color": "#E5ECF6",
              "width": 0.5
             },
             "pattern": {
              "fillmode": "overlay",
              "size": 10,
              "solidity": 0.2
             }
            },
            "type": "bar"
           }
          ],
          "barpolar": [
           {
            "marker": {
             "line": {
              "color": "#E5ECF6",
              "width": 0.5
             },
             "pattern": {
              "fillmode": "overlay",
              "size": 10,
              "solidity": 0.2
             }
            },
            "type": "barpolar"
           }
          ],
          "carpet": [
           {
            "aaxis": {
             "endlinecolor": "#2a3f5f",
             "gridcolor": "white",
             "linecolor": "white",
             "minorgridcolor": "white",
             "startlinecolor": "#2a3f5f"
            },
            "baxis": {
             "endlinecolor": "#2a3f5f",
             "gridcolor": "white",
             "linecolor": "white",
             "minorgridcolor": "white",
             "startlinecolor": "#2a3f5f"
            },
            "type": "carpet"
           }
          ],
          "choropleth": [
           {
            "colorbar": {
             "outlinewidth": 0,
             "ticks": ""
            },
            "type": "choropleth"
           }
          ],
          "contour": [
           {
            "colorbar": {
             "outlinewidth": 0,
             "ticks": ""
            },
            "colorscale": [
             [
              0,
              "#0d0887"
             ],
             [
              0.1111111111111111,
              "#46039f"
             ],
             [
              0.2222222222222222,
              "#7201a8"
             ],
             [
              0.3333333333333333,
              "#9c179e"
             ],
             [
              0.4444444444444444,
              "#bd3786"
             ],
             [
              0.5555555555555556,
              "#d8576b"
             ],
             [
              0.6666666666666666,
              "#ed7953"
             ],
             [
              0.7777777777777778,
              "#fb9f3a"
             ],
             [
              0.8888888888888888,
              "#fdca26"
             ],
             [
              1,
              "#f0f921"
             ]
            ],
            "type": "contour"
           }
          ],
          "contourcarpet": [
           {
            "colorbar": {
             "outlinewidth": 0,
             "ticks": ""
            },
            "type": "contourcarpet"
           }
          ],
          "heatmap": [
           {
            "colorbar": {
             "outlinewidth": 0,
             "ticks": ""
            },
            "colorscale": [
             [
              0,
              "#0d0887"
             ],
             [
              0.1111111111111111,
              "#46039f"
             ],
             [
              0.2222222222222222,
              "#7201a8"
             ],
             [
              0.3333333333333333,
              "#9c179e"
             ],
             [
              0.4444444444444444,
              "#bd3786"
             ],
             [
              0.5555555555555556,
              "#d8576b"
             ],
             [
              0.6666666666666666,
              "#ed7953"
             ],
             [
              0.7777777777777778,
              "#fb9f3a"
             ],
             [
              0.8888888888888888,
              "#fdca26"
             ],
             [
              1,
              "#f0f921"
             ]
            ],
            "type": "heatmap"
           }
          ],
          "heatmapgl": [
           {
            "colorbar": {
             "outlinewidth": 0,
             "ticks": ""
            },
            "colorscale": [
             [
              0,
              "#0d0887"
             ],
             [
              0.1111111111111111,
              "#46039f"
             ],
             [
              0.2222222222222222,
              "#7201a8"
             ],
             [
              0.3333333333333333,
              "#9c179e"
             ],
             [
              0.4444444444444444,
              "#bd3786"
             ],
             [
              0.5555555555555556,
              "#d8576b"
             ],
             [
              0.6666666666666666,
              "#ed7953"
             ],
             [
              0.7777777777777778,
              "#fb9f3a"
             ],
             [
              0.8888888888888888,
              "#fdca26"
             ],
             [
              1,
              "#f0f921"
             ]
            ],
            "type": "heatmapgl"
           }
          ],
          "histogram": [
           {
            "marker": {
             "pattern": {
              "fillmode": "overlay",
              "size": 10,
              "solidity": 0.2
             }
            },
            "type": "histogram"
           }
          ],
          "histogram2d": [
           {
            "colorbar": {
             "outlinewidth": 0,
             "ticks": ""
            },
            "colorscale": [
             [
              0,
              "#0d0887"
             ],
             [
              0.1111111111111111,
              "#46039f"
             ],
             [
              0.2222222222222222,
              "#7201a8"
             ],
             [
              0.3333333333333333,
              "#9c179e"
             ],
             [
              0.4444444444444444,
              "#bd3786"
             ],
             [
              0.5555555555555556,
              "#d8576b"
             ],
             [
              0.6666666666666666,
              "#ed7953"
             ],
             [
              0.7777777777777778,
              "#fb9f3a"
             ],
             [
              0.8888888888888888,
              "#fdca26"
             ],
             [
              1,
              "#f0f921"
             ]
            ],
            "type": "histogram2d"
           }
          ],
          "histogram2dcontour": [
           {
            "colorbar": {
             "outlinewidth": 0,
             "ticks": ""
            },
            "colorscale": [
             [
              0,
              "#0d0887"
             ],
             [
              0.1111111111111111,
              "#46039f"
             ],
             [
              0.2222222222222222,
              "#7201a8"
             ],
             [
              0.3333333333333333,
              "#9c179e"
             ],
             [
              0.4444444444444444,
              "#bd3786"
             ],
             [
              0.5555555555555556,
              "#d8576b"
             ],
             [
              0.6666666666666666,
              "#ed7953"
             ],
             [
              0.7777777777777778,
              "#fb9f3a"
             ],
             [
              0.8888888888888888,
              "#fdca26"
             ],
             [
              1,
              "#f0f921"
             ]
            ],
            "type": "histogram2dcontour"
           }
          ],
          "mesh3d": [
           {
            "colorbar": {
             "outlinewidth": 0,
             "ticks": ""
            },
            "type": "mesh3d"
           }
          ],
          "parcoords": [
           {
            "line": {
             "colorbar": {
              "outlinewidth": 0,
              "ticks": ""
             }
            },
            "type": "parcoords"
           }
          ],
          "pie": [
           {
            "automargin": true,
            "type": "pie"
           }
          ],
          "scatter": [
           {
            "fillpattern": {
             "fillmode": "overlay",
             "size": 10,
             "solidity": 0.2
            },
            "type": "scatter"
           }
          ],
          "scatter3d": [
           {
            "line": {
             "colorbar": {
              "outlinewidth": 0,
              "ticks": ""
             }
            },
            "marker": {
             "colorbar": {
              "outlinewidth": 0,
              "ticks": ""
             }
            },
            "type": "scatter3d"
           }
          ],
          "scattercarpet": [
           {
            "marker": {
             "colorbar": {
              "outlinewidth": 0,
              "ticks": ""
             }
            },
            "type": "scattercarpet"
           }
          ],
          "scattergeo": [
           {
            "marker": {
             "colorbar": {
              "outlinewidth": 0,
              "ticks": ""
             }
            },
            "type": "scattergeo"
           }
          ],
          "scattergl": [
           {
            "marker": {
             "colorbar": {
              "outlinewidth": 0,
              "ticks": ""
             }
            },
            "type": "scattergl"
           }
          ],
          "scattermapbox": [
           {
            "marker": {
             "colorbar": {
              "outlinewidth": 0,
              "ticks": ""
             }
            },
            "type": "scattermapbox"
           }
          ],
          "scatterpolar": [
           {
            "marker": {
             "colorbar": {
              "outlinewidth": 0,
              "ticks": ""
             }
            },
            "type": "scatterpolar"
           }
          ],
          "scatterpolargl": [
           {
            "marker": {
             "colorbar": {
              "outlinewidth": 0,
              "ticks": ""
             }
            },
            "type": "scatterpolargl"
           }
          ],
          "scatterternary": [
           {
            "marker": {
             "colorbar": {
              "outlinewidth": 0,
              "ticks": ""
             }
            },
            "type": "scatterternary"
           }
          ],
          "surface": [
           {
            "colorbar": {
             "outlinewidth": 0,
             "ticks": ""
            },
            "colorscale": [
             [
              0,
              "#0d0887"
             ],
             [
              0.1111111111111111,
              "#46039f"
             ],
             [
              0.2222222222222222,
              "#7201a8"
             ],
             [
              0.3333333333333333,
              "#9c179e"
             ],
             [
              0.4444444444444444,
              "#bd3786"
             ],
             [
              0.5555555555555556,
              "#d8576b"
             ],
             [
              0.6666666666666666,
              "#ed7953"
             ],
             [
              0.7777777777777778,
              "#fb9f3a"
             ],
             [
              0.8888888888888888,
              "#fdca26"
             ],
             [
              1,
              "#f0f921"
             ]
            ],
            "type": "surface"
           }
          ],
          "table": [
           {
            "cells": {
             "fill": {
              "color": "#EBF0F8"
             },
             "line": {
              "color": "white"
             }
            },
            "header": {
             "fill": {
              "color": "#C8D4E3"
             },
             "line": {
              "color": "white"
             }
            },
            "type": "table"
           }
          ]
         },
         "layout": {
          "annotationdefaults": {
           "arrowcolor": "#2a3f5f",
           "arrowhead": 0,
           "arrowwidth": 1
          },
          "autotypenumbers": "strict",
          "coloraxis": {
           "colorbar": {
            "outlinewidth": 0,
            "ticks": ""
           }
          },
          "colorscale": {
           "diverging": [
            [
             0,
             "#8e0152"
            ],
            [
             0.1,
             "#c51b7d"
            ],
            [
             0.2,
             "#de77ae"
            ],
            [
             0.3,
             "#f1b6da"
            ],
            [
             0.4,
             "#fde0ef"
            ],
            [
             0.5,
             "#f7f7f7"
            ],
            [
             0.6,
             "#e6f5d0"
            ],
            [
             0.7,
             "#b8e186"
            ],
            [
             0.8,
             "#7fbc41"
            ],
            [
             0.9,
             "#4d9221"
            ],
            [
             1,
             "#276419"
            ]
           ],
           "sequential": [
            [
             0,
             "#0d0887"
            ],
            [
             0.1111111111111111,
             "#46039f"
            ],
            [
             0.2222222222222222,
             "#7201a8"
            ],
            [
             0.3333333333333333,
             "#9c179e"
            ],
            [
             0.4444444444444444,
             "#bd3786"
            ],
            [
             0.5555555555555556,
             "#d8576b"
            ],
            [
             0.6666666666666666,
             "#ed7953"
            ],
            [
             0.7777777777777778,
             "#fb9f3a"
            ],
            [
             0.8888888888888888,
             "#fdca26"
            ],
            [
             1,
             "#f0f921"
            ]
           ],
           "sequentialminus": [
            [
             0,
             "#0d0887"
            ],
            [
             0.1111111111111111,
             "#46039f"
            ],
            [
             0.2222222222222222,
             "#7201a8"
            ],
            [
             0.3333333333333333,
             "#9c179e"
            ],
            [
             0.4444444444444444,
             "#bd3786"
            ],
            [
             0.5555555555555556,
             "#d8576b"
            ],
            [
             0.6666666666666666,
             "#ed7953"
            ],
            [
             0.7777777777777778,
             "#fb9f3a"
            ],
            [
             0.8888888888888888,
             "#fdca26"
            ],
            [
             1,
             "#f0f921"
            ]
           ]
          },
          "colorway": [
           "#636efa",
           "#EF553B",
           "#00cc96",
           "#ab63fa",
           "#FFA15A",
           "#19d3f3",
           "#FF6692",
           "#B6E880",
           "#FF97FF",
           "#FECB52"
          ],
          "font": {
           "color": "#2a3f5f"
          },
          "geo": {
           "bgcolor": "white",
           "lakecolor": "white",
           "landcolor": "#E5ECF6",
           "showlakes": true,
           "showland": true,
           "subunitcolor": "white"
          },
          "hoverlabel": {
           "align": "left"
          },
          "hovermode": "closest",
          "mapbox": {
           "style": "light"
          },
          "paper_bgcolor": "white",
          "plot_bgcolor": "#E5ECF6",
          "polar": {
           "angularaxis": {
            "gridcolor": "white",
            "linecolor": "white",
            "ticks": ""
           },
           "bgcolor": "#E5ECF6",
           "radialaxis": {
            "gridcolor": "white",
            "linecolor": "white",
            "ticks": ""
           }
          },
          "scene": {
           "xaxis": {
            "backgroundcolor": "#E5ECF6",
            "gridcolor": "white",
            "gridwidth": 2,
            "linecolor": "white",
            "showbackground": true,
            "ticks": "",
            "zerolinecolor": "white"
           },
           "yaxis": {
            "backgroundcolor": "#E5ECF6",
            "gridcolor": "white",
            "gridwidth": 2,
            "linecolor": "white",
            "showbackground": true,
            "ticks": "",
            "zerolinecolor": "white"
           },
           "zaxis": {
            "backgroundcolor": "#E5ECF6",
            "gridcolor": "white",
            "gridwidth": 2,
            "linecolor": "white",
            "showbackground": true,
            "ticks": "",
            "zerolinecolor": "white"
           }
          },
          "shapedefaults": {
           "line": {
            "color": "#2a3f5f"
           }
          },
          "ternary": {
           "aaxis": {
            "gridcolor": "white",
            "linecolor": "white",
            "ticks": ""
           },
           "baxis": {
            "gridcolor": "white",
            "linecolor": "white",
            "ticks": ""
           },
           "bgcolor": "#E5ECF6",
           "caxis": {
            "gridcolor": "white",
            "linecolor": "white",
            "ticks": ""
           }
          },
          "title": {
           "x": 0.05
          },
          "xaxis": {
           "automargin": true,
           "gridcolor": "white",
           "linecolor": "white",
           "ticks": "",
           "title": {
            "standoff": 15
           },
           "zerolinecolor": "white",
           "zerolinewidth": 2
          },
          "yaxis": {
           "automargin": true,
           "gridcolor": "white",
           "linecolor": "white",
           "ticks": "",
           "title": {
            "standoff": 15
           },
           "zerolinecolor": "white",
           "zerolinewidth": 2
          }
         }
        },
        "xaxis": {
         "anchor": "y",
         "domain": [
          0,
          1
         ],
         "title": {
          "text": "variable"
         }
        },
        "yaxis": {
         "anchor": "x",
         "domain": [
          0,
          1
         ],
         "title": {
          "text": "value"
         }
        }
       }
      },
      "text/html": [
       "<div>                            <div id=\"95cb14e1-dfa7-4876-ba96-8b7b9f0b1d7b\" class=\"plotly-graph-div\" style=\"height:525px; width:100%;\"></div>            <script type=\"text/javascript\">                require([\"plotly\"], function(Plotly) {                    window.PLOTLYENV=window.PLOTLYENV || {};                                    if (document.getElementById(\"95cb14e1-dfa7-4876-ba96-8b7b9f0b1d7b\")) {                    Plotly.newPlot(                        \"95cb14e1-dfa7-4876-ba96-8b7b9f0b1d7b\",                        [{\"alignmentgroup\":\"True\",\"hovertemplate\":\"variable=%{x}<br>value=%{y}<extra></extra>\",\"legendgroup\":\"\",\"marker\":{\"color\":\"#636efa\"},\"name\":\"\",\"notched\":false,\"offsetgroup\":\"\",\"orientation\":\"v\",\"showlegend\":false,\"x\":[\"Value\",\"Value\",\"Value\",\"Value\",\"Value\",\"Value\",\"Value\",\"Value\",\"Value\",\"Value\",\"Value\",\"Value\",\"Value\",\"Value\",\"Value\",\"Value\",\"Value\",\"Value\",\"Value\",\"Value\",\"Value\",\"Value\",\"Value\",\"Value\",\"Value\",\"Value\",\"Value\",\"Value\",\"Value\",\"Value\",\"Value\",\"Value\",\"Value\",\"Value\",\"Value\",\"Value\",\"Value\",\"Value\",\"Value\",\"Value\",\"Value\",\"Value\",\"Value\",\"Value\",\"Value\"],\"x0\":\" \",\"xaxis\":\"x\",\"y\":[15536,13028,7963,461,8323,13739,148,2242,3660,55,75989,26246,1211,473,24040,5891,637,16675,20664,371,1382,10360,10917,6275,906,6081,27244,12867,1421,5852,149857,2241,6863,113,4368,3592,54949,28646,5950,27389,2765,8503,31819,6310,8984],\"y0\":\" \",\"yaxis\":\"y\",\"type\":\"box\"}],                        {\"template\":{\"data\":{\"histogram2dcontour\":[{\"type\":\"histogram2dcontour\",\"colorbar\":{\"outlinewidth\":0,\"ticks\":\"\"},\"colorscale\":[[0.0,\"#0d0887\"],[0.1111111111111111,\"#46039f\"],[0.2222222222222222,\"#7201a8\"],[0.3333333333333333,\"#9c179e\"],[0.4444444444444444,\"#bd3786\"],[0.5555555555555556,\"#d8576b\"],[0.6666666666666666,\"#ed7953\"],[0.7777777777777778,\"#fb9f3a\"],[0.8888888888888888,\"#fdca26\"],[1.0,\"#f0f921\"]]}],\"choropleth\":[{\"type\":\"choropleth\",\"colorbar\":{\"outlinewidth\":0,\"ticks\":\"\"}}],\"histogram2d\":[{\"type\":\"histogram2d\",\"colorbar\":{\"outlinewidth\":0,\"ticks\":\"\"},\"colorscale\":[[0.0,\"#0d0887\"],[0.1111111111111111,\"#46039f\"],[0.2222222222222222,\"#7201a8\"],[0.3333333333333333,\"#9c179e\"],[0.4444444444444444,\"#bd3786\"],[0.5555555555555556,\"#d8576b\"],[0.6666666666666666,\"#ed7953\"],[0.7777777777777778,\"#fb9f3a\"],[0.8888888888888888,\"#fdca26\"],[1.0,\"#f0f921\"]]}],\"heatmap\":[{\"type\":\"heatmap\",\"colorbar\":{\"outlinewidth\":0,\"ticks\":\"\"},\"colorscale\":[[0.0,\"#0d0887\"],[0.1111111111111111,\"#46039f\"],[0.2222222222222222,\"#7201a8\"],[0.3333333333333333,\"#9c179e\"],[0.4444444444444444,\"#bd3786\"],[0.5555555555555556,\"#d8576b\"],[0.6666666666666666,\"#ed7953\"],[0.7777777777777778,\"#fb9f3a\"],[0.8888888888888888,\"#fdca26\"],[1.0,\"#f0f921\"]]}],\"heatmapgl\":[{\"type\":\"heatmapgl\",\"colorbar\":{\"outlinewidth\":0,\"ticks\":\"\"},\"colorscale\":[[0.0,\"#0d0887\"],[0.1111111111111111,\"#46039f\"],[0.2222222222222222,\"#7201a8\"],[0.3333333333333333,\"#9c179e\"],[0.4444444444444444,\"#bd3786\"],[0.5555555555555556,\"#d8576b\"],[0.6666666666666666,\"#ed7953\"],[0.7777777777777778,\"#fb9f3a\"],[0.8888888888888888,\"#fdca26\"],[1.0,\"#f0f921\"]]}],\"contourcarpet\":[{\"type\":\"contourcarpet\",\"colorbar\":{\"outlinewidth\":0,\"ticks\":\"\"}}],\"contour\":[{\"type\":\"contour\",\"colorbar\":{\"outlinewidth\":0,\"ticks\":\"\"},\"colorscale\":[[0.0,\"#0d0887\"],[0.1111111111111111,\"#46039f\"],[0.2222222222222222,\"#7201a8\"],[0.3333333333333333,\"#9c179e\"],[0.4444444444444444,\"#bd3786\"],[0.5555555555555556,\"#d8576b\"],[0.6666666666666666,\"#ed7953\"],[0.7777777777777778,\"#fb9f3a\"],[0.8888888888888888,\"#fdca26\"],[1.0,\"#f0f921\"]]}],\"surface\":[{\"type\":\"surface\",\"colorbar\":{\"outlinewidth\":0,\"ticks\":\"\"},\"colorscale\":[[0.0,\"#0d0887\"],[0.1111111111111111,\"#46039f\"],[0.2222222222222222,\"#7201a8\"],[0.3333333333333333,\"#9c179e\"],[0.4444444444444444,\"#bd3786\"],[0.5555555555555556,\"#d8576b\"],[0.6666666666666666,\"#ed7953\"],[0.7777777777777778,\"#fb9f3a\"],[0.8888888888888888,\"#fdca26\"],[1.0,\"#f0f921\"]]}],\"mesh3d\":[{\"type\":\"mesh3d\",\"colorbar\":{\"outlinewidth\":0,\"ticks\":\"\"}}],\"scatter\":[{\"fillpattern\":{\"fillmode\":\"overlay\",\"size\":10,\"solidity\":0.2},\"type\":\"scatter\"}],\"parcoords\":[{\"type\":\"parcoords\",\"line\":{\"colorbar\":{\"outlinewidth\":0,\"ticks\":\"\"}}}],\"scatterpolargl\":[{\"type\":\"scatterpolargl\",\"marker\":{\"colorbar\":{\"outlinewidth\":0,\"ticks\":\"\"}}}],\"bar\":[{\"error_x\":{\"color\":\"#2a3f5f\"},\"error_y\":{\"color\":\"#2a3f5f\"},\"marker\":{\"line\":{\"color\":\"#E5ECF6\",\"width\":0.5},\"pattern\":{\"fillmode\":\"overlay\",\"size\":10,\"solidity\":0.2}},\"type\":\"bar\"}],\"scattergeo\":[{\"type\":\"scattergeo\",\"marker\":{\"colorbar\":{\"outlinewidth\":0,\"ticks\":\"\"}}}],\"scatterpolar\":[{\"type\":\"scatterpolar\",\"marker\":{\"colorbar\":{\"outlinewidth\":0,\"ticks\":\"\"}}}],\"histogram\":[{\"marker\":{\"pattern\":{\"fillmode\":\"overlay\",\"size\":10,\"solidity\":0.2}},\"type\":\"histogram\"}],\"scattergl\":[{\"type\":\"scattergl\",\"marker\":{\"colorbar\":{\"outlinewidth\":0,\"ticks\":\"\"}}}],\"scatter3d\":[{\"type\":\"scatter3d\",\"line\":{\"colorbar\":{\"outlinewidth\":0,\"ticks\":\"\"}},\"marker\":{\"colorbar\":{\"outlinewidth\":0,\"ticks\":\"\"}}}],\"scattermapbox\":[{\"type\":\"scattermapbox\",\"marker\":{\"colorbar\":{\"outlinewidth\":0,\"ticks\":\"\"}}}],\"scatterternary\":[{\"type\":\"scatterternary\",\"marker\":{\"colorbar\":{\"outlinewidth\":0,\"ticks\":\"\"}}}],\"scattercarpet\":[{\"type\":\"scattercarpet\",\"marker\":{\"colorbar\":{\"outlinewidth\":0,\"ticks\":\"\"}}}],\"carpet\":[{\"aaxis\":{\"endlinecolor\":\"#2a3f5f\",\"gridcolor\":\"white\",\"linecolor\":\"white\",\"minorgridcolor\":\"white\",\"startlinecolor\":\"#2a3f5f\"},\"baxis\":{\"endlinecolor\":\"#2a3f5f\",\"gridcolor\":\"white\",\"linecolor\":\"white\",\"minorgridcolor\":\"white\",\"startlinecolor\":\"#2a3f5f\"},\"type\":\"carpet\"}],\"table\":[{\"cells\":{\"fill\":{\"color\":\"#EBF0F8\"},\"line\":{\"color\":\"white\"}},\"header\":{\"fill\":{\"color\":\"#C8D4E3\"},\"line\":{\"color\":\"white\"}},\"type\":\"table\"}],\"barpolar\":[{\"marker\":{\"line\":{\"color\":\"#E5ECF6\",\"width\":0.5},\"pattern\":{\"fillmode\":\"overlay\",\"size\":10,\"solidity\":0.2}},\"type\":\"barpolar\"}],\"pie\":[{\"automargin\":true,\"type\":\"pie\"}]},\"layout\":{\"autotypenumbers\":\"strict\",\"colorway\":[\"#636efa\",\"#EF553B\",\"#00cc96\",\"#ab63fa\",\"#FFA15A\",\"#19d3f3\",\"#FF6692\",\"#B6E880\",\"#FF97FF\",\"#FECB52\"],\"font\":{\"color\":\"#2a3f5f\"},\"hovermode\":\"closest\",\"hoverlabel\":{\"align\":\"left\"},\"paper_bgcolor\":\"white\",\"plot_bgcolor\":\"#E5ECF6\",\"polar\":{\"bgcolor\":\"#E5ECF6\",\"angularaxis\":{\"gridcolor\":\"white\",\"linecolor\":\"white\",\"ticks\":\"\"},\"radialaxis\":{\"gridcolor\":\"white\",\"linecolor\":\"white\",\"ticks\":\"\"}},\"ternary\":{\"bgcolor\":\"#E5ECF6\",\"aaxis\":{\"gridcolor\":\"white\",\"linecolor\":\"white\",\"ticks\":\"\"},\"baxis\":{\"gridcolor\":\"white\",\"linecolor\":\"white\",\"ticks\":\"\"},\"caxis\":{\"gridcolor\":\"white\",\"linecolor\":\"white\",\"ticks\":\"\"}},\"coloraxis\":{\"colorbar\":{\"outlinewidth\":0,\"ticks\":\"\"}},\"colorscale\":{\"sequential\":[[0.0,\"#0d0887\"],[0.1111111111111111,\"#46039f\"],[0.2222222222222222,\"#7201a8\"],[0.3333333333333333,\"#9c179e\"],[0.4444444444444444,\"#bd3786\"],[0.5555555555555556,\"#d8576b\"],[0.6666666666666666,\"#ed7953\"],[0.7777777777777778,\"#fb9f3a\"],[0.8888888888888888,\"#fdca26\"],[1.0,\"#f0f921\"]],\"sequentialminus\":[[0.0,\"#0d0887\"],[0.1111111111111111,\"#46039f\"],[0.2222222222222222,\"#7201a8\"],[0.3333333333333333,\"#9c179e\"],[0.4444444444444444,\"#bd3786\"],[0.5555555555555556,\"#d8576b\"],[0.6666666666666666,\"#ed7953\"],[0.7777777777777778,\"#fb9f3a\"],[0.8888888888888888,\"#fdca26\"],[1.0,\"#f0f921\"]],\"diverging\":[[0,\"#8e0152\"],[0.1,\"#c51b7d\"],[0.2,\"#de77ae\"],[0.3,\"#f1b6da\"],[0.4,\"#fde0ef\"],[0.5,\"#f7f7f7\"],[0.6,\"#e6f5d0\"],[0.7,\"#b8e186\"],[0.8,\"#7fbc41\"],[0.9,\"#4d9221\"],[1,\"#276419\"]]},\"xaxis\":{\"gridcolor\":\"white\",\"linecolor\":\"white\",\"ticks\":\"\",\"title\":{\"standoff\":15},\"zerolinecolor\":\"white\",\"automargin\":true,\"zerolinewidth\":2},\"yaxis\":{\"gridcolor\":\"white\",\"linecolor\":\"white\",\"ticks\":\"\",\"title\":{\"standoff\":15},\"zerolinecolor\":\"white\",\"automargin\":true,\"zerolinewidth\":2},\"scene\":{\"xaxis\":{\"backgroundcolor\":\"#E5ECF6\",\"gridcolor\":\"white\",\"linecolor\":\"white\",\"showbackground\":true,\"ticks\":\"\",\"zerolinecolor\":\"white\",\"gridwidth\":2},\"yaxis\":{\"backgroundcolor\":\"#E5ECF6\",\"gridcolor\":\"white\",\"linecolor\":\"white\",\"showbackground\":true,\"ticks\":\"\",\"zerolinecolor\":\"white\",\"gridwidth\":2},\"zaxis\":{\"backgroundcolor\":\"#E5ECF6\",\"gridcolor\":\"white\",\"linecolor\":\"white\",\"showbackground\":true,\"ticks\":\"\",\"zerolinecolor\":\"white\",\"gridwidth\":2}},\"shapedefaults\":{\"line\":{\"color\":\"#2a3f5f\"}},\"annotationdefaults\":{\"arrowcolor\":\"#2a3f5f\",\"arrowhead\":0,\"arrowwidth\":1},\"geo\":{\"bgcolor\":\"white\",\"landcolor\":\"#E5ECF6\",\"subunitcolor\":\"white\",\"showland\":true,\"showlakes\":true,\"lakecolor\":\"white\"},\"title\":{\"x\":0.05},\"mapbox\":{\"style\":\"light\"}}},\"xaxis\":{\"anchor\":\"y\",\"domain\":[0.0,1.0],\"title\":{\"text\":\"variable\"}},\"yaxis\":{\"anchor\":\"x\",\"domain\":[0.0,1.0],\"title\":{\"text\":\"value\"}},\"legend\":{\"tracegroupgap\":0},\"margin\":{\"t\":60},\"boxmode\":\"group\"},                        {\"responsive\": true}                    ).then(function(){\n",
       "                            \n",
       "var gd = document.getElementById('95cb14e1-dfa7-4876-ba96-8b7b9f0b1d7b');\n",
       "var x = new MutationObserver(function (mutations, observer) {{\n",
       "        var display = window.getComputedStyle(gd).display;\n",
       "        if (!display || display === 'none') {{\n",
       "            console.log([gd, 'removed!']);\n",
       "            Plotly.purge(gd);\n",
       "            observer.disconnect();\n",
       "        }}\n",
       "}});\n",
       "\n",
       "// Listen for the removal of the full notebook cells\n",
       "var notebookContainer = gd.closest('#notebook-container');\n",
       "if (notebookContainer) {{\n",
       "    x.observe(notebookContainer, {childList: true});\n",
       "}}\n",
       "\n",
       "// Listen for the clearing of the current output cell\n",
       "var outputEl = gd.closest('.output');\n",
       "if (outputEl) {{\n",
       "    x.observe(outputEl, {childList: true});\n",
       "}}\n",
       "\n",
       "                        })                };                });            </script>        </div>"
      ]
     },
     "metadata": {},
     "output_type": "display_data"
    }
   ],
   "source": [
    "# Let's find outliers for the year 2004\n",
    "px.box(year_2004['Value'])"
   ]
  },
  {
   "cell_type": "code",
   "execution_count": null,
   "id": "471ecc6b",
   "metadata": {},
   "outputs": [],
   "source": []
  },
  {
   "cell_type": "code",
   "execution_count": 144,
   "id": "1462d068",
   "metadata": {},
   "outputs": [],
   "source": [
    "# Detect outliers\n",
    "# Accept a dataframe, then for each year, searches for possible outliers in the value column\n",
    "# then return a list of affected countries.\n",
    "def filter_outliers(df, col, year):\n",
    "    table = df[df['Year'] == year]    \n",
    "    table.groupby('')\n",
    "    "
   ]
  },
  {
   "cell_type": "code",
   "execution_count": null,
   "id": "45d4d275",
   "metadata": {},
   "outputs": [],
   "source": []
  },
  {
   "cell_type": "code",
   "execution_count": 145,
   "id": "7ff7acbe",
   "metadata": {
    "scrolled": false
   },
   "outputs": [
    {
     "data": {
      "text/plain": [
       "77"
      ]
     },
     "execution_count": 145,
     "metadata": {},
     "output_type": "execute_result"
    }
   ],
   "source": [
    "temp = food_prod_df[food_prod_df['Year'] == '2012']\n",
    "temp\n",
    "temp.groupby('Country')['Value'].sum().reset_index()['Value'].min()"
   ]
  },
  {
   "cell_type": "code",
   "execution_count": 146,
   "id": "f3581fe1",
   "metadata": {},
   "outputs": [],
   "source": [
    "# Function to help compute the outliers in the data for each year\n",
    "def compute_outliers(df, year_filter, col_name):\n",
    "    table = df[df['Year'] == year_filter]\n",
    "    groupby_country = table.groupby('Country')[col_name].sum().reset_index()  \n",
    "    \n",
    "    q1 = groupby_country[col_name].quantile(0.25)\n",
    "    q3 = groupby_country[col_name].quantile(0.75)\n",
    "    iqr = q3 - q1\n",
    "    lower_fence = q1 - (1.5 * iqr)\n",
    "    upper_fence = q3 + (1.5 * iqr)\n",
    "    top_outliers = groupby_country[groupby_country['Value'] > upper_fence]\n",
    "    bottom_outliers = groupby_country[groupby_country['Value'] < lower_fence]\n",
    "    return {'Quartile 1': q1, 'Quartile 3': q3, 'Interquartile range': iqr, 'Top outliers': top_outliers, 'Bottom outliers': bottom_outliers}"
   ]
  },
  {
   "cell_type": "code",
   "execution_count": 147,
   "id": "abd59749",
   "metadata": {
    "scrolled": false
   },
   "outputs": [
    {
     "name": "stdout",
     "output_type": "stream",
     "text": [
      "2004:\n",
      "High production          Country   Value\n",
      "10         Egypt   75989\n",
      "30       Nigeria  149857\n",
      "36  South Africa   54949\n",
      "------------------------------------------\n",
      "2005:\n",
      "High production          Country   Value\n",
      "10         Egypt   80422\n",
      "30       Nigeria  158149\n",
      "36  South Africa   59577\n",
      "------------------------------------------\n",
      "2006:\n",
      "High production          Country   Value\n",
      "10         Egypt   83191\n",
      "30       Nigeria  168987\n",
      "36  South Africa   54024\n",
      "------------------------------------------\n",
      "2007:\n",
      "High production          Country   Value\n",
      "10         Egypt   86828\n",
      "30       Nigeria  157273\n",
      "36  South Africa   53795\n",
      "------------------------------------------\n",
      "2008:\n",
      "High production          Country   Value\n",
      "10         Egypt   89489\n",
      "30       Nigeria  167935\n",
      "36  South Africa   61162\n",
      "------------------------------------------\n",
      "2009:\n",
      "High production          Country   Value\n",
      "10         Egypt   90375\n",
      "30       Nigeria  141270\n",
      "36  South Africa   59590\n",
      "------------------------------------------\n",
      "2010:\n",
      "High production          Country   Value\n",
      "10         Egypt   88450\n",
      "30       Nigeria  158709\n",
      "36  South Africa   56863\n",
      "------------------------------------------\n",
      "2011:\n",
      "High production          Country   Value\n",
      "10         Egypt   90767\n",
      "30       Nigeria  167403\n",
      "36  South Africa   56788\n",
      "------------------------------------------\n",
      "2012:\n",
      "High production          Country   Value\n",
      "10         Egypt   96139\n",
      "30       Nigeria  178816\n",
      "36  South Africa   59581\n",
      "------------------------------------------\n",
      "2013:\n",
      "High production          Country   Value\n",
      "10         Egypt   95848\n",
      "30       Nigeria  179631\n",
      "36  South Africa   63263\n",
      "------------------------------------------\n"
     ]
    }
   ],
   "source": [
    "# Compute outliers for all years in terms of food production:\n",
    "for year in np.arange(2004, 2014, 1):\n",
    "    outliers = compute_outliers(food_prod_df, str(year), 'Value')\n",
    "    print('{}:'.format(year))\n",
    "    if len(outliers['Top outliers']) > 0:\n",
    "        print('High production', outliers['Top outliers'])\n",
    "    if len(outliers['Bottom outliers']) > 0:\n",
    "        print('Low production', outliers['Bottom outliers'])\n",
    "    print('------------------------------------------')"
   ]
  },
  {
   "cell_type": "code",
   "execution_count": 148,
   "id": "5e1af320",
   "metadata": {},
   "outputs": [
    {
     "data": {
      "text/html": [
       "<div>\n",
       "<style scoped>\n",
       "    .dataframe tbody tr th:only-of-type {\n",
       "        vertical-align: middle;\n",
       "    }\n",
       "\n",
       "    .dataframe tbody tr th {\n",
       "        vertical-align: top;\n",
       "    }\n",
       "\n",
       "    .dataframe thead th {\n",
       "        text-align: right;\n",
       "    }\n",
       "</style>\n",
       "<table border=\"1\" class=\"dataframe\">\n",
       "  <thead>\n",
       "    <tr style=\"text-align: right;\">\n",
       "      <th></th>\n",
       "      <th>Country</th>\n",
       "      <th>Item</th>\n",
       "      <th>Year</th>\n",
       "      <th>Value</th>\n",
       "    </tr>\n",
       "  </thead>\n",
       "  <tbody>\n",
       "    <tr>\n",
       "      <th>0</th>\n",
       "      <td>Algeria</td>\n",
       "      <td>Wheat and products</td>\n",
       "      <td>2004-01-01</td>\n",
       "      <td>2731</td>\n",
       "    </tr>\n",
       "    <tr>\n",
       "      <th>1</th>\n",
       "      <td>Algeria</td>\n",
       "      <td>Wheat and products</td>\n",
       "      <td>2005-01-01</td>\n",
       "      <td>2415</td>\n",
       "    </tr>\n",
       "    <tr>\n",
       "      <th>2</th>\n",
       "      <td>Algeria</td>\n",
       "      <td>Wheat and products</td>\n",
       "      <td>2006-01-01</td>\n",
       "      <td>2688</td>\n",
       "    </tr>\n",
       "    <tr>\n",
       "      <th>3</th>\n",
       "      <td>Algeria</td>\n",
       "      <td>Wheat and products</td>\n",
       "      <td>2007-01-01</td>\n",
       "      <td>2319</td>\n",
       "    </tr>\n",
       "    <tr>\n",
       "      <th>4</th>\n",
       "      <td>Algeria</td>\n",
       "      <td>Wheat and products</td>\n",
       "      <td>2008-01-01</td>\n",
       "      <td>1111</td>\n",
       "    </tr>\n",
       "    <tr>\n",
       "      <th>...</th>\n",
       "      <td>...</td>\n",
       "      <td>...</td>\n",
       "      <td>...</td>\n",
       "      <td>...</td>\n",
       "    </tr>\n",
       "    <tr>\n",
       "      <th>23105</th>\n",
       "      <td>Zimbabwe</td>\n",
       "      <td>Crustaceans</td>\n",
       "      <td>2009-01-01</td>\n",
       "      <td>0</td>\n",
       "    </tr>\n",
       "    <tr>\n",
       "      <th>23106</th>\n",
       "      <td>Zimbabwe</td>\n",
       "      <td>Crustaceans</td>\n",
       "      <td>2010-01-01</td>\n",
       "      <td>0</td>\n",
       "    </tr>\n",
       "    <tr>\n",
       "      <th>23107</th>\n",
       "      <td>Zimbabwe</td>\n",
       "      <td>Crustaceans</td>\n",
       "      <td>2011-01-01</td>\n",
       "      <td>0</td>\n",
       "    </tr>\n",
       "    <tr>\n",
       "      <th>23108</th>\n",
       "      <td>Zimbabwe</td>\n",
       "      <td>Crustaceans</td>\n",
       "      <td>2012-01-01</td>\n",
       "      <td>0</td>\n",
       "    </tr>\n",
       "    <tr>\n",
       "      <th>23109</th>\n",
       "      <td>Zimbabwe</td>\n",
       "      <td>Crustaceans</td>\n",
       "      <td>2013-01-01</td>\n",
       "      <td>0</td>\n",
       "    </tr>\n",
       "  </tbody>\n",
       "</table>\n",
       "<p>23110 rows × 4 columns</p>\n",
       "</div>"
      ],
      "text/plain": [
       "        Country                Item       Year  Value\n",
       "0       Algeria  Wheat and products 2004-01-01   2731\n",
       "1       Algeria  Wheat and products 2005-01-01   2415\n",
       "2       Algeria  Wheat and products 2006-01-01   2688\n",
       "3       Algeria  Wheat and products 2007-01-01   2319\n",
       "4       Algeria  Wheat and products 2008-01-01   1111\n",
       "...         ...                 ...        ...    ...\n",
       "23105  Zimbabwe         Crustaceans 2009-01-01      0\n",
       "23106  Zimbabwe         Crustaceans 2010-01-01      0\n",
       "23107  Zimbabwe         Crustaceans 2011-01-01      0\n",
       "23108  Zimbabwe         Crustaceans 2012-01-01      0\n",
       "23109  Zimbabwe         Crustaceans 2013-01-01      0\n",
       "\n",
       "[23110 rows x 4 columns]"
      ]
     },
     "execution_count": 148,
     "metadata": {},
     "output_type": "execute_result"
    }
   ],
   "source": [
    "food_prod_df"
   ]
  },
  {
   "cell_type": "code",
   "execution_count": 149,
   "id": "86314057",
   "metadata": {},
   "outputs": [
    {
     "data": {
      "text/html": [
       "<div>\n",
       "<style scoped>\n",
       "    .dataframe tbody tr th:only-of-type {\n",
       "        vertical-align: middle;\n",
       "    }\n",
       "\n",
       "    .dataframe tbody tr th {\n",
       "        vertical-align: top;\n",
       "    }\n",
       "\n",
       "    .dataframe thead th {\n",
       "        text-align: right;\n",
       "    }\n",
       "</style>\n",
       "<table border=\"1\" class=\"dataframe\">\n",
       "  <thead>\n",
       "    <tr style=\"text-align: right;\">\n",
       "      <th></th>\n",
       "      <th>Country</th>\n",
       "      <th>Year</th>\n",
       "      <th>Value</th>\n",
       "    </tr>\n",
       "  </thead>\n",
       "  <tbody>\n",
       "    <tr>\n",
       "      <th>0</th>\n",
       "      <td>Algeria</td>\n",
       "      <td>2004-01-01</td>\n",
       "      <td>267.862069</td>\n",
       "    </tr>\n",
       "    <tr>\n",
       "      <th>1</th>\n",
       "      <td>Algeria</td>\n",
       "      <td>2005-01-01</td>\n",
       "      <td>270.120690</td>\n",
       "    </tr>\n",
       "    <tr>\n",
       "      <th>2</th>\n",
       "      <td>Algeria</td>\n",
       "      <td>2006-01-01</td>\n",
       "      <td>283.051724</td>\n",
       "    </tr>\n",
       "    <tr>\n",
       "      <th>3</th>\n",
       "      <td>Algeria</td>\n",
       "      <td>2007-01-01</td>\n",
       "      <td>254.534483</td>\n",
       "    </tr>\n",
       "    <tr>\n",
       "      <th>4</th>\n",
       "      <td>Algeria</td>\n",
       "      <td>2008-01-01</td>\n",
       "      <td>238.637931</td>\n",
       "    </tr>\n",
       "    <tr>\n",
       "      <th>...</th>\n",
       "      <td>...</td>\n",
       "      <td>...</td>\n",
       "      <td>...</td>\n",
       "    </tr>\n",
       "    <tr>\n",
       "      <th>445</th>\n",
       "      <td>Zimbabwe</td>\n",
       "      <td>2009-01-01</td>\n",
       "      <td>89.906250</td>\n",
       "    </tr>\n",
       "    <tr>\n",
       "      <th>446</th>\n",
       "      <td>Zimbabwe</td>\n",
       "      <td>2010-01-01</td>\n",
       "      <td>105.890625</td>\n",
       "    </tr>\n",
       "    <tr>\n",
       "      <th>447</th>\n",
       "      <td>Zimbabwe</td>\n",
       "      <td>2011-01-01</td>\n",
       "      <td>117.984375</td>\n",
       "    </tr>\n",
       "    <tr>\n",
       "      <th>448</th>\n",
       "      <td>Zimbabwe</td>\n",
       "      <td>2012-01-01</td>\n",
       "      <td>127.703125</td>\n",
       "    </tr>\n",
       "    <tr>\n",
       "      <th>449</th>\n",
       "      <td>Zimbabwe</td>\n",
       "      <td>2013-01-01</td>\n",
       "      <td>123.656250</td>\n",
       "    </tr>\n",
       "  </tbody>\n",
       "</table>\n",
       "<p>450 rows × 3 columns</p>\n",
       "</div>"
      ],
      "text/plain": [
       "      Country       Year       Value\n",
       "0     Algeria 2004-01-01  267.862069\n",
       "1     Algeria 2005-01-01  270.120690\n",
       "2     Algeria 2006-01-01  283.051724\n",
       "3     Algeria 2007-01-01  254.534483\n",
       "4     Algeria 2008-01-01  238.637931\n",
       "..        ...        ...         ...\n",
       "445  Zimbabwe 2009-01-01   89.906250\n",
       "446  Zimbabwe 2010-01-01  105.890625\n",
       "447  Zimbabwe 2011-01-01  117.984375\n",
       "448  Zimbabwe 2012-01-01  127.703125\n",
       "449  Zimbabwe 2013-01-01  123.656250\n",
       "\n",
       "[450 rows x 3 columns]"
      ]
     },
     "execution_count": 149,
     "metadata": {},
     "output_type": "execute_result"
    }
   ],
   "source": [
    "box_data = food_prod_df.groupby(['Country', 'Year'])['Value'].mean().reset_index()\n",
    "box_data"
   ]
  },
  {
   "cell_type": "code",
   "execution_count": 152,
   "id": "e0a3a1be",
   "metadata": {},
   "outputs": [
    {
     "data": {
      "application/vnd.plotly.v1+json": {
       "config": {
        "plotlyServerURL": "https://plot.ly"
       },
       "data": [
        {
         "alignmentgroup": "True",
         "hovertemplate": "Value=%{y}<extra></extra>",
         "legendgroup": "",
         "marker": {
          "color": "#636efa"
         },
         "name": "",
         "notched": false,
         "offsetgroup": "",
         "orientation": "v",
         "showlegend": false,
         "type": "box",
         "x0": " ",
         "xaxis": "x",
         "y": [
          267.86206896551727,
          270.12068965517244,
          283.05172413793105,
          254.5344827586207,
          238.63793103448276,
          341.7241379310345,
          349.36206896551727,
          375.48275862068965,
          417.3448275862069,
          454.4655172413793,
          241.25925925925927,
          255.75925925925927,
          264.14814814814815,
          296.75925925925924,
          320.14814814814815,
          411.9259259259259,
          440.8333333333333,
          475.4074074074074,
          379.72222222222223,
          534.3888888888889,
          134.96610169491527,
          131.59322033898306,
          120.50847457627118,
          130.15254237288136,
          147.84745762711864,
          156.52542372881356,
          155.9322033898305,
          165,
          166.05084745762713,
          184.16949152542372,
          13.558823529411764,
          13.529411764705882,
          13.352941176470589,
          12.911764705882353,
          13.823529411764707,
          14.235294117647058,
          14.794117647058824,
          15.852941176470589,
          14.588235294117647,
          14.764705882352942,
          193.5581395348837,
          218.41860465116278,
          218.4418604651163,
          196.90697674418604,
          241.2325581395349,
          223.41860465116278,
          258.6511627906977,
          231.48837209302326,
          270.5581395348837,
          275.90697674418607,
          211.36923076923077,
          246.66153846153847,
          260.95384615384614,
          271.6461538461538,
          283.9846153846154,
          318.9076923076923,
          343.2307692307692,
          353.2923076923077,
          369.9076923076923,
          381.12307692307695,
          4.484848484848484,
          4.7272727272727275,
          4.787878787878788,
          4.757575757575758,
          5.212121212121212,
          4.787878787878788,
          4.515151515151516,
          5.484848484848484,
          5.666666666666667,
          5.818181818181818,
          49.82222222222222,
          50.955555555555556,
          51.75555555555555,
          53.91111111111111,
          55.422222222222224,
          57.08888888888889,
          57.82222222222222,
          60.044444444444444,
          61.355555555555554,
          55.62222222222222,
          93.84615384615384,
          111.7948717948718,
          113.41025641025641,
          108.7948717948718,
          111.07692307692308,
          115.7948717948718,
          118.7948717948718,
          104.35897435897436,
          145.84615384615384,
          132.12820512820514,
          2.5,
          2.8181818181818183,
          2.5454545454545454,
          2.8636363636363638,
          2.8181818181818183,
          3.090909090909091,
          3.409090909090909,
          3.272727272727273,
          3.5,
          3.4545454545454546,
          1085.557142857143,
          1148.8857142857144,
          1188.442857142857,
          1240.4,
          1278.4142857142858,
          1291.0714285714287,
          1263.5714285714287,
          1296.6714285714286,
          1373.4142857142858,
          1369.2571428571428,
          437.43333333333334,
          492.1166666666667,
          501.95,
          498.18333333333334,
          531.3333333333334,
          575.1333333333333,
          645.1166666666667,
          659.55,
          735.7,
          768.3666666666667,
          30.275,
          31.15,
          31.575,
          32.225,
          32.7,
          34.675,
          35.6,
          36.075,
          36.85,
          38.025,
          13.13888888888889,
          12.222222222222221,
          12.722222222222221,
          10,
          13.11111111111111,
          15.25,
          17.055555555555557,
          11.416666666666666,
          12.916666666666666,
          12.694444444444445,
          414.48275862068965,
          421.51724137931035,
          431.9655172413793,
          435.9655172413793,
          487.7586206896552,
          528.3965517241379,
          554.1379310344828,
          580.1724137931035,
          601.0344827586207,
          630.8448275862069,
          117.82,
          121.98,
          123.32,
          127.86,
          130.24,
          132.12,
          138.08,
          141.68,
          149.16,
          154.7,
          14.477272727272727,
          15.977272727272727,
          16.022727272727273,
          14.863636363636363,
          16.477272727272727,
          15.909090909090908,
          16.886363636363637,
          18.34090909090909,
          17.886363636363637,
          18.977272727272727,
          260.546875,
          267.40625,
          275.9375,
          274.53125,
          289,
          271.109375,
          286.921875,
          295.59375,
          311.234375,
          319.0625,
          275.52,
          316.6,
          328.74666666666667,
          325.7733333333333,
          332.37333333333333,
          347.32,
          373.2133333333333,
          354.73333333333335,
          384.68,
          386,
          16.130434782608695,
          16.652173913043477,
          16.652173913043477,
          14.956521739130435,
          15.08695652173913,
          14.73913043478261,
          19.608695652173914,
          17.26086956521739,
          15.304347826086957,
          18.17391304347826,
          32.904761904761905,
          34.357142857142854,
          32.333333333333336,
          34.42857142857143,
          35.5,
          34.69047619047619,
          35.476190476190474,
          36.54761904761905,
          36.23809523809524,
          36.5,
          150.14492753623188,
          177.2173913043478,
          182.7246376811594,
          184.34782608695653,
          185.1304347826087,
          201.85507246376812,
          206.0144927536232,
          213.55072463768116,
          222.36231884057972,
          205.2173913043478,
          227.4375,
          203.875,
          272.4583333333333,
          310.5833333333333,
          310.625,
          347.4375,
          351.3958333333333,
          366.0208333333333,
          397.375,
          415.2291666666667,
          130.72916666666666,
          150.6875,
          152.10416666666666,
          171.85416666666666,
          184.47916666666666,
          226.10416666666666,
          222.3125,
          224.4375,
          239.29166666666666,
          220.75,
          23.842105263157894,
          26.736842105263158,
          23.026315789473685,
          24.026315789473685,
          23.92105263157895,
          25.07894736842105,
          29.210526315789473,
          26.94736842105263,
          31.105263157894736,
          30.289473684210527,
          132.19565217391303,
          124.34782608695652,
          118.93478260869566,
          106.32608695652173,
          113.04347826086956,
          116.71739130434783,
          110,
          106.76086956521739,
          100.21739130434783,
          97.21739130434783,
          353.8181818181818,
          296.02597402597405,
          371.35064935064935,
          271.02597402597405,
          320.5064935064935,
          394.2077922077922,
          371.12987012987014,
          402.31168831168833,
          340.72727272727275,
          409.038961038961,
          207.53225806451613,
          183.7258064516129,
          204.2741935483871,
          203.8709677419355,
          203.96774193548387,
          227.53225806451613,
          316.30645161290323,
          338.3225806451613,
          321.5967741935484,
          334.5483870967742,
          33.04651162790697,
          33.348837209302324,
          33.674418604651166,
          30.953488372093023,
          31.046511627906977,
          31.6046511627907,
          33.06976744186046,
          33.883720930232556,
          35.395348837209305,
          34.13953488372093,
          136.09302325581396,
          166.74418604651163,
          182.67441860465115,
          189.58139534883722,
          228.37209302325581,
          179.41860465116278,
          245.95348837209303,
          207.51162790697674,
          249.27906976744185,
          233.1627906976744,
          2456.6721311475408,
          2592.6065573770493,
          2770.27868852459,
          2578.245901639344,
          2753.032786885246,
          2315.901639344262,
          2601.7868852459014,
          2744.311475409836,
          2931.409836065574,
          2944.7704918032787,
          44.82,
          46.36,
          47.3,
          48.76,
          50.6,
          53.86,
          54.14,
          54.9,
          55.72,
          59.36,
          149.19565217391303,
          160.2173913043478,
          160.97826086956522,
          158.58695652173913,
          181.97826086956522,
          213.8695652173913,
          234.34782608695653,
          256.0217391304348,
          272.2391304347826,
          281.5652173913044,
          3.896551724137931,
          4.0344827586206895,
          4.0344827586206895,
          3.896551724137931,
          3.9310344827586206,
          4,
          3.9310344827586206,
          3.689655172413793,
          3.8275862068965516,
          4.482758620689655,
          84,
          91.48076923076923,
          77.5,
          77.38461538461539,
          115.13461538461539,
          109.40384615384616,
          110.32692307692308,
          88.71153846153847,
          100.71153846153847,
          95.61538461538461,
          71.84,
          60.8,
          73.14,
          74.62,
          79.82,
          101.68,
          115.66,
          121.66,
          124.56,
          130.96,
          732.6533333333333,
          794.36,
          720.32,
          717.2666666666667,
          815.4933333333333,
          794.5333333333333,
          758.1733333333333,
          757.1733333333333,
          794.4133333333333,
          843.5066666666667,
          520.8363636363637,
          570.3454545454546,
          560.6181818181818,
          576.1636363636363,
          558.7454545454545,
          577.7818181818182,
          519.4181818181818,
          561.2545454545455,
          527.46,
          614.54,
          141.66666666666666,
          152.54761904761904,
          145.8095238095238,
          145.14285714285714,
          146.4047619047619,
          145.9047619047619,
          146.5952380952381,
          148.11904761904762,
          158.8095238095238,
          161.02380952380952,
          346.69620253164555,
          345.9367088607595,
          385.72151898734177,
          388.26582278481015,
          390.8354430379747,
          402.88607594936707,
          455.7721518987342,
          486.37974683544303,
          493.11392405063293,
          517.0759493670886,
          49.375,
          48.75,
          51.92857142857143,
          52.464285714285715,
          55.089285714285715,
          60.517857142857146,
          61.142857142857146,
          64.375,
          68.71428571428571,
          61.839285714285715,
          139.39344262295083,
          144.18032786885246,
          142.4262295081967,
          148.39344262295083,
          144.95081967213116,
          159.52459016393442,
          145.14754098360655,
          160.49180327868854,
          172.27868852459017,
          163.0983606557377,
          568.1964285714286,
          565.0892857142857,
          560.9821428571429,
          569.4821428571429,
          419.48214285714283,
          438.82142857142856,
          461.60714285714283,
          459,
          459.125,
          470.01785714285717,
          131.45833333333334,
          126.5625,
          143.3125,
          140.47916666666666,
          132.97916666666666,
          181.14583333333334,
          210.1875,
          215.22916666666666,
          222.29166666666666,
          219.29166666666666,
          140.375,
          113.109375,
          128.515625,
          106.59375,
          91.828125,
          89.90625,
          105.890625,
          117.984375,
          127.703125,
          123.65625
         ],
         "y0": " ",
         "yaxis": "y"
        }
       ],
       "layout": {
        "boxmode": "group",
        "legend": {
         "tracegroupgap": 0
        },
        "margin": {
         "t": 60
        },
        "template": {
         "data": {
          "bar": [
           {
            "error_x": {
             "color": "#2a3f5f"
            },
            "error_y": {
             "color": "#2a3f5f"
            },
            "marker": {
             "line": {
              "color": "#E5ECF6",
              "width": 0.5
             },
             "pattern": {
              "fillmode": "overlay",
              "size": 10,
              "solidity": 0.2
             }
            },
            "type": "bar"
           }
          ],
          "barpolar": [
           {
            "marker": {
             "line": {
              "color": "#E5ECF6",
              "width": 0.5
             },
             "pattern": {
              "fillmode": "overlay",
              "size": 10,
              "solidity": 0.2
             }
            },
            "type": "barpolar"
           }
          ],
          "carpet": [
           {
            "aaxis": {
             "endlinecolor": "#2a3f5f",
             "gridcolor": "white",
             "linecolor": "white",
             "minorgridcolor": "white",
             "startlinecolor": "#2a3f5f"
            },
            "baxis": {
             "endlinecolor": "#2a3f5f",
             "gridcolor": "white",
             "linecolor": "white",
             "minorgridcolor": "white",
             "startlinecolor": "#2a3f5f"
            },
            "type": "carpet"
           }
          ],
          "choropleth": [
           {
            "colorbar": {
             "outlinewidth": 0,
             "ticks": ""
            },
            "type": "choropleth"
           }
          ],
          "contour": [
           {
            "colorbar": {
             "outlinewidth": 0,
             "ticks": ""
            },
            "colorscale": [
             [
              0,
              "#0d0887"
             ],
             [
              0.1111111111111111,
              "#46039f"
             ],
             [
              0.2222222222222222,
              "#7201a8"
             ],
             [
              0.3333333333333333,
              "#9c179e"
             ],
             [
              0.4444444444444444,
              "#bd3786"
             ],
             [
              0.5555555555555556,
              "#d8576b"
             ],
             [
              0.6666666666666666,
              "#ed7953"
             ],
             [
              0.7777777777777778,
              "#fb9f3a"
             ],
             [
              0.8888888888888888,
              "#fdca26"
             ],
             [
              1,
              "#f0f921"
             ]
            ],
            "type": "contour"
           }
          ],
          "contourcarpet": [
           {
            "colorbar": {
             "outlinewidth": 0,
             "ticks": ""
            },
            "type": "contourcarpet"
           }
          ],
          "heatmap": [
           {
            "colorbar": {
             "outlinewidth": 0,
             "ticks": ""
            },
            "colorscale": [
             [
              0,
              "#0d0887"
             ],
             [
              0.1111111111111111,
              "#46039f"
             ],
             [
              0.2222222222222222,
              "#7201a8"
             ],
             [
              0.3333333333333333,
              "#9c179e"
             ],
             [
              0.4444444444444444,
              "#bd3786"
             ],
             [
              0.5555555555555556,
              "#d8576b"
             ],
             [
              0.6666666666666666,
              "#ed7953"
             ],
             [
              0.7777777777777778,
              "#fb9f3a"
             ],
             [
              0.8888888888888888,
              "#fdca26"
             ],
             [
              1,
              "#f0f921"
             ]
            ],
            "type": "heatmap"
           }
          ],
          "heatmapgl": [
           {
            "colorbar": {
             "outlinewidth": 0,
             "ticks": ""
            },
            "colorscale": [
             [
              0,
              "#0d0887"
             ],
             [
              0.1111111111111111,
              "#46039f"
             ],
             [
              0.2222222222222222,
              "#7201a8"
             ],
             [
              0.3333333333333333,
              "#9c179e"
             ],
             [
              0.4444444444444444,
              "#bd3786"
             ],
             [
              0.5555555555555556,
              "#d8576b"
             ],
             [
              0.6666666666666666,
              "#ed7953"
             ],
             [
              0.7777777777777778,
              "#fb9f3a"
             ],
             [
              0.8888888888888888,
              "#fdca26"
             ],
             [
              1,
              "#f0f921"
             ]
            ],
            "type": "heatmapgl"
           }
          ],
          "histogram": [
           {
            "marker": {
             "pattern": {
              "fillmode": "overlay",
              "size": 10,
              "solidity": 0.2
             }
            },
            "type": "histogram"
           }
          ],
          "histogram2d": [
           {
            "colorbar": {
             "outlinewidth": 0,
             "ticks": ""
            },
            "colorscale": [
             [
              0,
              "#0d0887"
             ],
             [
              0.1111111111111111,
              "#46039f"
             ],
             [
              0.2222222222222222,
              "#7201a8"
             ],
             [
              0.3333333333333333,
              "#9c179e"
             ],
             [
              0.4444444444444444,
              "#bd3786"
             ],
             [
              0.5555555555555556,
              "#d8576b"
             ],
             [
              0.6666666666666666,
              "#ed7953"
             ],
             [
              0.7777777777777778,
              "#fb9f3a"
             ],
             [
              0.8888888888888888,
              "#fdca26"
             ],
             [
              1,
              "#f0f921"
             ]
            ],
            "type": "histogram2d"
           }
          ],
          "histogram2dcontour": [
           {
            "colorbar": {
             "outlinewidth": 0,
             "ticks": ""
            },
            "colorscale": [
             [
              0,
              "#0d0887"
             ],
             [
              0.1111111111111111,
              "#46039f"
             ],
             [
              0.2222222222222222,
              "#7201a8"
             ],
             [
              0.3333333333333333,
              "#9c179e"
             ],
             [
              0.4444444444444444,
              "#bd3786"
             ],
             [
              0.5555555555555556,
              "#d8576b"
             ],
             [
              0.6666666666666666,
              "#ed7953"
             ],
             [
              0.7777777777777778,
              "#fb9f3a"
             ],
             [
              0.8888888888888888,
              "#fdca26"
             ],
             [
              1,
              "#f0f921"
             ]
            ],
            "type": "histogram2dcontour"
           }
          ],
          "mesh3d": [
           {
            "colorbar": {
             "outlinewidth": 0,
             "ticks": ""
            },
            "type": "mesh3d"
           }
          ],
          "parcoords": [
           {
            "line": {
             "colorbar": {
              "outlinewidth": 0,
              "ticks": ""
             }
            },
            "type": "parcoords"
           }
          ],
          "pie": [
           {
            "automargin": true,
            "type": "pie"
           }
          ],
          "scatter": [
           {
            "fillpattern": {
             "fillmode": "overlay",
             "size": 10,
             "solidity": 0.2
            },
            "type": "scatter"
           }
          ],
          "scatter3d": [
           {
            "line": {
             "colorbar": {
              "outlinewidth": 0,
              "ticks": ""
             }
            },
            "marker": {
             "colorbar": {
              "outlinewidth": 0,
              "ticks": ""
             }
            },
            "type": "scatter3d"
           }
          ],
          "scattercarpet": [
           {
            "marker": {
             "colorbar": {
              "outlinewidth": 0,
              "ticks": ""
             }
            },
            "type": "scattercarpet"
           }
          ],
          "scattergeo": [
           {
            "marker": {
             "colorbar": {
              "outlinewidth": 0,
              "ticks": ""
             }
            },
            "type": "scattergeo"
           }
          ],
          "scattergl": [
           {
            "marker": {
             "colorbar": {
              "outlinewidth": 0,
              "ticks": ""
             }
            },
            "type": "scattergl"
           }
          ],
          "scattermapbox": [
           {
            "marker": {
             "colorbar": {
              "outlinewidth": 0,
              "ticks": ""
             }
            },
            "type": "scattermapbox"
           }
          ],
          "scatterpolar": [
           {
            "marker": {
             "colorbar": {
              "outlinewidth": 0,
              "ticks": ""
             }
            },
            "type": "scatterpolar"
           }
          ],
          "scatterpolargl": [
           {
            "marker": {
             "colorbar": {
              "outlinewidth": 0,
              "ticks": ""
             }
            },
            "type": "scatterpolargl"
           }
          ],
          "scatterternary": [
           {
            "marker": {
             "colorbar": {
              "outlinewidth": 0,
              "ticks": ""
             }
            },
            "type": "scatterternary"
           }
          ],
          "surface": [
           {
            "colorbar": {
             "outlinewidth": 0,
             "ticks": ""
            },
            "colorscale": [
             [
              0,
              "#0d0887"
             ],
             [
              0.1111111111111111,
              "#46039f"
             ],
             [
              0.2222222222222222,
              "#7201a8"
             ],
             [
              0.3333333333333333,
              "#9c179e"
             ],
             [
              0.4444444444444444,
              "#bd3786"
             ],
             [
              0.5555555555555556,
              "#d8576b"
             ],
             [
              0.6666666666666666,
              "#ed7953"
             ],
             [
              0.7777777777777778,
              "#fb9f3a"
             ],
             [
              0.8888888888888888,
              "#fdca26"
             ],
             [
              1,
              "#f0f921"
             ]
            ],
            "type": "surface"
           }
          ],
          "table": [
           {
            "cells": {
             "fill": {
              "color": "#EBF0F8"
             },
             "line": {
              "color": "white"
             }
            },
            "header": {
             "fill": {
              "color": "#C8D4E3"
             },
             "line": {
              "color": "white"
             }
            },
            "type": "table"
           }
          ]
         },
         "layout": {
          "annotationdefaults": {
           "arrowcolor": "#2a3f5f",
           "arrowhead": 0,
           "arrowwidth": 1
          },
          "autotypenumbers": "strict",
          "coloraxis": {
           "colorbar": {
            "outlinewidth": 0,
            "ticks": ""
           }
          },
          "colorscale": {
           "diverging": [
            [
             0,
             "#8e0152"
            ],
            [
             0.1,
             "#c51b7d"
            ],
            [
             0.2,
             "#de77ae"
            ],
            [
             0.3,
             "#f1b6da"
            ],
            [
             0.4,
             "#fde0ef"
            ],
            [
             0.5,
             "#f7f7f7"
            ],
            [
             0.6,
             "#e6f5d0"
            ],
            [
             0.7,
             "#b8e186"
            ],
            [
             0.8,
             "#7fbc41"
            ],
            [
             0.9,
             "#4d9221"
            ],
            [
             1,
             "#276419"
            ]
           ],
           "sequential": [
            [
             0,
             "#0d0887"
            ],
            [
             0.1111111111111111,
             "#46039f"
            ],
            [
             0.2222222222222222,
             "#7201a8"
            ],
            [
             0.3333333333333333,
             "#9c179e"
            ],
            [
             0.4444444444444444,
             "#bd3786"
            ],
            [
             0.5555555555555556,
             "#d8576b"
            ],
            [
             0.6666666666666666,
             "#ed7953"
            ],
            [
             0.7777777777777778,
             "#fb9f3a"
            ],
            [
             0.8888888888888888,
             "#fdca26"
            ],
            [
             1,
             "#f0f921"
            ]
           ],
           "sequentialminus": [
            [
             0,
             "#0d0887"
            ],
            [
             0.1111111111111111,
             "#46039f"
            ],
            [
             0.2222222222222222,
             "#7201a8"
            ],
            [
             0.3333333333333333,
             "#9c179e"
            ],
            [
             0.4444444444444444,
             "#bd3786"
            ],
            [
             0.5555555555555556,
             "#d8576b"
            ],
            [
             0.6666666666666666,
             "#ed7953"
            ],
            [
             0.7777777777777778,
             "#fb9f3a"
            ],
            [
             0.8888888888888888,
             "#fdca26"
            ],
            [
             1,
             "#f0f921"
            ]
           ]
          },
          "colorway": [
           "#636efa",
           "#EF553B",
           "#00cc96",
           "#ab63fa",
           "#FFA15A",
           "#19d3f3",
           "#FF6692",
           "#B6E880",
           "#FF97FF",
           "#FECB52"
          ],
          "font": {
           "color": "#2a3f5f"
          },
          "geo": {
           "bgcolor": "white",
           "lakecolor": "white",
           "landcolor": "#E5ECF6",
           "showlakes": true,
           "showland": true,
           "subunitcolor": "white"
          },
          "hoverlabel": {
           "align": "left"
          },
          "hovermode": "closest",
          "mapbox": {
           "style": "light"
          },
          "paper_bgcolor": "white",
          "plot_bgcolor": "#E5ECF6",
          "polar": {
           "angularaxis": {
            "gridcolor": "white",
            "linecolor": "white",
            "ticks": ""
           },
           "bgcolor": "#E5ECF6",
           "radialaxis": {
            "gridcolor": "white",
            "linecolor": "white",
            "ticks": ""
           }
          },
          "scene": {
           "xaxis": {
            "backgroundcolor": "#E5ECF6",
            "gridcolor": "white",
            "gridwidth": 2,
            "linecolor": "white",
            "showbackground": true,
            "ticks": "",
            "zerolinecolor": "white"
           },
           "yaxis": {
            "backgroundcolor": "#E5ECF6",
            "gridcolor": "white",
            "gridwidth": 2,
            "linecolor": "white",
            "showbackground": true,
            "ticks": "",
            "zerolinecolor": "white"
           },
           "zaxis": {
            "backgroundcolor": "#E5ECF6",
            "gridcolor": "white",
            "gridwidth": 2,
            "linecolor": "white",
            "showbackground": true,
            "ticks": "",
            "zerolinecolor": "white"
           }
          },
          "shapedefaults": {
           "line": {
            "color": "#2a3f5f"
           }
          },
          "ternary": {
           "aaxis": {
            "gridcolor": "white",
            "linecolor": "white",
            "ticks": ""
           },
           "baxis": {
            "gridcolor": "white",
            "linecolor": "white",
            "ticks": ""
           },
           "bgcolor": "#E5ECF6",
           "caxis": {
            "gridcolor": "white",
            "linecolor": "white",
            "ticks": ""
           }
          },
          "title": {
           "x": 0.05
          },
          "xaxis": {
           "automargin": true,
           "gridcolor": "white",
           "linecolor": "white",
           "ticks": "",
           "title": {
            "standoff": 15
           },
           "zerolinecolor": "white",
           "zerolinewidth": 2
          },
          "yaxis": {
           "automargin": true,
           "gridcolor": "white",
           "linecolor": "white",
           "ticks": "",
           "title": {
            "standoff": 15
           },
           "zerolinecolor": "white",
           "zerolinewidth": 2
          }
         }
        },
        "xaxis": {
         "anchor": "y",
         "domain": [
          0,
          1
         ]
        },
        "yaxis": {
         "anchor": "x",
         "domain": [
          0,
          1
         ],
         "title": {
          "text": "Value"
         }
        }
       }
      },
      "text/html": [
       "<div>                            <div id=\"05d30708-16b4-4f7b-ae2f-b65a1a8b5893\" class=\"plotly-graph-div\" style=\"height:525px; width:100%;\"></div>            <script type=\"text/javascript\">                require([\"plotly\"], function(Plotly) {                    window.PLOTLYENV=window.PLOTLYENV || {};                                    if (document.getElementById(\"05d30708-16b4-4f7b-ae2f-b65a1a8b5893\")) {                    Plotly.newPlot(                        \"05d30708-16b4-4f7b-ae2f-b65a1a8b5893\",                        [{\"alignmentgroup\":\"True\",\"hovertemplate\":\"Value=%{y}<extra></extra>\",\"legendgroup\":\"\",\"marker\":{\"color\":\"#636efa\"},\"name\":\"\",\"notched\":false,\"offsetgroup\":\"\",\"orientation\":\"v\",\"showlegend\":false,\"x0\":\" \",\"xaxis\":\"x\",\"y\":[267.86206896551727,270.12068965517244,283.05172413793105,254.5344827586207,238.63793103448276,341.7241379310345,349.36206896551727,375.48275862068965,417.3448275862069,454.4655172413793,241.25925925925927,255.75925925925927,264.14814814814815,296.75925925925924,320.14814814814815,411.9259259259259,440.8333333333333,475.4074074074074,379.72222222222223,534.3888888888889,134.96610169491527,131.59322033898306,120.50847457627118,130.15254237288136,147.84745762711864,156.52542372881356,155.9322033898305,165.0,166.05084745762713,184.16949152542372,13.558823529411764,13.529411764705882,13.352941176470589,12.911764705882353,13.823529411764707,14.235294117647058,14.794117647058824,15.852941176470589,14.588235294117647,14.764705882352942,193.5581395348837,218.41860465116278,218.4418604651163,196.90697674418604,241.2325581395349,223.41860465116278,258.6511627906977,231.48837209302326,270.5581395348837,275.90697674418607,211.36923076923077,246.66153846153847,260.95384615384614,271.6461538461538,283.9846153846154,318.9076923076923,343.2307692307692,353.2923076923077,369.9076923076923,381.12307692307695,4.484848484848484,4.7272727272727275,4.787878787878788,4.757575757575758,5.212121212121212,4.787878787878788,4.515151515151516,5.484848484848484,5.666666666666667,5.818181818181818,49.82222222222222,50.955555555555556,51.75555555555555,53.91111111111111,55.422222222222224,57.08888888888889,57.82222222222222,60.044444444444444,61.355555555555554,55.62222222222222,93.84615384615384,111.7948717948718,113.41025641025641,108.7948717948718,111.07692307692308,115.7948717948718,118.7948717948718,104.35897435897436,145.84615384615384,132.12820512820514,2.5,2.8181818181818183,2.5454545454545454,2.8636363636363638,2.8181818181818183,3.090909090909091,3.409090909090909,3.272727272727273,3.5,3.4545454545454546,1085.557142857143,1148.8857142857144,1188.442857142857,1240.4,1278.4142857142858,1291.0714285714287,1263.5714285714287,1296.6714285714286,1373.4142857142858,1369.2571428571428,437.43333333333334,492.1166666666667,501.95,498.18333333333334,531.3333333333334,575.1333333333333,645.1166666666667,659.55,735.7,768.3666666666667,30.275,31.15,31.575,32.225,32.7,34.675,35.6,36.075,36.85,38.025,13.13888888888889,12.222222222222221,12.722222222222221,10.0,13.11111111111111,15.25,17.055555555555557,11.416666666666666,12.916666666666666,12.694444444444445,414.48275862068965,421.51724137931035,431.9655172413793,435.9655172413793,487.7586206896552,528.3965517241379,554.1379310344828,580.1724137931035,601.0344827586207,630.8448275862069,117.82,121.98,123.32,127.86,130.24,132.12,138.08,141.68,149.16,154.7,14.477272727272727,15.977272727272727,16.022727272727273,14.863636363636363,16.477272727272727,15.909090909090908,16.886363636363637,18.34090909090909,17.886363636363637,18.977272727272727,260.546875,267.40625,275.9375,274.53125,289.0,271.109375,286.921875,295.59375,311.234375,319.0625,275.52,316.6,328.74666666666667,325.7733333333333,332.37333333333333,347.32,373.2133333333333,354.73333333333335,384.68,386.0,16.130434782608695,16.652173913043477,16.652173913043477,14.956521739130435,15.08695652173913,14.73913043478261,19.608695652173914,17.26086956521739,15.304347826086957,18.17391304347826,32.904761904761905,34.357142857142854,32.333333333333336,34.42857142857143,35.5,34.69047619047619,35.476190476190474,36.54761904761905,36.23809523809524,36.5,150.14492753623188,177.2173913043478,182.7246376811594,184.34782608695653,185.1304347826087,201.85507246376812,206.0144927536232,213.55072463768116,222.36231884057972,205.2173913043478,227.4375,203.875,272.4583333333333,310.5833333333333,310.625,347.4375,351.3958333333333,366.0208333333333,397.375,415.2291666666667,130.72916666666666,150.6875,152.10416666666666,171.85416666666666,184.47916666666666,226.10416666666666,222.3125,224.4375,239.29166666666666,220.75,23.842105263157894,26.736842105263158,23.026315789473685,24.026315789473685,23.92105263157895,25.07894736842105,29.210526315789473,26.94736842105263,31.105263157894736,30.289473684210527,132.19565217391303,124.34782608695652,118.93478260869566,106.32608695652173,113.04347826086956,116.71739130434783,110.0,106.76086956521739,100.21739130434783,97.21739130434783,353.8181818181818,296.02597402597405,371.35064935064935,271.02597402597405,320.5064935064935,394.2077922077922,371.12987012987014,402.31168831168833,340.72727272727275,409.038961038961,207.53225806451613,183.7258064516129,204.2741935483871,203.8709677419355,203.96774193548387,227.53225806451613,316.30645161290323,338.3225806451613,321.5967741935484,334.5483870967742,33.04651162790697,33.348837209302324,33.674418604651166,30.953488372093023,31.046511627906977,31.6046511627907,33.06976744186046,33.883720930232556,35.395348837209305,34.13953488372093,136.09302325581396,166.74418604651163,182.67441860465115,189.58139534883722,228.37209302325581,179.41860465116278,245.95348837209303,207.51162790697674,249.27906976744185,233.1627906976744,2456.6721311475408,2592.6065573770493,2770.27868852459,2578.245901639344,2753.032786885246,2315.901639344262,2601.7868852459014,2744.311475409836,2931.409836065574,2944.7704918032787,44.82,46.36,47.3,48.76,50.6,53.86,54.14,54.9,55.72,59.36,149.19565217391303,160.2173913043478,160.97826086956522,158.58695652173913,181.97826086956522,213.8695652173913,234.34782608695653,256.0217391304348,272.2391304347826,281.5652173913044,3.896551724137931,4.0344827586206895,4.0344827586206895,3.896551724137931,3.9310344827586206,4.0,3.9310344827586206,3.689655172413793,3.8275862068965516,4.482758620689655,84.0,91.48076923076923,77.5,77.38461538461539,115.13461538461539,109.40384615384616,110.32692307692308,88.71153846153847,100.71153846153847,95.61538461538461,71.84,60.8,73.14,74.62,79.82,101.68,115.66,121.66,124.56,130.96,732.6533333333333,794.36,720.32,717.2666666666667,815.4933333333333,794.5333333333333,758.1733333333333,757.1733333333333,794.4133333333333,843.5066666666667,520.8363636363637,570.3454545454546,560.6181818181818,576.1636363636363,558.7454545454545,577.7818181818182,519.4181818181818,561.2545454545455,527.46,614.54,141.66666666666666,152.54761904761904,145.8095238095238,145.14285714285714,146.4047619047619,145.9047619047619,146.5952380952381,148.11904761904762,158.8095238095238,161.02380952380952,346.69620253164555,345.9367088607595,385.72151898734177,388.26582278481015,390.8354430379747,402.88607594936707,455.7721518987342,486.37974683544303,493.11392405063293,517.0759493670886,49.375,48.75,51.92857142857143,52.464285714285715,55.089285714285715,60.517857142857146,61.142857142857146,64.375,68.71428571428571,61.839285714285715,139.39344262295083,144.18032786885246,142.4262295081967,148.39344262295083,144.95081967213116,159.52459016393442,145.14754098360655,160.49180327868854,172.27868852459017,163.0983606557377,568.1964285714286,565.0892857142857,560.9821428571429,569.4821428571429,419.48214285714283,438.82142857142856,461.60714285714283,459.0,459.125,470.01785714285717,131.45833333333334,126.5625,143.3125,140.47916666666666,132.97916666666666,181.14583333333334,210.1875,215.22916666666666,222.29166666666666,219.29166666666666,140.375,113.109375,128.515625,106.59375,91.828125,89.90625,105.890625,117.984375,127.703125,123.65625],\"y0\":\" \",\"yaxis\":\"y\",\"type\":\"box\"}],                        {\"template\":{\"data\":{\"histogram2dcontour\":[{\"type\":\"histogram2dcontour\",\"colorbar\":{\"outlinewidth\":0,\"ticks\":\"\"},\"colorscale\":[[0.0,\"#0d0887\"],[0.1111111111111111,\"#46039f\"],[0.2222222222222222,\"#7201a8\"],[0.3333333333333333,\"#9c179e\"],[0.4444444444444444,\"#bd3786\"],[0.5555555555555556,\"#d8576b\"],[0.6666666666666666,\"#ed7953\"],[0.7777777777777778,\"#fb9f3a\"],[0.8888888888888888,\"#fdca26\"],[1.0,\"#f0f921\"]]}],\"choropleth\":[{\"type\":\"choropleth\",\"colorbar\":{\"outlinewidth\":0,\"ticks\":\"\"}}],\"histogram2d\":[{\"type\":\"histogram2d\",\"colorbar\":{\"outlinewidth\":0,\"ticks\":\"\"},\"colorscale\":[[0.0,\"#0d0887\"],[0.1111111111111111,\"#46039f\"],[0.2222222222222222,\"#7201a8\"],[0.3333333333333333,\"#9c179e\"],[0.4444444444444444,\"#bd3786\"],[0.5555555555555556,\"#d8576b\"],[0.6666666666666666,\"#ed7953\"],[0.7777777777777778,\"#fb9f3a\"],[0.8888888888888888,\"#fdca26\"],[1.0,\"#f0f921\"]]}],\"heatmap\":[{\"type\":\"heatmap\",\"colorbar\":{\"outlinewidth\":0,\"ticks\":\"\"},\"colorscale\":[[0.0,\"#0d0887\"],[0.1111111111111111,\"#46039f\"],[0.2222222222222222,\"#7201a8\"],[0.3333333333333333,\"#9c179e\"],[0.4444444444444444,\"#bd3786\"],[0.5555555555555556,\"#d8576b\"],[0.6666666666666666,\"#ed7953\"],[0.7777777777777778,\"#fb9f3a\"],[0.8888888888888888,\"#fdca26\"],[1.0,\"#f0f921\"]]}],\"heatmapgl\":[{\"type\":\"heatmapgl\",\"colorbar\":{\"outlinewidth\":0,\"ticks\":\"\"},\"colorscale\":[[0.0,\"#0d0887\"],[0.1111111111111111,\"#46039f\"],[0.2222222222222222,\"#7201a8\"],[0.3333333333333333,\"#9c179e\"],[0.4444444444444444,\"#bd3786\"],[0.5555555555555556,\"#d8576b\"],[0.6666666666666666,\"#ed7953\"],[0.7777777777777778,\"#fb9f3a\"],[0.8888888888888888,\"#fdca26\"],[1.0,\"#f0f921\"]]}],\"contourcarpet\":[{\"type\":\"contourcarpet\",\"colorbar\":{\"outlinewidth\":0,\"ticks\":\"\"}}],\"contour\":[{\"type\":\"contour\",\"colorbar\":{\"outlinewidth\":0,\"ticks\":\"\"},\"colorscale\":[[0.0,\"#0d0887\"],[0.1111111111111111,\"#46039f\"],[0.2222222222222222,\"#7201a8\"],[0.3333333333333333,\"#9c179e\"],[0.4444444444444444,\"#bd3786\"],[0.5555555555555556,\"#d8576b\"],[0.6666666666666666,\"#ed7953\"],[0.7777777777777778,\"#fb9f3a\"],[0.8888888888888888,\"#fdca26\"],[1.0,\"#f0f921\"]]}],\"surface\":[{\"type\":\"surface\",\"colorbar\":{\"outlinewidth\":0,\"ticks\":\"\"},\"colorscale\":[[0.0,\"#0d0887\"],[0.1111111111111111,\"#46039f\"],[0.2222222222222222,\"#7201a8\"],[0.3333333333333333,\"#9c179e\"],[0.4444444444444444,\"#bd3786\"],[0.5555555555555556,\"#d8576b\"],[0.6666666666666666,\"#ed7953\"],[0.7777777777777778,\"#fb9f3a\"],[0.8888888888888888,\"#fdca26\"],[1.0,\"#f0f921\"]]}],\"mesh3d\":[{\"type\":\"mesh3d\",\"colorbar\":{\"outlinewidth\":0,\"ticks\":\"\"}}],\"scatter\":[{\"fillpattern\":{\"fillmode\":\"overlay\",\"size\":10,\"solidity\":0.2},\"type\":\"scatter\"}],\"parcoords\":[{\"type\":\"parcoords\",\"line\":{\"colorbar\":{\"outlinewidth\":0,\"ticks\":\"\"}}}],\"scatterpolargl\":[{\"type\":\"scatterpolargl\",\"marker\":{\"colorbar\":{\"outlinewidth\":0,\"ticks\":\"\"}}}],\"bar\":[{\"error_x\":{\"color\":\"#2a3f5f\"},\"error_y\":{\"color\":\"#2a3f5f\"},\"marker\":{\"line\":{\"color\":\"#E5ECF6\",\"width\":0.5},\"pattern\":{\"fillmode\":\"overlay\",\"size\":10,\"solidity\":0.2}},\"type\":\"bar\"}],\"scattergeo\":[{\"type\":\"scattergeo\",\"marker\":{\"colorbar\":{\"outlinewidth\":0,\"ticks\":\"\"}}}],\"scatterpolar\":[{\"type\":\"scatterpolar\",\"marker\":{\"colorbar\":{\"outlinewidth\":0,\"ticks\":\"\"}}}],\"histogram\":[{\"marker\":{\"pattern\":{\"fillmode\":\"overlay\",\"size\":10,\"solidity\":0.2}},\"type\":\"histogram\"}],\"scattergl\":[{\"type\":\"scattergl\",\"marker\":{\"colorbar\":{\"outlinewidth\":0,\"ticks\":\"\"}}}],\"scatter3d\":[{\"type\":\"scatter3d\",\"line\":{\"colorbar\":{\"outlinewidth\":0,\"ticks\":\"\"}},\"marker\":{\"colorbar\":{\"outlinewidth\":0,\"ticks\":\"\"}}}],\"scattermapbox\":[{\"type\":\"scattermapbox\",\"marker\":{\"colorbar\":{\"outlinewidth\":0,\"ticks\":\"\"}}}],\"scatterternary\":[{\"type\":\"scatterternary\",\"marker\":{\"colorbar\":{\"outlinewidth\":0,\"ticks\":\"\"}}}],\"scattercarpet\":[{\"type\":\"scattercarpet\",\"marker\":{\"colorbar\":{\"outlinewidth\":0,\"ticks\":\"\"}}}],\"carpet\":[{\"aaxis\":{\"endlinecolor\":\"#2a3f5f\",\"gridcolor\":\"white\",\"linecolor\":\"white\",\"minorgridcolor\":\"white\",\"startlinecolor\":\"#2a3f5f\"},\"baxis\":{\"endlinecolor\":\"#2a3f5f\",\"gridcolor\":\"white\",\"linecolor\":\"white\",\"minorgridcolor\":\"white\",\"startlinecolor\":\"#2a3f5f\"},\"type\":\"carpet\"}],\"table\":[{\"cells\":{\"fill\":{\"color\":\"#EBF0F8\"},\"line\":{\"color\":\"white\"}},\"header\":{\"fill\":{\"color\":\"#C8D4E3\"},\"line\":{\"color\":\"white\"}},\"type\":\"table\"}],\"barpolar\":[{\"marker\":{\"line\":{\"color\":\"#E5ECF6\",\"width\":0.5},\"pattern\":{\"fillmode\":\"overlay\",\"size\":10,\"solidity\":0.2}},\"type\":\"barpolar\"}],\"pie\":[{\"automargin\":true,\"type\":\"pie\"}]},\"layout\":{\"autotypenumbers\":\"strict\",\"colorway\":[\"#636efa\",\"#EF553B\",\"#00cc96\",\"#ab63fa\",\"#FFA15A\",\"#19d3f3\",\"#FF6692\",\"#B6E880\",\"#FF97FF\",\"#FECB52\"],\"font\":{\"color\":\"#2a3f5f\"},\"hovermode\":\"closest\",\"hoverlabel\":{\"align\":\"left\"},\"paper_bgcolor\":\"white\",\"plot_bgcolor\":\"#E5ECF6\",\"polar\":{\"bgcolor\":\"#E5ECF6\",\"angularaxis\":{\"gridcolor\":\"white\",\"linecolor\":\"white\",\"ticks\":\"\"},\"radialaxis\":{\"gridcolor\":\"white\",\"linecolor\":\"white\",\"ticks\":\"\"}},\"ternary\":{\"bgcolor\":\"#E5ECF6\",\"aaxis\":{\"gridcolor\":\"white\",\"linecolor\":\"white\",\"ticks\":\"\"},\"baxis\":{\"gridcolor\":\"white\",\"linecolor\":\"white\",\"ticks\":\"\"},\"caxis\":{\"gridcolor\":\"white\",\"linecolor\":\"white\",\"ticks\":\"\"}},\"coloraxis\":{\"colorbar\":{\"outlinewidth\":0,\"ticks\":\"\"}},\"colorscale\":{\"sequential\":[[0.0,\"#0d0887\"],[0.1111111111111111,\"#46039f\"],[0.2222222222222222,\"#7201a8\"],[0.3333333333333333,\"#9c179e\"],[0.4444444444444444,\"#bd3786\"],[0.5555555555555556,\"#d8576b\"],[0.6666666666666666,\"#ed7953\"],[0.7777777777777778,\"#fb9f3a\"],[0.8888888888888888,\"#fdca26\"],[1.0,\"#f0f921\"]],\"sequentialminus\":[[0.0,\"#0d0887\"],[0.1111111111111111,\"#46039f\"],[0.2222222222222222,\"#7201a8\"],[0.3333333333333333,\"#9c179e\"],[0.4444444444444444,\"#bd3786\"],[0.5555555555555556,\"#d8576b\"],[0.6666666666666666,\"#ed7953\"],[0.7777777777777778,\"#fb9f3a\"],[0.8888888888888888,\"#fdca26\"],[1.0,\"#f0f921\"]],\"diverging\":[[0,\"#8e0152\"],[0.1,\"#c51b7d\"],[0.2,\"#de77ae\"],[0.3,\"#f1b6da\"],[0.4,\"#fde0ef\"],[0.5,\"#f7f7f7\"],[0.6,\"#e6f5d0\"],[0.7,\"#b8e186\"],[0.8,\"#7fbc41\"],[0.9,\"#4d9221\"],[1,\"#276419\"]]},\"xaxis\":{\"gridcolor\":\"white\",\"linecolor\":\"white\",\"ticks\":\"\",\"title\":{\"standoff\":15},\"zerolinecolor\":\"white\",\"automargin\":true,\"zerolinewidth\":2},\"yaxis\":{\"gridcolor\":\"white\",\"linecolor\":\"white\",\"ticks\":\"\",\"title\":{\"standoff\":15},\"zerolinecolor\":\"white\",\"automargin\":true,\"zerolinewidth\":2},\"scene\":{\"xaxis\":{\"backgroundcolor\":\"#E5ECF6\",\"gridcolor\":\"white\",\"linecolor\":\"white\",\"showbackground\":true,\"ticks\":\"\",\"zerolinecolor\":\"white\",\"gridwidth\":2},\"yaxis\":{\"backgroundcolor\":\"#E5ECF6\",\"gridcolor\":\"white\",\"linecolor\":\"white\",\"showbackground\":true,\"ticks\":\"\",\"zerolinecolor\":\"white\",\"gridwidth\":2},\"zaxis\":{\"backgroundcolor\":\"#E5ECF6\",\"gridcolor\":\"white\",\"linecolor\":\"white\",\"showbackground\":true,\"ticks\":\"\",\"zerolinecolor\":\"white\",\"gridwidth\":2}},\"shapedefaults\":{\"line\":{\"color\":\"#2a3f5f\"}},\"annotationdefaults\":{\"arrowcolor\":\"#2a3f5f\",\"arrowhead\":0,\"arrowwidth\":1},\"geo\":{\"bgcolor\":\"white\",\"landcolor\":\"#E5ECF6\",\"subunitcolor\":\"white\",\"showland\":true,\"showlakes\":true,\"lakecolor\":\"white\"},\"title\":{\"x\":0.05},\"mapbox\":{\"style\":\"light\"}}},\"xaxis\":{\"anchor\":\"y\",\"domain\":[0.0,1.0]},\"yaxis\":{\"anchor\":\"x\",\"domain\":[0.0,1.0],\"title\":{\"text\":\"Value\"}},\"legend\":{\"tracegroupgap\":0},\"margin\":{\"t\":60},\"boxmode\":\"group\"},                        {\"responsive\": true}                    ).then(function(){\n",
       "                            \n",
       "var gd = document.getElementById('05d30708-16b4-4f7b-ae2f-b65a1a8b5893');\n",
       "var x = new MutationObserver(function (mutations, observer) {{\n",
       "        var display = window.getComputedStyle(gd).display;\n",
       "        if (!display || display === 'none') {{\n",
       "            console.log([gd, 'removed!']);\n",
       "            Plotly.purge(gd);\n",
       "            observer.disconnect();\n",
       "        }}\n",
       "}});\n",
       "\n",
       "// Listen for the removal of the full notebook cells\n",
       "var notebookContainer = gd.closest('#notebook-container');\n",
       "if (notebookContainer) {{\n",
       "    x.observe(notebookContainer, {childList: true});\n",
       "}}\n",
       "\n",
       "// Listen for the clearing of the current output cell\n",
       "var outputEl = gd.closest('.output');\n",
       "if (outputEl) {{\n",
       "    x.observe(outputEl, {childList: true});\n",
       "}}\n",
       "\n",
       "                        })                };                });            </script>        </div>"
      ]
     },
     "metadata": {},
     "output_type": "display_data"
    }
   ],
   "source": [
    "px.box(box_data, y ='Value')"
   ]
  },
  {
   "cell_type": "markdown",
   "id": "dc49007a",
   "metadata": {},
   "source": [
    "### For all the years under study, Egypt, Nigeria and South Africa consistently produced outrageously higher quantity of food than other countries"
   ]
  },
  {
   "cell_type": "code",
   "execution_count": null,
   "id": "11c5f49a",
   "metadata": {},
   "outputs": [],
   "source": []
  },
  {
   "cell_type": "code",
   "execution_count": 32,
   "id": "8473449d",
   "metadata": {},
   "outputs": [
    {
     "name": "stdout",
     "output_type": "stream",
     "text": [
      "2004:\n",
      "High consumption     Country  Value\n",
      "10    Egypt   3309\n",
      "26  Morocco   3263\n",
      "41  Tunisia   3248\n",
      "------------------------------------------\n",
      "2005:\n",
      "High consumption    Country  Value\n",
      "10   Egypt   3367\n",
      "------------------------------------------\n",
      "2006:\n",
      "High consumption    Country  Value\n",
      "10   Egypt   3389\n",
      "------------------------------------------\n",
      "2007:\n",
      "------------------------------------------\n",
      "2008:\n",
      "High consumption    Country  Value\n",
      "10   Egypt   3490\n",
      "------------------------------------------\n",
      "2009:\n",
      "High consumption    Country  Value\n",
      "10   Egypt   3441\n",
      "------------------------------------------\n",
      "2010:\n",
      "High consumption    Country  Value\n",
      "10   Egypt   3507\n",
      "------------------------------------------\n",
      "2011:\n",
      "High consumption    Country  Value\n",
      "10   Egypt   3549\n",
      "------------------------------------------\n",
      "2012:\n",
      "High consumption    Country  Value\n",
      "10   Egypt   3561\n",
      "------------------------------------------\n",
      "2013:\n",
      "High consumption    Country  Value\n",
      "10   Egypt   3522\n",
      "------------------------------------------\n"
     ]
    }
   ],
   "source": [
    "# IN TERMS OF CONSUMPTION\n",
    "# Compute outliers for all years in terms of food consumption:\n",
    "for year in np.arange(2004, 2014, 1):\n",
    "    outliers = compute_outliers(food_supp_df, str(year), 'Value')\n",
    "    print('{}:'.format(year))\n",
    "    if len(outliers['Top outliers']) > 0:\n",
    "        print('High consumption', outliers['Top outliers'])\n",
    "    if len(outliers['Bottom outliers']) > 0:\n",
    "        print('Low consumption', outliers['Bottom outliers'])\n",
    "    print('------------------------------------------')"
   ]
  },
  {
   "cell_type": "markdown",
   "id": "9ea89f67",
   "metadata": {},
   "source": [
    "### Even though Egypt, Nigeria and South Africa had the highest food production, Egypt was the only country out of the three that equally had higher food consumption among the three countries.\n",
    "\n",
    "## In the year 2007, no outliers were observed in terms of food consumption"
   ]
  },
  {
   "cell_type": "code",
   "execution_count": null,
   "id": "c5fbd25d",
   "metadata": {},
   "outputs": [],
   "source": []
  },
  {
   "cell_type": "code",
   "execution_count": 33,
   "id": "aa68a687",
   "metadata": {},
   "outputs": [],
   "source": [
    "# Average consumption and production for all countries for each year\n",
    "def avg_prod_and_cons(prod_df, cons_df):\n",
    "    prod = prod_df.groupby('Year')['Value'].mean().reset_index()\n",
    "    prod.rename(columns = {'Value': 'Average production (kt)'}, inplace=True)\n",
    "    \n",
    "    cons = cons_df.groupby('Year')['Value'].mean().reset_index()\n",
    "    cons.rename(columns = {'Value': 'Average consumption (kcal/person/day)'}, inplace=True)\n",
    "    average_table = pd.merge(prod, cons, on='Year')\n",
    "    return average_table"
   ]
  },
  {
   "cell_type": "code",
   "execution_count": 35,
   "id": "caf56ab1",
   "metadata": {},
   "outputs": [
    {
     "data": {
      "text/html": [
       "<div>\n",
       "<style scoped>\n",
       "    .dataframe tbody tr th:only-of-type {\n",
       "        vertical-align: middle;\n",
       "    }\n",
       "\n",
       "    .dataframe tbody tr th {\n",
       "        vertical-align: top;\n",
       "    }\n",
       "\n",
       "    .dataframe thead th {\n",
       "        text-align: right;\n",
       "    }\n",
       "</style>\n",
       "<table border=\"1\" class=\"dataframe\">\n",
       "  <thead>\n",
       "    <tr style=\"text-align: right;\">\n",
       "      <th></th>\n",
       "      <th>Year</th>\n",
       "      <th>Average production (kt)</th>\n",
       "      <th>Average consumption (kcal/person/day)</th>\n",
       "    </tr>\n",
       "  </thead>\n",
       "  <tbody>\n",
       "    <tr>\n",
       "      <th>0</th>\n",
       "      <td>2004-01-01</td>\n",
       "      <td>286.767301</td>\n",
       "      <td>2394.222222</td>\n",
       "    </tr>\n",
       "    <tr>\n",
       "      <th>1</th>\n",
       "      <td>2005-01-01</td>\n",
       "      <td>298.986592</td>\n",
       "      <td>2409.288889</td>\n",
       "    </tr>\n",
       "    <tr>\n",
       "      <th>2</th>\n",
       "      <td>2006-01-01</td>\n",
       "      <td>310.814014</td>\n",
       "      <td>2430.800000</td>\n",
       "    </tr>\n",
       "    <tr>\n",
       "      <th>3</th>\n",
       "      <td>2007-01-01</td>\n",
       "      <td>305.215830</td>\n",
       "      <td>2447.755556</td>\n",
       "    </tr>\n",
       "    <tr>\n",
       "      <th>4</th>\n",
       "      <td>2008-01-01</td>\n",
       "      <td>318.686851</td>\n",
       "      <td>2460.755556</td>\n",
       "    </tr>\n",
       "    <tr>\n",
       "      <th>5</th>\n",
       "      <td>2009-01-01</td>\n",
       "      <td>323.040657</td>\n",
       "      <td>2482.222222</td>\n",
       "    </tr>\n",
       "    <tr>\n",
       "      <th>6</th>\n",
       "      <td>2010-01-01</td>\n",
       "      <td>340.166955</td>\n",
       "      <td>2497.400000</td>\n",
       "    </tr>\n",
       "    <tr>\n",
       "      <th>7</th>\n",
       "      <td>2011-01-01</td>\n",
       "      <td>351.303633</td>\n",
       "      <td>2515.422222</td>\n",
       "    </tr>\n",
       "    <tr>\n",
       "      <th>8</th>\n",
       "      <td>2012-01-01</td>\n",
       "      <td>364.831816</td>\n",
       "      <td>2527.644444</td>\n",
       "    </tr>\n",
       "    <tr>\n",
       "      <th>9</th>\n",
       "      <td>2013-01-01</td>\n",
       "      <td>378.227568</td>\n",
       "      <td>2532.244444</td>\n",
       "    </tr>\n",
       "  </tbody>\n",
       "</table>\n",
       "</div>"
      ],
      "text/plain": [
       "        Year  Average production (kt)  Average consumption (kcal/person/day)\n",
       "0 2004-01-01               286.767301                            2394.222222\n",
       "1 2005-01-01               298.986592                            2409.288889\n",
       "2 2006-01-01               310.814014                            2430.800000\n",
       "3 2007-01-01               305.215830                            2447.755556\n",
       "4 2008-01-01               318.686851                            2460.755556\n",
       "5 2009-01-01               323.040657                            2482.222222\n",
       "6 2010-01-01               340.166955                            2497.400000\n",
       "7 2011-01-01               351.303633                            2515.422222\n",
       "8 2012-01-01               364.831816                            2527.644444\n",
       "9 2013-01-01               378.227568                            2532.244444"
      ]
     },
     "execution_count": 35,
     "metadata": {},
     "output_type": "execute_result"
    }
   ],
   "source": [
    "average_production_and_suppy = avg_prod_and_cons(food_prod_df, food_supp_df)\n",
    "average_production_and_suppy"
   ]
  },
  {
   "cell_type": "code",
   "execution_count": 36,
   "id": "aeabbf54",
   "metadata": {},
   "outputs": [
    {
     "data": {
      "application/vnd.plotly.v1+json": {
       "config": {
        "plotlyServerURL": "https://plot.ly"
       },
       "data": [
        {
         "hovertemplate": "Year=%{x}<br>Average production (kt)=%{y}<extra></extra>",
         "legendgroup": "",
         "line": {
          "color": "#1F77B4",
          "dash": "solid"
         },
         "marker": {
          "symbol": "circle"
         },
         "mode": "lines+markers",
         "name": "",
         "orientation": "v",
         "showlegend": false,
         "type": "scatter",
         "x": [
          "2004-01-01T00:00:00",
          "2005-01-01T00:00:00",
          "2006-01-01T00:00:00",
          "2007-01-01T00:00:00",
          "2008-01-01T00:00:00",
          "2009-01-01T00:00:00",
          "2010-01-01T00:00:00",
          "2011-01-01T00:00:00",
          "2012-01-01T00:00:00",
          "2013-01-01T00:00:00"
         ],
         "xaxis": "x",
         "y": [
          286.76730103806227,
          298.9865916955017,
          310.81401384083046,
          305.21583044982697,
          318.6868512110727,
          323.04065743944636,
          340.16695501730106,
          351.3036332179931,
          364.8318162115301,
          378.22756827048113
         ],
         "yaxis": "y"
        }
       ],
       "layout": {
        "annotations": [
         {
          "arrowhead": 1,
          "showarrow": true,
          "text": "2007: Year of global food shortage",
          "x": "2007",
          "y": 305.21,
          "yshift": 5
         }
        ],
        "legend": {
         "tracegroupgap": 0
        },
        "template": {
         "data": {
          "scatter": [
           {
            "type": "scatter"
           }
          ]
         }
        },
        "title": {
         "text": "Average Food production"
        },
        "xaxis": {
         "anchor": "y",
         "domain": [
          0,
          1
         ],
         "title": {
          "text": "Year"
         }
        },
        "yaxis": {
         "anchor": "x",
         "domain": [
          0,
          1
         ],
         "title": {
          "text": "Average production (kt)"
         }
        }
       }
      },
      "text/html": [
       "<div>                            <div id=\"cb830e31-fe91-498c-8be6-89ae9231c5c3\" class=\"plotly-graph-div\" style=\"height:525px; width:100%;\"></div>            <script type=\"text/javascript\">                require([\"plotly\"], function(Plotly) {                    window.PLOTLYENV=window.PLOTLYENV || {};                                    if (document.getElementById(\"cb830e31-fe91-498c-8be6-89ae9231c5c3\")) {                    Plotly.newPlot(                        \"cb830e31-fe91-498c-8be6-89ae9231c5c3\",                        [{\"hovertemplate\":\"Year=%{x}<br>Average production (kt)=%{y}<extra></extra>\",\"legendgroup\":\"\",\"line\":{\"color\":\"#1F77B4\",\"dash\":\"solid\"},\"marker\":{\"symbol\":\"circle\"},\"mode\":\"lines+markers\",\"name\":\"\",\"orientation\":\"v\",\"showlegend\":false,\"x\":[\"2004-01-01T00:00:00\",\"2005-01-01T00:00:00\",\"2006-01-01T00:00:00\",\"2007-01-01T00:00:00\",\"2008-01-01T00:00:00\",\"2009-01-01T00:00:00\",\"2010-01-01T00:00:00\",\"2011-01-01T00:00:00\",\"2012-01-01T00:00:00\",\"2013-01-01T00:00:00\"],\"xaxis\":\"x\",\"y\":[286.76730103806227,298.9865916955017,310.81401384083046,305.21583044982697,318.6868512110727,323.04065743944636,340.16695501730106,351.3036332179931,364.8318162115301,378.22756827048113],\"yaxis\":\"y\",\"type\":\"scatter\"}],                        {\"template\":{\"data\":{\"scatter\":[{\"type\":\"scatter\"}]}},\"xaxis\":{\"anchor\":\"y\",\"domain\":[0.0,1.0],\"title\":{\"text\":\"Year\"}},\"yaxis\":{\"anchor\":\"x\",\"domain\":[0.0,1.0],\"title\":{\"text\":\"Average production (kt)\"}},\"legend\":{\"tracegroupgap\":0},\"title\":{\"text\":\"Average Food production\"},\"annotations\":[{\"arrowhead\":1,\"showarrow\":true,\"text\":\"2007: Year of global food shortage\",\"x\":\"2007\",\"y\":305.21,\"yshift\":5}]},                        {\"responsive\": true}                    ).then(function(){\n",
       "                            \n",
       "var gd = document.getElementById('cb830e31-fe91-498c-8be6-89ae9231c5c3');\n",
       "var x = new MutationObserver(function (mutations, observer) {{\n",
       "        var display = window.getComputedStyle(gd).display;\n",
       "        if (!display || display === 'none') {{\n",
       "            console.log([gd, 'removed!']);\n",
       "            Plotly.purge(gd);\n",
       "            observer.disconnect();\n",
       "        }}\n",
       "}});\n",
       "\n",
       "// Listen for the removal of the full notebook cells\n",
       "var notebookContainer = gd.closest('#notebook-container');\n",
       "if (notebookContainer) {{\n",
       "    x.observe(notebookContainer, {childList: true});\n",
       "}}\n",
       "\n",
       "// Listen for the clearing of the current output cell\n",
       "var outputEl = gd.closest('.output');\n",
       "if (outputEl) {{\n",
       "    x.observe(outputEl, {childList: true});\n",
       "}}\n",
       "\n",
       "                        })                };                });            </script>        </div>"
      ]
     },
     "metadata": {},
     "output_type": "display_data"
    }
   ],
   "source": [
    "fig = px.line(average_production_and_suppy, x='Year', y=average_production_and_suppy['Average production (kt)'], markers = True,\n",
    "             title='Average Food production', template='none')\n",
    "fig.add_annotation(text='2007: Year of global food shortage', x='2007', y=305.21, showarrow=True, arrowhead=1, yshift=5)"
   ]
  },
  {
   "cell_type": "markdown",
   "id": "10fe3dc8",
   "metadata": {},
   "source": [
    "Since 2004, there has been an upward trend in food production.\n",
    "\n",
    "This pattern however, was broken in 2007 when a noticeable downward trend was recorded. \n",
    "\n",
    "> A little research revealed that in 2007, there was a global food crises leading to world food riot. Thus, this downward trend affected many other nations of the world outside of Africa.\n",
    "\n",
    "A significant drop in the rate of change was also observed from 2007 onwards."
   ]
  },
  {
   "cell_type": "markdown",
   "id": "4e34a051",
   "metadata": {},
   "source": []
  },
  {
   "cell_type": "code",
   "execution_count": null,
   "id": "65a83148",
   "metadata": {},
   "outputs": [],
   "source": []
  },
  {
   "cell_type": "code",
   "execution_count": 39,
   "id": "bca8957d",
   "metadata": {},
   "outputs": [
    {
     "data": {
      "application/vnd.plotly.v1+json": {
       "config": {
        "plotlyServerURL": "https://plot.ly"
       },
       "data": [
        {
         "hovertemplate": "Year=%{x}<br>kcal/person/day=%{y}<extra></extra>",
         "legendgroup": "",
         "line": {
          "color": "#1F77B4",
          "dash": "solid"
         },
         "marker": {
          "symbol": "circle"
         },
         "mode": "lines+markers",
         "name": "",
         "orientation": "v",
         "showlegend": false,
         "type": "scatter",
         "x": [
          "2004-01-01T00:00:00",
          "2005-01-01T00:00:00",
          "2006-01-01T00:00:00",
          "2007-01-01T00:00:00",
          "2008-01-01T00:00:00",
          "2009-01-01T00:00:00",
          "2010-01-01T00:00:00",
          "2011-01-01T00:00:00",
          "2012-01-01T00:00:00",
          "2013-01-01T00:00:00"
         ],
         "xaxis": "x",
         "y": [
          2394.222222222222,
          2409.288888888889,
          2430.8,
          2447.7555555555555,
          2460.7555555555555,
          2482.222222222222,
          2497.4,
          2515.4222222222224,
          2527.6444444444446,
          2532.2444444444445
         ],
         "yaxis": "y"
        }
       ],
       "layout": {
        "legend": {
         "tracegroupgap": 0
        },
        "template": {
         "data": {
          "scatter": [
           {
            "type": "scatter"
           }
          ]
         }
        },
        "title": {
         "text": "Average Food Consumption"
        },
        "xaxis": {
         "anchor": "y",
         "domain": [
          0,
          1
         ],
         "title": {
          "text": "Year"
         }
        },
        "yaxis": {
         "anchor": "x",
         "domain": [
          0,
          1
         ],
         "title": {
          "text": "kcal/person/day"
         }
        }
       }
      },
      "text/html": [
       "<div>                            <div id=\"4b15cfcf-52cf-415a-b708-141b4383a2a4\" class=\"plotly-graph-div\" style=\"height:525px; width:100%;\"></div>            <script type=\"text/javascript\">                require([\"plotly\"], function(Plotly) {                    window.PLOTLYENV=window.PLOTLYENV || {};                                    if (document.getElementById(\"4b15cfcf-52cf-415a-b708-141b4383a2a4\")) {                    Plotly.newPlot(                        \"4b15cfcf-52cf-415a-b708-141b4383a2a4\",                        [{\"hovertemplate\":\"Year=%{x}<br>kcal/person/day=%{y}<extra></extra>\",\"legendgroup\":\"\",\"line\":{\"color\":\"#1F77B4\",\"dash\":\"solid\"},\"marker\":{\"symbol\":\"circle\"},\"mode\":\"lines+markers\",\"name\":\"\",\"orientation\":\"v\",\"showlegend\":false,\"x\":[\"2004-01-01T00:00:00\",\"2005-01-01T00:00:00\",\"2006-01-01T00:00:00\",\"2007-01-01T00:00:00\",\"2008-01-01T00:00:00\",\"2009-01-01T00:00:00\",\"2010-01-01T00:00:00\",\"2011-01-01T00:00:00\",\"2012-01-01T00:00:00\",\"2013-01-01T00:00:00\"],\"xaxis\":\"x\",\"y\":[2394.222222222222,2409.288888888889,2430.8,2447.7555555555555,2460.7555555555555,2482.222222222222,2497.4,2515.4222222222224,2527.6444444444446,2532.2444444444445],\"yaxis\":\"y\",\"type\":\"scatter\"}],                        {\"template\":{\"data\":{\"scatter\":[{\"type\":\"scatter\"}]}},\"xaxis\":{\"anchor\":\"y\",\"domain\":[0.0,1.0],\"title\":{\"text\":\"Year\"}},\"yaxis\":{\"anchor\":\"x\",\"domain\":[0.0,1.0],\"title\":{\"text\":\"kcal/person/day\"}},\"legend\":{\"tracegroupgap\":0},\"title\":{\"text\":\"Average Food Consumption\"}},                        {\"responsive\": true}                    ).then(function(){\n",
       "                            \n",
       "var gd = document.getElementById('4b15cfcf-52cf-415a-b708-141b4383a2a4');\n",
       "var x = new MutationObserver(function (mutations, observer) {{\n",
       "        var display = window.getComputedStyle(gd).display;\n",
       "        if (!display || display === 'none') {{\n",
       "            console.log([gd, 'removed!']);\n",
       "            Plotly.purge(gd);\n",
       "            observer.disconnect();\n",
       "        }}\n",
       "}});\n",
       "\n",
       "// Listen for the removal of the full notebook cells\n",
       "var notebookContainer = gd.closest('#notebook-container');\n",
       "if (notebookContainer) {{\n",
       "    x.observe(notebookContainer, {childList: true});\n",
       "}}\n",
       "\n",
       "// Listen for the clearing of the current output cell\n",
       "var outputEl = gd.closest('.output');\n",
       "if (outputEl) {{\n",
       "    x.observe(outputEl, {childList: true});\n",
       "}}\n",
       "\n",
       "                        })                };                });            </script>        </div>"
      ]
     },
     "metadata": {},
     "output_type": "display_data"
    }
   ],
   "source": [
    "fig = px.line(average_production_and_suppy, x='Year', y=average_production_and_suppy['Average consumption (kcal/person/day)'], markers = True,\n",
    "             title='Average Food Consumption', template='none', labels={'Year': 'Year', 'Average consumption (kcal/person/day)': 'kcal/person/day'})\n",
    "fig"
   ]
  },
  {
   "cell_type": "markdown",
   "id": "d1ec03c1",
   "metadata": {},
   "source": [
    "Food consumption also followed an almost linear pattern indicating a year-on-year increase in average food consumption rate.\n",
    "However, this rate of change is not statistically significant."
   ]
  },
  {
   "cell_type": "code",
   "execution_count": null,
   "id": "061ab114",
   "metadata": {},
   "outputs": [],
   "source": []
  },
  {
   "cell_type": "markdown",
   "id": "45f9a47e",
   "metadata": {},
   "source": [
    "### Comparing average food production and consumption/supply for all years"
   ]
  },
  {
   "cell_type": "code",
   "execution_count": 41,
   "id": "f1435fcb",
   "metadata": {},
   "outputs": [
    {
     "data": {
      "application/vnd.plotly.v1+json": {
       "config": {
        "plotlyServerURL": "https://plot.ly"
       },
       "data": [
        {
         "hovertemplate": "<b>%{hovertext}</b><br><br>variable=Average production (kt)<br>Year=%{x}<br>value=%{y}<extra></extra>",
         "hovertext": [
          "2004-01-01T00:00:00",
          "2005-01-01T00:00:00",
          "2006-01-01T00:00:00",
          "2007-01-01T00:00:00",
          "2008-01-01T00:00:00",
          "2009-01-01T00:00:00",
          "2010-01-01T00:00:00",
          "2011-01-01T00:00:00",
          "2012-01-01T00:00:00",
          "2013-01-01T00:00:00"
         ],
         "legendgroup": "Average production (kt)",
         "line": {
          "color": "#1F77B4",
          "dash": "solid"
         },
         "marker": {
          "symbol": "circle"
         },
         "mode": "lines+markers",
         "name": "Average production (kt)",
         "orientation": "v",
         "showlegend": true,
         "type": "scatter",
         "x": [
          "2004-01-01T00:00:00",
          "2005-01-01T00:00:00",
          "2006-01-01T00:00:00",
          "2007-01-01T00:00:00",
          "2008-01-01T00:00:00",
          "2009-01-01T00:00:00",
          "2010-01-01T00:00:00",
          "2011-01-01T00:00:00",
          "2012-01-01T00:00:00",
          "2013-01-01T00:00:00"
         ],
         "xaxis": "x",
         "y": [
          286.76730103806227,
          298.9865916955017,
          310.81401384083046,
          305.21583044982697,
          318.6868512110727,
          323.04065743944636,
          340.16695501730106,
          351.3036332179931,
          364.8318162115301,
          378.22756827048113
         ],
         "yaxis": "y"
        },
        {
         "hovertemplate": "<b>%{hovertext}</b><br><br>variable=Average consumption (kcal/person/day)<br>Year=%{x}<br>value=%{y}<extra></extra>",
         "hovertext": [
          "2004-01-01T00:00:00",
          "2005-01-01T00:00:00",
          "2006-01-01T00:00:00",
          "2007-01-01T00:00:00",
          "2008-01-01T00:00:00",
          "2009-01-01T00:00:00",
          "2010-01-01T00:00:00",
          "2011-01-01T00:00:00",
          "2012-01-01T00:00:00",
          "2013-01-01T00:00:00"
         ],
         "legendgroup": "Average consumption (kcal/person/day)",
         "line": {
          "color": "#FF7F0E",
          "dash": "solid"
         },
         "marker": {
          "symbol": "circle"
         },
         "mode": "lines+markers",
         "name": "Average consumption (kcal/person/day)",
         "orientation": "v",
         "showlegend": true,
         "type": "scatter",
         "x": [
          "2004-01-01T00:00:00",
          "2005-01-01T00:00:00",
          "2006-01-01T00:00:00",
          "2007-01-01T00:00:00",
          "2008-01-01T00:00:00",
          "2009-01-01T00:00:00",
          "2010-01-01T00:00:00",
          "2011-01-01T00:00:00",
          "2012-01-01T00:00:00",
          "2013-01-01T00:00:00"
         ],
         "xaxis": "x",
         "y": [
          2394.222222222222,
          2409.288888888889,
          2430.8,
          2447.7555555555555,
          2460.7555555555555,
          2482.222222222222,
          2497.4,
          2515.4222222222224,
          2527.6444444444446,
          2532.2444444444445
         ],
         "yaxis": "y"
        }
       ],
       "layout": {
        "annotations": [
         {
          "arrowhead": 1,
          "showarrow": true,
          "text": "Drop in production did not affect consumption",
          "x": "2007",
          "y": 1500,
          "yshift": 5
         }
        ],
        "legend": {
         "title": {
          "text": "variable"
         },
         "tracegroupgap": 0
        },
        "shapes": [
         {
          "line": {
           "color": "green",
           "dash": "dash",
           "width": 1
          },
          "type": "line",
          "x0": "2007",
          "x1": "2007",
          "xref": "x",
          "y0": 0,
          "y1": 1,
          "yref": "y domain"
         }
        ],
        "template": {
         "data": {
          "scatter": [
           {
            "type": "scatter"
           }
          ]
         }
        },
        "title": {
         "text": "Trends in Food Production & Consumption Over time"
        },
        "xaxis": {
         "anchor": "y",
         "domain": [
          0,
          1
         ],
         "title": {
          "text": "Year"
         }
        },
        "yaxis": {
         "anchor": "x",
         "domain": [
          0,
          1
         ],
         "title": {
          "text": "value"
         }
        }
       }
      },
      "text/html": [
       "<div>                            <div id=\"b70f0ee1-657c-4298-b39e-c291842a0963\" class=\"plotly-graph-div\" style=\"height:525px; width:100%;\"></div>            <script type=\"text/javascript\">                require([\"plotly\"], function(Plotly) {                    window.PLOTLYENV=window.PLOTLYENV || {};                                    if (document.getElementById(\"b70f0ee1-657c-4298-b39e-c291842a0963\")) {                    Plotly.newPlot(                        \"b70f0ee1-657c-4298-b39e-c291842a0963\",                        [{\"hovertemplate\":\"<b>%{hovertext}</b><br><br>variable=Average production (kt)<br>Year=%{x}<br>value=%{y}<extra></extra>\",\"hovertext\":[\"2004-01-01T00:00:00\",\"2005-01-01T00:00:00\",\"2006-01-01T00:00:00\",\"2007-01-01T00:00:00\",\"2008-01-01T00:00:00\",\"2009-01-01T00:00:00\",\"2010-01-01T00:00:00\",\"2011-01-01T00:00:00\",\"2012-01-01T00:00:00\",\"2013-01-01T00:00:00\"],\"legendgroup\":\"Average production (kt)\",\"line\":{\"color\":\"#1F77B4\",\"dash\":\"solid\"},\"marker\":{\"symbol\":\"circle\"},\"mode\":\"lines+markers\",\"name\":\"Average production (kt)\",\"orientation\":\"v\",\"showlegend\":true,\"x\":[\"2004-01-01T00:00:00\",\"2005-01-01T00:00:00\",\"2006-01-01T00:00:00\",\"2007-01-01T00:00:00\",\"2008-01-01T00:00:00\",\"2009-01-01T00:00:00\",\"2010-01-01T00:00:00\",\"2011-01-01T00:00:00\",\"2012-01-01T00:00:00\",\"2013-01-01T00:00:00\"],\"xaxis\":\"x\",\"y\":[286.76730103806227,298.9865916955017,310.81401384083046,305.21583044982697,318.6868512110727,323.04065743944636,340.16695501730106,351.3036332179931,364.8318162115301,378.22756827048113],\"yaxis\":\"y\",\"type\":\"scatter\"},{\"hovertemplate\":\"<b>%{hovertext}</b><br><br>variable=Average consumption (kcal/person/day)<br>Year=%{x}<br>value=%{y}<extra></extra>\",\"hovertext\":[\"2004-01-01T00:00:00\",\"2005-01-01T00:00:00\",\"2006-01-01T00:00:00\",\"2007-01-01T00:00:00\",\"2008-01-01T00:00:00\",\"2009-01-01T00:00:00\",\"2010-01-01T00:00:00\",\"2011-01-01T00:00:00\",\"2012-01-01T00:00:00\",\"2013-01-01T00:00:00\"],\"legendgroup\":\"Average consumption (kcal/person/day)\",\"line\":{\"color\":\"#FF7F0E\",\"dash\":\"solid\"},\"marker\":{\"symbol\":\"circle\"},\"mode\":\"lines+markers\",\"name\":\"Average consumption (kcal/person/day)\",\"orientation\":\"v\",\"showlegend\":true,\"x\":[\"2004-01-01T00:00:00\",\"2005-01-01T00:00:00\",\"2006-01-01T00:00:00\",\"2007-01-01T00:00:00\",\"2008-01-01T00:00:00\",\"2009-01-01T00:00:00\",\"2010-01-01T00:00:00\",\"2011-01-01T00:00:00\",\"2012-01-01T00:00:00\",\"2013-01-01T00:00:00\"],\"xaxis\":\"x\",\"y\":[2394.222222222222,2409.288888888889,2430.8,2447.7555555555555,2460.7555555555555,2482.222222222222,2497.4,2515.4222222222224,2527.6444444444446,2532.2444444444445],\"yaxis\":\"y\",\"type\":\"scatter\"}],                        {\"template\":{\"data\":{\"scatter\":[{\"type\":\"scatter\"}]}},\"xaxis\":{\"anchor\":\"y\",\"domain\":[0.0,1.0],\"title\":{\"text\":\"Year\"}},\"yaxis\":{\"anchor\":\"x\",\"domain\":[0.0,1.0],\"title\":{\"text\":\"value\"}},\"legend\":{\"title\":{\"text\":\"variable\"},\"tracegroupgap\":0},\"title\":{\"text\":\"Trends in Food Production & Consumption Over time\"},\"annotations\":[{\"arrowhead\":1,\"showarrow\":true,\"text\":\"Drop in production did not affect consumption\",\"x\":\"2007\",\"y\":1500,\"yshift\":5}],\"shapes\":[{\"line\":{\"color\":\"green\",\"dash\":\"dash\",\"width\":1},\"type\":\"line\",\"x0\":\"2007\",\"x1\":\"2007\",\"xref\":\"x\",\"y0\":0,\"y1\":1,\"yref\":\"y domain\"}]},                        {\"responsive\": true}                    ).then(function(){\n",
       "                            \n",
       "var gd = document.getElementById('b70f0ee1-657c-4298-b39e-c291842a0963');\n",
       "var x = new MutationObserver(function (mutations, observer) {{\n",
       "        var display = window.getComputedStyle(gd).display;\n",
       "        if (!display || display === 'none') {{\n",
       "            console.log([gd, 'removed!']);\n",
       "            Plotly.purge(gd);\n",
       "            observer.disconnect();\n",
       "        }}\n",
       "}});\n",
       "\n",
       "// Listen for the removal of the full notebook cells\n",
       "var notebookContainer = gd.closest('#notebook-container');\n",
       "if (notebookContainer) {{\n",
       "    x.observe(notebookContainer, {childList: true});\n",
       "}}\n",
       "\n",
       "// Listen for the clearing of the current output cell\n",
       "var outputEl = gd.closest('.output');\n",
       "if (outputEl) {{\n",
       "    x.observe(outputEl, {childList: true});\n",
       "}}\n",
       "\n",
       "                        })                };                });            </script>        </div>"
      ]
     },
     "metadata": {},
     "output_type": "display_data"
    }
   ],
   "source": [
    "# Plot of average production b/w 2004 and 2013\n",
    "# This showcases trends over time\n",
    "fig = px.line(average_production_and_suppy, x='Year', y=average_production_and_suppy.columns[[1, 2]],\n",
    "             title='Trends in Food Production & Consumption Over time', hover_name='Year', template='none', markers=True)\n",
    "fig.add_annotation(text='Drop in production did not affect consumption', x='2007', y=1500, showarrow=True, arrowhead=1, yshift=5)\n",
    "fig.add_vline(x='2007', line_width=1, line_dash='dash', line_color='green')\n",
    "fig"
   ]
  },
  {
   "cell_type": "markdown",
   "id": "171c6eca",
   "metadata": {},
   "source": [
    "Since 2004, there has been an upward trend in both average food production and consumption, although no rapid rate of change was recorded. \n",
    "\n",
    "Surprisingly, for the same year 2007, the average food consumption rate was not affected by the downward trend recorded in terms of production."
   ]
  },
  {
   "cell_type": "markdown",
   "id": "a186664a",
   "metadata": {},
   "source": [
    "## Distribution by Country"
   ]
  },
  {
   "cell_type": "code",
   "execution_count": 48,
   "id": "13e291ab",
   "metadata": {
    "scrolled": true
   },
   "outputs": [
    {
     "data": {
      "text/html": [
       "<div>\n",
       "<style scoped>\n",
       "    .dataframe tbody tr th:only-of-type {\n",
       "        vertical-align: middle;\n",
       "    }\n",
       "\n",
       "    .dataframe tbody tr th {\n",
       "        vertical-align: top;\n",
       "    }\n",
       "\n",
       "    .dataframe thead th {\n",
       "        text-align: right;\n",
       "    }\n",
       "</style>\n",
       "<table border=\"1\" class=\"dataframe\">\n",
       "  <thead>\n",
       "    <tr style=\"text-align: right;\">\n",
       "      <th></th>\n",
       "      <th>Country</th>\n",
       "      <th>Value</th>\n",
       "    </tr>\n",
       "  </thead>\n",
       "  <tbody>\n",
       "    <tr>\n",
       "      <th>0</th>\n",
       "      <td>Algeria</td>\n",
       "      <td>3111.8</td>\n",
       "    </tr>\n",
       "    <tr>\n",
       "      <th>1</th>\n",
       "      <td>Angola</td>\n",
       "      <td>2255.6</td>\n",
       "    </tr>\n",
       "    <tr>\n",
       "      <th>2</th>\n",
       "      <td>Benin</td>\n",
       "      <td>2537.8</td>\n",
       "    </tr>\n",
       "    <tr>\n",
       "      <th>3</th>\n",
       "      <td>Botswana</td>\n",
       "      <td>2226.3</td>\n",
       "    </tr>\n",
       "    <tr>\n",
       "      <th>4</th>\n",
       "      <td>Burkina Faso</td>\n",
       "      <td>2607.2</td>\n",
       "    </tr>\n",
       "    <tr>\n",
       "      <th>5</th>\n",
       "      <td>Cameroon</td>\n",
       "      <td>2460.3</td>\n",
       "    </tr>\n",
       "    <tr>\n",
       "      <th>6</th>\n",
       "      <td>Cape Verde</td>\n",
       "      <td>2551.4</td>\n",
       "    </tr>\n",
       "    <tr>\n",
       "      <th>7</th>\n",
       "      <td>Central African Republic</td>\n",
       "      <td>2071.9</td>\n",
       "    </tr>\n",
       "    <tr>\n",
       "      <th>8</th>\n",
       "      <td>Chad</td>\n",
       "      <td>2051.1</td>\n",
       "    </tr>\n",
       "    <tr>\n",
       "      <th>9</th>\n",
       "      <td>Djibouti</td>\n",
       "      <td>2416.5</td>\n",
       "    </tr>\n",
       "    <tr>\n",
       "      <th>10</th>\n",
       "      <td>Egypt</td>\n",
       "      <td>3458.0</td>\n",
       "    </tr>\n",
       "    <tr>\n",
       "      <th>11</th>\n",
       "      <td>Ethiopia</td>\n",
       "      <td>2029.2</td>\n",
       "    </tr>\n",
       "    <tr>\n",
       "      <th>12</th>\n",
       "      <td>Gabon</td>\n",
       "      <td>2729.9</td>\n",
       "    </tr>\n",
       "    <tr>\n",
       "      <th>13</th>\n",
       "      <td>Gambia</td>\n",
       "      <td>2569.5</td>\n",
       "    </tr>\n",
       "    <tr>\n",
       "      <th>14</th>\n",
       "      <td>Ghana</td>\n",
       "      <td>2918.0</td>\n",
       "    </tr>\n",
       "    <tr>\n",
       "      <th>15</th>\n",
       "      <td>Guinea</td>\n",
       "      <td>2518.0</td>\n",
       "    </tr>\n",
       "    <tr>\n",
       "      <th>16</th>\n",
       "      <td>Guinea-Bissau</td>\n",
       "      <td>2296.3</td>\n",
       "    </tr>\n",
       "    <tr>\n",
       "      <th>17</th>\n",
       "      <td>Ivory Coast</td>\n",
       "      <td>2766.6</td>\n",
       "    </tr>\n",
       "    <tr>\n",
       "      <th>18</th>\n",
       "      <td>Kenya</td>\n",
       "      <td>2145.3</td>\n",
       "    </tr>\n",
       "    <tr>\n",
       "      <th>19</th>\n",
       "      <td>Lesotho</td>\n",
       "      <td>2558.8</td>\n",
       "    </tr>\n",
       "    <tr>\n",
       "      <th>20</th>\n",
       "      <td>Liberia</td>\n",
       "      <td>2182.7</td>\n",
       "    </tr>\n",
       "    <tr>\n",
       "      <th>21</th>\n",
       "      <td>Madagascar</td>\n",
       "      <td>2060.8</td>\n",
       "    </tr>\n",
       "    <tr>\n",
       "      <th>22</th>\n",
       "      <td>Malawi</td>\n",
       "      <td>2292.5</td>\n",
       "    </tr>\n",
       "    <tr>\n",
       "      <th>23</th>\n",
       "      <td>Mali</td>\n",
       "      <td>2750.2</td>\n",
       "    </tr>\n",
       "    <tr>\n",
       "      <th>24</th>\n",
       "      <td>Mauritania</td>\n",
       "      <td>2744.3</td>\n",
       "    </tr>\n",
       "    <tr>\n",
       "      <th>25</th>\n",
       "      <td>Mauritius</td>\n",
       "      <td>3054.3</td>\n",
       "    </tr>\n",
       "    <tr>\n",
       "      <th>26</th>\n",
       "      <td>Morocco</td>\n",
       "      <td>3296.7</td>\n",
       "    </tr>\n",
       "    <tr>\n",
       "      <th>27</th>\n",
       "      <td>Mozambique</td>\n",
       "      <td>2170.2</td>\n",
       "    </tr>\n",
       "    <tr>\n",
       "      <th>28</th>\n",
       "      <td>Namibia</td>\n",
       "      <td>2160.2</td>\n",
       "    </tr>\n",
       "    <tr>\n",
       "      <th>29</th>\n",
       "      <td>Niger</td>\n",
       "      <td>2502.4</td>\n",
       "    </tr>\n",
       "    <tr>\n",
       "      <th>30</th>\n",
       "      <td>Nigeria</td>\n",
       "      <td>2698.8</td>\n",
       "    </tr>\n",
       "    <tr>\n",
       "      <th>31</th>\n",
       "      <td>Republic of the Congo</td>\n",
       "      <td>2153.0</td>\n",
       "    </tr>\n",
       "    <tr>\n",
       "      <th>32</th>\n",
       "      <td>Rwanda</td>\n",
       "      <td>2130.9</td>\n",
       "    </tr>\n",
       "    <tr>\n",
       "      <th>33</th>\n",
       "      <td>Sao Tome and Principe</td>\n",
       "      <td>2446.2</td>\n",
       "    </tr>\n",
       "    <tr>\n",
       "      <th>34</th>\n",
       "      <td>Senegal</td>\n",
       "      <td>2378.4</td>\n",
       "    </tr>\n",
       "    <tr>\n",
       "      <th>35</th>\n",
       "      <td>Sierra Leone</td>\n",
       "      <td>2229.1</td>\n",
       "    </tr>\n",
       "    <tr>\n",
       "      <th>36</th>\n",
       "      <td>South Africa</td>\n",
       "      <td>2962.9</td>\n",
       "    </tr>\n",
       "    <tr>\n",
       "      <th>37</th>\n",
       "      <td>Sudan</td>\n",
       "      <td>2323.8</td>\n",
       "    </tr>\n",
       "    <tr>\n",
       "      <th>38</th>\n",
       "      <td>Swaziland</td>\n",
       "      <td>2317.1</td>\n",
       "    </tr>\n",
       "    <tr>\n",
       "      <th>39</th>\n",
       "      <td>Tanzania</td>\n",
       "      <td>2155.0</td>\n",
       "    </tr>\n",
       "    <tr>\n",
       "      <th>40</th>\n",
       "      <td>Togo</td>\n",
       "      <td>2333.9</td>\n",
       "    </tr>\n",
       "    <tr>\n",
       "      <th>41</th>\n",
       "      <td>Tunisia</td>\n",
       "      <td>3305.5</td>\n",
       "    </tr>\n",
       "    <tr>\n",
       "      <th>42</th>\n",
       "      <td>Uganda</td>\n",
       "      <td>2220.5</td>\n",
       "    </tr>\n",
       "    <tr>\n",
       "      <th>43</th>\n",
       "      <td>Zambia</td>\n",
       "      <td>1870.1</td>\n",
       "    </tr>\n",
       "    <tr>\n",
       "      <th>44</th>\n",
       "      <td>Zimbabwe</td>\n",
       "      <td>2120.9</td>\n",
       "    </tr>\n",
       "  </tbody>\n",
       "</table>\n",
       "</div>"
      ],
      "text/plain": [
       "                     Country   Value\n",
       "0                    Algeria  3111.8\n",
       "1                     Angola  2255.6\n",
       "2                      Benin  2537.8\n",
       "3                   Botswana  2226.3\n",
       "4               Burkina Faso  2607.2\n",
       "5                   Cameroon  2460.3\n",
       "6                 Cape Verde  2551.4\n",
       "7   Central African Republic  2071.9\n",
       "8                       Chad  2051.1\n",
       "9                   Djibouti  2416.5\n",
       "10                     Egypt  3458.0\n",
       "11                  Ethiopia  2029.2\n",
       "12                     Gabon  2729.9\n",
       "13                    Gambia  2569.5\n",
       "14                     Ghana  2918.0\n",
       "15                    Guinea  2518.0\n",
       "16             Guinea-Bissau  2296.3\n",
       "17               Ivory Coast  2766.6\n",
       "18                     Kenya  2145.3\n",
       "19                   Lesotho  2558.8\n",
       "20                   Liberia  2182.7\n",
       "21                Madagascar  2060.8\n",
       "22                    Malawi  2292.5\n",
       "23                      Mali  2750.2\n",
       "24                Mauritania  2744.3\n",
       "25                 Mauritius  3054.3\n",
       "26                   Morocco  3296.7\n",
       "27                Mozambique  2170.2\n",
       "28                   Namibia  2160.2\n",
       "29                     Niger  2502.4\n",
       "30                   Nigeria  2698.8\n",
       "31     Republic of the Congo  2153.0\n",
       "32                    Rwanda  2130.9\n",
       "33     Sao Tome and Principe  2446.2\n",
       "34                   Senegal  2378.4\n",
       "35              Sierra Leone  2229.1\n",
       "36              South Africa  2962.9\n",
       "37                     Sudan  2323.8\n",
       "38                 Swaziland  2317.1\n",
       "39                  Tanzania  2155.0\n",
       "40                      Togo  2333.9\n",
       "41                   Tunisia  3305.5\n",
       "42                    Uganda  2220.5\n",
       "43                    Zambia  1870.1\n",
       "44                  Zimbabwe  2120.9"
      ]
     },
     "execution_count": 48,
     "metadata": {},
     "output_type": "execute_result"
    }
   ],
   "source": [
    "# food consumption\n",
    "countries_average_consumption = food_supp_df.groupby('Country')['Value'].mean().reset_index()\n",
    "countries_average_consumption"
   ]
  },
  {
   "cell_type": "code",
   "execution_count": 95,
   "id": "9d122a88",
   "metadata": {
    "scrolled": true
   },
   "outputs": [
    {
     "data": {
      "text/html": [
       "<div>\n",
       "<style scoped>\n",
       "    .dataframe tbody tr th:only-of-type {\n",
       "        vertical-align: middle;\n",
       "    }\n",
       "\n",
       "    .dataframe tbody tr th {\n",
       "        vertical-align: top;\n",
       "    }\n",
       "\n",
       "    .dataframe thead th {\n",
       "        text-align: right;\n",
       "    }\n",
       "</style>\n",
       "<table border=\"1\" class=\"dataframe\">\n",
       "  <thead>\n",
       "    <tr style=\"text-align: right;\">\n",
       "      <th></th>\n",
       "      <th>Country</th>\n",
       "      <th>Value</th>\n",
       "      <th>Average Consumption</th>\n",
       "      <th>ISO3</th>\n",
       "      <th>Sub-region</th>\n",
       "      <th>Intermediate region</th>\n",
       "    </tr>\n",
       "  </thead>\n",
       "  <tbody>\n",
       "    <tr>\n",
       "      <th>0</th>\n",
       "      <td>Algeria</td>\n",
       "      <td>3111.8</td>\n",
       "      <td>2822.84 - 3140.42 kcal</td>\n",
       "      <td>DZA</td>\n",
       "      <td>Northern Africa</td>\n",
       "      <td>Northern Africa</td>\n",
       "    </tr>\n",
       "    <tr>\n",
       "      <th>1</th>\n",
       "      <td>Angola</td>\n",
       "      <td>2255.6</td>\n",
       "      <td>2187.68 - 2505.26 kcal</td>\n",
       "      <td>AGO</td>\n",
       "      <td>Sub-Saharan Africa</td>\n",
       "      <td>Middle Africa</td>\n",
       "    </tr>\n",
       "    <tr>\n",
       "      <th>2</th>\n",
       "      <td>Benin</td>\n",
       "      <td>2537.8</td>\n",
       "      <td>2505.26 - 2822.84 kcal</td>\n",
       "      <td>BEN</td>\n",
       "      <td>Sub-Saharan Africa</td>\n",
       "      <td>Western Africa</td>\n",
       "    </tr>\n",
       "    <tr>\n",
       "      <th>3</th>\n",
       "      <td>Botswana</td>\n",
       "      <td>2226.3</td>\n",
       "      <td>2187.68 - 2505.26 kcal</td>\n",
       "      <td>BWA</td>\n",
       "      <td>Sub-Saharan Africa</td>\n",
       "      <td>Southern Africa</td>\n",
       "    </tr>\n",
       "    <tr>\n",
       "      <th>4</th>\n",
       "      <td>Burkina Faso</td>\n",
       "      <td>2607.2</td>\n",
       "      <td>2505.26 - 2822.84 kcal</td>\n",
       "      <td>BFA</td>\n",
       "      <td>Sub-Saharan Africa</td>\n",
       "      <td>Western Africa</td>\n",
       "    </tr>\n",
       "    <tr>\n",
       "      <th>5</th>\n",
       "      <td>Cameroon</td>\n",
       "      <td>2460.3</td>\n",
       "      <td>2187.68 - 2505.26 kcal</td>\n",
       "      <td>CMR</td>\n",
       "      <td>Sub-Saharan Africa</td>\n",
       "      <td>Middle Africa</td>\n",
       "    </tr>\n",
       "    <tr>\n",
       "      <th>6</th>\n",
       "      <td>Cape Verde</td>\n",
       "      <td>2551.4</td>\n",
       "      <td>2505.26 - 2822.84 kcal</td>\n",
       "      <td>CPV</td>\n",
       "      <td>Sub-Saharan Africa</td>\n",
       "      <td>Western Africa</td>\n",
       "    </tr>\n",
       "    <tr>\n",
       "      <th>7</th>\n",
       "      <td>Central African Republic</td>\n",
       "      <td>2071.9</td>\n",
       "      <td>1868.512 - 2187.68 kcal</td>\n",
       "      <td>CAF</td>\n",
       "      <td>Sub-Saharan Africa</td>\n",
       "      <td>Middle Africa</td>\n",
       "    </tr>\n",
       "    <tr>\n",
       "      <th>8</th>\n",
       "      <td>Chad</td>\n",
       "      <td>2051.1</td>\n",
       "      <td>1868.512 - 2187.68 kcal</td>\n",
       "      <td>TCD</td>\n",
       "      <td>Sub-Saharan Africa</td>\n",
       "      <td>Middle Africa</td>\n",
       "    </tr>\n",
       "    <tr>\n",
       "      <th>9</th>\n",
       "      <td>Djibouti</td>\n",
       "      <td>2416.5</td>\n",
       "      <td>2187.68 - 2505.26 kcal</td>\n",
       "      <td>DJI</td>\n",
       "      <td>Sub-Saharan Africa</td>\n",
       "      <td>Eastern Africa</td>\n",
       "    </tr>\n",
       "    <tr>\n",
       "      <th>10</th>\n",
       "      <td>Egypt</td>\n",
       "      <td>3458.0</td>\n",
       "      <td>3140.42 - 3458.0 kcal</td>\n",
       "      <td>EGY</td>\n",
       "      <td>Northern Africa</td>\n",
       "      <td>Northern Africa</td>\n",
       "    </tr>\n",
       "    <tr>\n",
       "      <th>11</th>\n",
       "      <td>Ethiopia</td>\n",
       "      <td>2029.2</td>\n",
       "      <td>1868.512 - 2187.68 kcal</td>\n",
       "      <td>ETH</td>\n",
       "      <td>Sub-Saharan Africa</td>\n",
       "      <td>Eastern Africa</td>\n",
       "    </tr>\n",
       "    <tr>\n",
       "      <th>12</th>\n",
       "      <td>Gabon</td>\n",
       "      <td>2729.9</td>\n",
       "      <td>2505.26 - 2822.84 kcal</td>\n",
       "      <td>GAB</td>\n",
       "      <td>Sub-Saharan Africa</td>\n",
       "      <td>Middle Africa</td>\n",
       "    </tr>\n",
       "    <tr>\n",
       "      <th>13</th>\n",
       "      <td>Gambia</td>\n",
       "      <td>2569.5</td>\n",
       "      <td>2505.26 - 2822.84 kcal</td>\n",
       "      <td>GMB</td>\n",
       "      <td>Sub-Saharan Africa</td>\n",
       "      <td>Western Africa</td>\n",
       "    </tr>\n",
       "    <tr>\n",
       "      <th>14</th>\n",
       "      <td>Ghana</td>\n",
       "      <td>2918.0</td>\n",
       "      <td>2822.84 - 3140.42 kcal</td>\n",
       "      <td>GHA</td>\n",
       "      <td>Sub-Saharan Africa</td>\n",
       "      <td>Western Africa</td>\n",
       "    </tr>\n",
       "    <tr>\n",
       "      <th>15</th>\n",
       "      <td>Guinea</td>\n",
       "      <td>2518.0</td>\n",
       "      <td>2505.26 - 2822.84 kcal</td>\n",
       "      <td>GIN</td>\n",
       "      <td>Sub-Saharan Africa</td>\n",
       "      <td>Western Africa</td>\n",
       "    </tr>\n",
       "    <tr>\n",
       "      <th>16</th>\n",
       "      <td>Guinea-Bissau</td>\n",
       "      <td>2296.3</td>\n",
       "      <td>2187.68 - 2505.26 kcal</td>\n",
       "      <td>GNB</td>\n",
       "      <td>Sub-Saharan Africa</td>\n",
       "      <td>Western Africa</td>\n",
       "    </tr>\n",
       "    <tr>\n",
       "      <th>17</th>\n",
       "      <td>Ivory Coast</td>\n",
       "      <td>2766.6</td>\n",
       "      <td>2505.26 - 2822.84 kcal</td>\n",
       "      <td>CIV</td>\n",
       "      <td>Sub-Saharan Africa</td>\n",
       "      <td>Western Africa</td>\n",
       "    </tr>\n",
       "    <tr>\n",
       "      <th>18</th>\n",
       "      <td>Kenya</td>\n",
       "      <td>2145.3</td>\n",
       "      <td>1868.512 - 2187.68 kcal</td>\n",
       "      <td>KEN</td>\n",
       "      <td>Sub-Saharan Africa</td>\n",
       "      <td>Eastern Africa</td>\n",
       "    </tr>\n",
       "    <tr>\n",
       "      <th>19</th>\n",
       "      <td>Lesotho</td>\n",
       "      <td>2558.8</td>\n",
       "      <td>2505.26 - 2822.84 kcal</td>\n",
       "      <td>LSO</td>\n",
       "      <td>Sub-Saharan Africa</td>\n",
       "      <td>Southern Africa</td>\n",
       "    </tr>\n",
       "    <tr>\n",
       "      <th>20</th>\n",
       "      <td>Liberia</td>\n",
       "      <td>2182.7</td>\n",
       "      <td>1868.512 - 2187.68 kcal</td>\n",
       "      <td>LBR</td>\n",
       "      <td>Sub-Saharan Africa</td>\n",
       "      <td>Western Africa</td>\n",
       "    </tr>\n",
       "    <tr>\n",
       "      <th>21</th>\n",
       "      <td>Madagascar</td>\n",
       "      <td>2060.8</td>\n",
       "      <td>1868.512 - 2187.68 kcal</td>\n",
       "      <td>MDG</td>\n",
       "      <td>Sub-Saharan Africa</td>\n",
       "      <td>Eastern Africa</td>\n",
       "    </tr>\n",
       "    <tr>\n",
       "      <th>22</th>\n",
       "      <td>Malawi</td>\n",
       "      <td>2292.5</td>\n",
       "      <td>2187.68 - 2505.26 kcal</td>\n",
       "      <td>MWI</td>\n",
       "      <td>Sub-Saharan Africa</td>\n",
       "      <td>Eastern Africa</td>\n",
       "    </tr>\n",
       "    <tr>\n",
       "      <th>23</th>\n",
       "      <td>Mali</td>\n",
       "      <td>2750.2</td>\n",
       "      <td>2505.26 - 2822.84 kcal</td>\n",
       "      <td>MLI</td>\n",
       "      <td>Sub-Saharan Africa</td>\n",
       "      <td>Western Africa</td>\n",
       "    </tr>\n",
       "    <tr>\n",
       "      <th>24</th>\n",
       "      <td>Mauritania</td>\n",
       "      <td>2744.3</td>\n",
       "      <td>2505.26 - 2822.84 kcal</td>\n",
       "      <td>MRT</td>\n",
       "      <td>Sub-Saharan Africa</td>\n",
       "      <td>Western Africa</td>\n",
       "    </tr>\n",
       "    <tr>\n",
       "      <th>25</th>\n",
       "      <td>Mauritius</td>\n",
       "      <td>3054.3</td>\n",
       "      <td>2822.84 - 3140.42 kcal</td>\n",
       "      <td>MUS</td>\n",
       "      <td>Sub-Saharan Africa</td>\n",
       "      <td>Eastern Africa</td>\n",
       "    </tr>\n",
       "    <tr>\n",
       "      <th>26</th>\n",
       "      <td>Morocco</td>\n",
       "      <td>3296.7</td>\n",
       "      <td>3140.42 - 3458.0 kcal</td>\n",
       "      <td>MAR</td>\n",
       "      <td>Northern Africa</td>\n",
       "      <td>Northern Africa</td>\n",
       "    </tr>\n",
       "    <tr>\n",
       "      <th>27</th>\n",
       "      <td>Mozambique</td>\n",
       "      <td>2170.2</td>\n",
       "      <td>1868.512 - 2187.68 kcal</td>\n",
       "      <td>MOZ</td>\n",
       "      <td>Sub-Saharan Africa</td>\n",
       "      <td>Eastern Africa</td>\n",
       "    </tr>\n",
       "    <tr>\n",
       "      <th>28</th>\n",
       "      <td>Namibia</td>\n",
       "      <td>2160.2</td>\n",
       "      <td>1868.512 - 2187.68 kcal</td>\n",
       "      <td>NAM</td>\n",
       "      <td>Sub-Saharan Africa</td>\n",
       "      <td>Southern Africa</td>\n",
       "    </tr>\n",
       "    <tr>\n",
       "      <th>29</th>\n",
       "      <td>Niger</td>\n",
       "      <td>2502.4</td>\n",
       "      <td>2187.68 - 2505.26 kcal</td>\n",
       "      <td>NER</td>\n",
       "      <td>Sub-Saharan Africa</td>\n",
       "      <td>Western Africa</td>\n",
       "    </tr>\n",
       "    <tr>\n",
       "      <th>30</th>\n",
       "      <td>Nigeria</td>\n",
       "      <td>2698.8</td>\n",
       "      <td>2505.26 - 2822.84 kcal</td>\n",
       "      <td>NGA</td>\n",
       "      <td>Sub-Saharan Africa</td>\n",
       "      <td>Western Africa</td>\n",
       "    </tr>\n",
       "    <tr>\n",
       "      <th>31</th>\n",
       "      <td>Republic of the Congo</td>\n",
       "      <td>2153.0</td>\n",
       "      <td>1868.512 - 2187.68 kcal</td>\n",
       "      <td>COG</td>\n",
       "      <td>Sub-Saharan Africa</td>\n",
       "      <td>Middle Africa</td>\n",
       "    </tr>\n",
       "    <tr>\n",
       "      <th>32</th>\n",
       "      <td>Rwanda</td>\n",
       "      <td>2130.9</td>\n",
       "      <td>1868.512 - 2187.68 kcal</td>\n",
       "      <td>RWA</td>\n",
       "      <td>Sub-Saharan Africa</td>\n",
       "      <td>Eastern Africa</td>\n",
       "    </tr>\n",
       "    <tr>\n",
       "      <th>33</th>\n",
       "      <td>Sao Tome and Principe</td>\n",
       "      <td>2446.2</td>\n",
       "      <td>2187.68 - 2505.26 kcal</td>\n",
       "      <td>STP</td>\n",
       "      <td>Sub-Saharan Africa</td>\n",
       "      <td>Middle Africa</td>\n",
       "    </tr>\n",
       "    <tr>\n",
       "      <th>34</th>\n",
       "      <td>Senegal</td>\n",
       "      <td>2378.4</td>\n",
       "      <td>2187.68 - 2505.26 kcal</td>\n",
       "      <td>SEN</td>\n",
       "      <td>Sub-Saharan Africa</td>\n",
       "      <td>Western Africa</td>\n",
       "    </tr>\n",
       "    <tr>\n",
       "      <th>35</th>\n",
       "      <td>Sierra Leone</td>\n",
       "      <td>2229.1</td>\n",
       "      <td>2187.68 - 2505.26 kcal</td>\n",
       "      <td>SLE</td>\n",
       "      <td>Sub-Saharan Africa</td>\n",
       "      <td>Western Africa</td>\n",
       "    </tr>\n",
       "    <tr>\n",
       "      <th>36</th>\n",
       "      <td>South Africa</td>\n",
       "      <td>2962.9</td>\n",
       "      <td>2822.84 - 3140.42 kcal</td>\n",
       "      <td>ZAF</td>\n",
       "      <td>Sub-Saharan Africa</td>\n",
       "      <td>Southern Africa</td>\n",
       "    </tr>\n",
       "    <tr>\n",
       "      <th>37</th>\n",
       "      <td>Sudan</td>\n",
       "      <td>2323.8</td>\n",
       "      <td>2187.68 - 2505.26 kcal</td>\n",
       "      <td>SDN</td>\n",
       "      <td>Northern Africa</td>\n",
       "      <td>Northern Africa</td>\n",
       "    </tr>\n",
       "    <tr>\n",
       "      <th>38</th>\n",
       "      <td>Swaziland</td>\n",
       "      <td>2317.1</td>\n",
       "      <td>2187.68 - 2505.26 kcal</td>\n",
       "      <td>SWZ</td>\n",
       "      <td>Sub-Saharan Africa</td>\n",
       "      <td>Southern Africa</td>\n",
       "    </tr>\n",
       "    <tr>\n",
       "      <th>39</th>\n",
       "      <td>Tanzania</td>\n",
       "      <td>2155.0</td>\n",
       "      <td>1868.512 - 2187.68 kcal</td>\n",
       "      <td>TZA</td>\n",
       "      <td>Sub-Saharan Africa</td>\n",
       "      <td>Eastern Africa</td>\n",
       "    </tr>\n",
       "    <tr>\n",
       "      <th>40</th>\n",
       "      <td>Togo</td>\n",
       "      <td>2333.9</td>\n",
       "      <td>2187.68 - 2505.26 kcal</td>\n",
       "      <td>TGO</td>\n",
       "      <td>Sub-Saharan Africa</td>\n",
       "      <td>Western Africa</td>\n",
       "    </tr>\n",
       "    <tr>\n",
       "      <th>41</th>\n",
       "      <td>Tunisia</td>\n",
       "      <td>3305.5</td>\n",
       "      <td>3140.42 - 3458.0 kcal</td>\n",
       "      <td>TUN</td>\n",
       "      <td>Northern Africa</td>\n",
       "      <td>Northern Africa</td>\n",
       "    </tr>\n",
       "    <tr>\n",
       "      <th>42</th>\n",
       "      <td>Uganda</td>\n",
       "      <td>2220.5</td>\n",
       "      <td>2187.68 - 2505.26 kcal</td>\n",
       "      <td>UGA</td>\n",
       "      <td>Sub-Saharan Africa</td>\n",
       "      <td>Eastern Africa</td>\n",
       "    </tr>\n",
       "    <tr>\n",
       "      <th>43</th>\n",
       "      <td>Zambia</td>\n",
       "      <td>1870.1</td>\n",
       "      <td>1868.512 - 2187.68 kcal</td>\n",
       "      <td>ZMB</td>\n",
       "      <td>Sub-Saharan Africa</td>\n",
       "      <td>Eastern Africa</td>\n",
       "    </tr>\n",
       "    <tr>\n",
       "      <th>44</th>\n",
       "      <td>Zimbabwe</td>\n",
       "      <td>2120.9</td>\n",
       "      <td>1868.512 - 2187.68 kcal</td>\n",
       "      <td>ZWE</td>\n",
       "      <td>Sub-Saharan Africa</td>\n",
       "      <td>Eastern Africa</td>\n",
       "    </tr>\n",
       "  </tbody>\n",
       "</table>\n",
       "</div>"
      ],
      "text/plain": [
       "                     Country   Value      Average Consumption ISO3  \\\n",
       "0                    Algeria  3111.8   2822.84 - 3140.42 kcal  DZA   \n",
       "1                     Angola  2255.6   2187.68 - 2505.26 kcal  AGO   \n",
       "2                      Benin  2537.8   2505.26 - 2822.84 kcal  BEN   \n",
       "3                   Botswana  2226.3   2187.68 - 2505.26 kcal  BWA   \n",
       "4               Burkina Faso  2607.2   2505.26 - 2822.84 kcal  BFA   \n",
       "5                   Cameroon  2460.3   2187.68 - 2505.26 kcal  CMR   \n",
       "6                 Cape Verde  2551.4   2505.26 - 2822.84 kcal  CPV   \n",
       "7   Central African Republic  2071.9  1868.512 - 2187.68 kcal  CAF   \n",
       "8                       Chad  2051.1  1868.512 - 2187.68 kcal  TCD   \n",
       "9                   Djibouti  2416.5   2187.68 - 2505.26 kcal  DJI   \n",
       "10                     Egypt  3458.0    3140.42 - 3458.0 kcal  EGY   \n",
       "11                  Ethiopia  2029.2  1868.512 - 2187.68 kcal  ETH   \n",
       "12                     Gabon  2729.9   2505.26 - 2822.84 kcal  GAB   \n",
       "13                    Gambia  2569.5   2505.26 - 2822.84 kcal  GMB   \n",
       "14                     Ghana  2918.0   2822.84 - 3140.42 kcal  GHA   \n",
       "15                    Guinea  2518.0   2505.26 - 2822.84 kcal  GIN   \n",
       "16             Guinea-Bissau  2296.3   2187.68 - 2505.26 kcal  GNB   \n",
       "17               Ivory Coast  2766.6   2505.26 - 2822.84 kcal  CIV   \n",
       "18                     Kenya  2145.3  1868.512 - 2187.68 kcal  KEN   \n",
       "19                   Lesotho  2558.8   2505.26 - 2822.84 kcal  LSO   \n",
       "20                   Liberia  2182.7  1868.512 - 2187.68 kcal  LBR   \n",
       "21                Madagascar  2060.8  1868.512 - 2187.68 kcal  MDG   \n",
       "22                    Malawi  2292.5   2187.68 - 2505.26 kcal  MWI   \n",
       "23                      Mali  2750.2   2505.26 - 2822.84 kcal  MLI   \n",
       "24                Mauritania  2744.3   2505.26 - 2822.84 kcal  MRT   \n",
       "25                 Mauritius  3054.3   2822.84 - 3140.42 kcal  MUS   \n",
       "26                   Morocco  3296.7    3140.42 - 3458.0 kcal  MAR   \n",
       "27                Mozambique  2170.2  1868.512 - 2187.68 kcal  MOZ   \n",
       "28                   Namibia  2160.2  1868.512 - 2187.68 kcal  NAM   \n",
       "29                     Niger  2502.4   2187.68 - 2505.26 kcal  NER   \n",
       "30                   Nigeria  2698.8   2505.26 - 2822.84 kcal  NGA   \n",
       "31     Republic of the Congo  2153.0  1868.512 - 2187.68 kcal  COG   \n",
       "32                    Rwanda  2130.9  1868.512 - 2187.68 kcal  RWA   \n",
       "33     Sao Tome and Principe  2446.2   2187.68 - 2505.26 kcal  STP   \n",
       "34                   Senegal  2378.4   2187.68 - 2505.26 kcal  SEN   \n",
       "35              Sierra Leone  2229.1   2187.68 - 2505.26 kcal  SLE   \n",
       "36              South Africa  2962.9   2822.84 - 3140.42 kcal  ZAF   \n",
       "37                     Sudan  2323.8   2187.68 - 2505.26 kcal  SDN   \n",
       "38                 Swaziland  2317.1   2187.68 - 2505.26 kcal  SWZ   \n",
       "39                  Tanzania  2155.0  1868.512 - 2187.68 kcal  TZA   \n",
       "40                      Togo  2333.9   2187.68 - 2505.26 kcal  TGO   \n",
       "41                   Tunisia  3305.5    3140.42 - 3458.0 kcal  TUN   \n",
       "42                    Uganda  2220.5   2187.68 - 2505.26 kcal  UGA   \n",
       "43                    Zambia  1870.1  1868.512 - 2187.68 kcal  ZMB   \n",
       "44                  Zimbabwe  2120.9  1868.512 - 2187.68 kcal  ZWE   \n",
       "\n",
       "            Sub-region Intermediate region  \n",
       "0      Northern Africa     Northern Africa  \n",
       "1   Sub-Saharan Africa       Middle Africa  \n",
       "2   Sub-Saharan Africa      Western Africa  \n",
       "3   Sub-Saharan Africa     Southern Africa  \n",
       "4   Sub-Saharan Africa      Western Africa  \n",
       "5   Sub-Saharan Africa       Middle Africa  \n",
       "6   Sub-Saharan Africa      Western Africa  \n",
       "7   Sub-Saharan Africa       Middle Africa  \n",
       "8   Sub-Saharan Africa       Middle Africa  \n",
       "9   Sub-Saharan Africa      Eastern Africa  \n",
       "10     Northern Africa     Northern Africa  \n",
       "11  Sub-Saharan Africa      Eastern Africa  \n",
       "12  Sub-Saharan Africa       Middle Africa  \n",
       "13  Sub-Saharan Africa      Western Africa  \n",
       "14  Sub-Saharan Africa      Western Africa  \n",
       "15  Sub-Saharan Africa      Western Africa  \n",
       "16  Sub-Saharan Africa      Western Africa  \n",
       "17  Sub-Saharan Africa      Western Africa  \n",
       "18  Sub-Saharan Africa      Eastern Africa  \n",
       "19  Sub-Saharan Africa     Southern Africa  \n",
       "20  Sub-Saharan Africa      Western Africa  \n",
       "21  Sub-Saharan Africa      Eastern Africa  \n",
       "22  Sub-Saharan Africa      Eastern Africa  \n",
       "23  Sub-Saharan Africa      Western Africa  \n",
       "24  Sub-Saharan Africa      Western Africa  \n",
       "25  Sub-Saharan Africa      Eastern Africa  \n",
       "26     Northern Africa     Northern Africa  \n",
       "27  Sub-Saharan Africa      Eastern Africa  \n",
       "28  Sub-Saharan Africa     Southern Africa  \n",
       "29  Sub-Saharan Africa      Western Africa  \n",
       "30  Sub-Saharan Africa      Western Africa  \n",
       "31  Sub-Saharan Africa       Middle Africa  \n",
       "32  Sub-Saharan Africa      Eastern Africa  \n",
       "33  Sub-Saharan Africa       Middle Africa  \n",
       "34  Sub-Saharan Africa      Western Africa  \n",
       "35  Sub-Saharan Africa      Western Africa  \n",
       "36  Sub-Saharan Africa     Southern Africa  \n",
       "37     Northern Africa     Northern Africa  \n",
       "38  Sub-Saharan Africa     Southern Africa  \n",
       "39  Sub-Saharan Africa      Eastern Africa  \n",
       "40  Sub-Saharan Africa      Western Africa  \n",
       "41     Northern Africa     Northern Africa  \n",
       "42  Sub-Saharan Africa      Eastern Africa  \n",
       "43  Sub-Saharan Africa      Eastern Africa  \n",
       "44  Sub-Saharan Africa      Eastern Africa  "
      ]
     },
     "execution_count": 95,
     "metadata": {},
     "output_type": "execute_result"
    }
   ],
   "source": [
    "# Categorise each country depending on the average consumption\n",
    "\n",
    "labels = ['1868.512 - 2187.68 kcal', '2187.68 - 2505.26 kcal', '2505.26 - 2822.84 kcal', '2822.84 - 3140.42 kcal', '3140.42 - 3458.0 kcal']\n",
    "food_supp_df3 = food_supp_df.copy()\n",
    "food_supp_df3 = food_supp_df3.groupby('Country')['Value'].mean().reset_index()\n",
    "food_supp_df3['Average Consumption'] = pd.cut(countries_average_consumption['Value'], 5, labels = labels)\n",
    "\n",
    "food_supp_df3['ISO3'] = food_supp_df3.apply(lambda x: countries_list.get_country_ISO3(x.Country), axis=1)\n",
    "food_supp_df3 = pd.merge(food_supp_df3, country_dim_df, on='ISO3', how='left')\n",
    "food_supp_df3"
   ]
  },
  {
   "cell_type": "code",
   "execution_count": 98,
   "id": "8b8f00c4",
   "metadata": {
    "scrolled": false
   },
   "outputs": [
    {
     "data": {
      "application/vnd.plotly.v1+json": {
       "config": {
        "plotlyServerURL": "https://plot.ly"
       },
       "data": [
        {
         "colorscale": [
          [
           0,
           "#ffffcc"
          ],
          [
           1,
           "#ffffcc"
          ]
         ],
         "geo": "geo",
         "hovertemplate": "<b>%{hovertext}</b><br><br>Average Consumption=1868.512 - 2187.68 kcal<br>ISO3=%{location}<extra></extra>",
         "hovertext": [
          "Central African Republic",
          "Chad",
          "Ethiopia",
          "Kenya",
          "Liberia",
          "Madagascar",
          "Mozambique",
          "Namibia",
          "Republic of the Congo",
          "Rwanda",
          "Tanzania",
          "Zambia",
          "Zimbabwe"
         ],
         "locationmode": "ISO-3",
         "locations": [
          "CAF",
          "TCD",
          "ETH",
          "KEN",
          "LBR",
          "MDG",
          "MOZ",
          "NAM",
          "COG",
          "RWA",
          "TZA",
          "ZMB",
          "ZWE"
         ],
         "name": "1868.512 - 2187.68 kcal",
         "showlegend": true,
         "showscale": false,
         "type": "choropleth",
         "z": [
          1,
          1,
          1,
          1,
          1,
          1,
          1,
          1,
          1,
          1,
          1,
          1,
          1
         ]
        },
        {
         "colorscale": [
          [
           0,
           "#fed976"
          ],
          [
           1,
           "#fed976"
          ]
         ],
         "geo": "geo",
         "hovertemplate": "<b>%{hovertext}</b><br><br>Average Consumption=2187.68 - 2505.26 kcal<br>ISO3=%{location}<extra></extra>",
         "hovertext": [
          "Angola",
          "Botswana",
          "Cameroon",
          "Djibouti",
          "Guinea-Bissau",
          "Malawi",
          "Niger",
          "Sao Tome and Principe",
          "Senegal",
          "Sierra Leone",
          "Sudan",
          "Swaziland",
          "Togo",
          "Uganda"
         ],
         "locationmode": "ISO-3",
         "locations": [
          "AGO",
          "BWA",
          "CMR",
          "DJI",
          "GNB",
          "MWI",
          "NER",
          "STP",
          "SEN",
          "SLE",
          "SDN",
          "SWZ",
          "TGO",
          "UGA"
         ],
         "name": "2187.68 - 2505.26 kcal",
         "showlegend": true,
         "showscale": false,
         "type": "choropleth",
         "z": [
          1,
          1,
          1,
          1,
          1,
          1,
          1,
          1,
          1,
          1,
          1,
          1,
          1,
          1
         ]
        },
        {
         "colorscale": [
          [
           0,
           "#fd8d3c"
          ],
          [
           1,
           "#fd8d3c"
          ]
         ],
         "geo": "geo",
         "hovertemplate": "<b>%{hovertext}</b><br><br>Average Consumption=2505.26 - 2822.84 kcal<br>ISO3=%{location}<extra></extra>",
         "hovertext": [
          "Benin",
          "Burkina Faso",
          "Cape Verde",
          "Gabon",
          "Gambia",
          "Guinea",
          "Ivory Coast",
          "Lesotho",
          "Mali",
          "Mauritania",
          "Nigeria"
         ],
         "locationmode": "ISO-3",
         "locations": [
          "BEN",
          "BFA",
          "CPV",
          "GAB",
          "GMB",
          "GIN",
          "CIV",
          "LSO",
          "MLI",
          "MRT",
          "NGA"
         ],
         "name": "2505.26 - 2822.84 kcal",
         "showlegend": true,
         "showscale": false,
         "type": "choropleth",
         "z": [
          1,
          1,
          1,
          1,
          1,
          1,
          1,
          1,
          1,
          1,
          1
         ]
        },
        {
         "colorscale": [
          [
           0,
           "#e31a1c"
          ],
          [
           1,
           "#e31a1c"
          ]
         ],
         "geo": "geo",
         "hovertemplate": "<b>%{hovertext}</b><br><br>Average Consumption=2822.84 - 3140.42 kcal<br>ISO3=%{location}<extra></extra>",
         "hovertext": [
          "Algeria",
          "Ghana",
          "Mauritius",
          "South Africa"
         ],
         "locationmode": "ISO-3",
         "locations": [
          "DZA",
          "GHA",
          "MUS",
          "ZAF"
         ],
         "name": "2822.84 - 3140.42 kcal",
         "showlegend": true,
         "showscale": false,
         "type": "choropleth",
         "z": [
          1,
          1,
          1,
          1
         ]
        },
        {
         "colorscale": [
          [
           0,
           "#800026"
          ],
          [
           1,
           "#800026"
          ]
         ],
         "geo": "geo",
         "hovertemplate": "<b>%{hovertext}</b><br><br>Average Consumption=3140.42 - 3458.0 kcal<br>ISO3=%{location}<extra></extra>",
         "hovertext": [
          "Egypt",
          "Morocco",
          "Tunisia"
         ],
         "locationmode": "ISO-3",
         "locations": [
          "EGY",
          "MAR",
          "TUN"
         ],
         "name": "3140.42 - 3458.0 kcal",
         "showlegend": true,
         "showscale": false,
         "type": "choropleth",
         "z": [
          1,
          1,
          1
         ]
        }
       ],
       "layout": {
        "geo": {
         "center": {},
         "domain": {
          "x": [
           0,
           1
          ],
          "y": [
           0,
           1
          ]
         },
         "scope": "africa"
        },
        "legend": {
         "title": {
          "text": "Average Consumption"
         },
         "tracegroupgap": 0
        },
        "margin": {
         "t": 60
        },
        "template": {
         "data": {
          "bar": [
           {
            "error_x": {
             "color": "#2a3f5f"
            },
            "error_y": {
             "color": "#2a3f5f"
            },
            "marker": {
             "line": {
              "color": "#E5ECF6",
              "width": 0.5
             },
             "pattern": {
              "fillmode": "overlay",
              "size": 10,
              "solidity": 0.2
             }
            },
            "type": "bar"
           }
          ],
          "barpolar": [
           {
            "marker": {
             "line": {
              "color": "#E5ECF6",
              "width": 0.5
             },
             "pattern": {
              "fillmode": "overlay",
              "size": 10,
              "solidity": 0.2
             }
            },
            "type": "barpolar"
           }
          ],
          "carpet": [
           {
            "aaxis": {
             "endlinecolor": "#2a3f5f",
             "gridcolor": "white",
             "linecolor": "white",
             "minorgridcolor": "white",
             "startlinecolor": "#2a3f5f"
            },
            "baxis": {
             "endlinecolor": "#2a3f5f",
             "gridcolor": "white",
             "linecolor": "white",
             "minorgridcolor": "white",
             "startlinecolor": "#2a3f5f"
            },
            "type": "carpet"
           }
          ],
          "choropleth": [
           {
            "colorbar": {
             "outlinewidth": 0,
             "ticks": ""
            },
            "type": "choropleth"
           }
          ],
          "contour": [
           {
            "colorbar": {
             "outlinewidth": 0,
             "ticks": ""
            },
            "colorscale": [
             [
              0,
              "#0d0887"
             ],
             [
              0.1111111111111111,
              "#46039f"
             ],
             [
              0.2222222222222222,
              "#7201a8"
             ],
             [
              0.3333333333333333,
              "#9c179e"
             ],
             [
              0.4444444444444444,
              "#bd3786"
             ],
             [
              0.5555555555555556,
              "#d8576b"
             ],
             [
              0.6666666666666666,
              "#ed7953"
             ],
             [
              0.7777777777777778,
              "#fb9f3a"
             ],
             [
              0.8888888888888888,
              "#fdca26"
             ],
             [
              1,
              "#f0f921"
             ]
            ],
            "type": "contour"
           }
          ],
          "contourcarpet": [
           {
            "colorbar": {
             "outlinewidth": 0,
             "ticks": ""
            },
            "type": "contourcarpet"
           }
          ],
          "heatmap": [
           {
            "colorbar": {
             "outlinewidth": 0,
             "ticks": ""
            },
            "colorscale": [
             [
              0,
              "#0d0887"
             ],
             [
              0.1111111111111111,
              "#46039f"
             ],
             [
              0.2222222222222222,
              "#7201a8"
             ],
             [
              0.3333333333333333,
              "#9c179e"
             ],
             [
              0.4444444444444444,
              "#bd3786"
             ],
             [
              0.5555555555555556,
              "#d8576b"
             ],
             [
              0.6666666666666666,
              "#ed7953"
             ],
             [
              0.7777777777777778,
              "#fb9f3a"
             ],
             [
              0.8888888888888888,
              "#fdca26"
             ],
             [
              1,
              "#f0f921"
             ]
            ],
            "type": "heatmap"
           }
          ],
          "heatmapgl": [
           {
            "colorbar": {
             "outlinewidth": 0,
             "ticks": ""
            },
            "colorscale": [
             [
              0,
              "#0d0887"
             ],
             [
              0.1111111111111111,
              "#46039f"
             ],
             [
              0.2222222222222222,
              "#7201a8"
             ],
             [
              0.3333333333333333,
              "#9c179e"
             ],
             [
              0.4444444444444444,
              "#bd3786"
             ],
             [
              0.5555555555555556,
              "#d8576b"
             ],
             [
              0.6666666666666666,
              "#ed7953"
             ],
             [
              0.7777777777777778,
              "#fb9f3a"
             ],
             [
              0.8888888888888888,
              "#fdca26"
             ],
             [
              1,
              "#f0f921"
             ]
            ],
            "type": "heatmapgl"
           }
          ],
          "histogram": [
           {
            "marker": {
             "pattern": {
              "fillmode": "overlay",
              "size": 10,
              "solidity": 0.2
             }
            },
            "type": "histogram"
           }
          ],
          "histogram2d": [
           {
            "colorbar": {
             "outlinewidth": 0,
             "ticks": ""
            },
            "colorscale": [
             [
              0,
              "#0d0887"
             ],
             [
              0.1111111111111111,
              "#46039f"
             ],
             [
              0.2222222222222222,
              "#7201a8"
             ],
             [
              0.3333333333333333,
              "#9c179e"
             ],
             [
              0.4444444444444444,
              "#bd3786"
             ],
             [
              0.5555555555555556,
              "#d8576b"
             ],
             [
              0.6666666666666666,
              "#ed7953"
             ],
             [
              0.7777777777777778,
              "#fb9f3a"
             ],
             [
              0.8888888888888888,
              "#fdca26"
             ],
             [
              1,
              "#f0f921"
             ]
            ],
            "type": "histogram2d"
           }
          ],
          "histogram2dcontour": [
           {
            "colorbar": {
             "outlinewidth": 0,
             "ticks": ""
            },
            "colorscale": [
             [
              0,
              "#0d0887"
             ],
             [
              0.1111111111111111,
              "#46039f"
             ],
             [
              0.2222222222222222,
              "#7201a8"
             ],
             [
              0.3333333333333333,
              "#9c179e"
             ],
             [
              0.4444444444444444,
              "#bd3786"
             ],
             [
              0.5555555555555556,
              "#d8576b"
             ],
             [
              0.6666666666666666,
              "#ed7953"
             ],
             [
              0.7777777777777778,
              "#fb9f3a"
             ],
             [
              0.8888888888888888,
              "#fdca26"
             ],
             [
              1,
              "#f0f921"
             ]
            ],
            "type": "histogram2dcontour"
           }
          ],
          "mesh3d": [
           {
            "colorbar": {
             "outlinewidth": 0,
             "ticks": ""
            },
            "type": "mesh3d"
           }
          ],
          "parcoords": [
           {
            "line": {
             "colorbar": {
              "outlinewidth": 0,
              "ticks": ""
             }
            },
            "type": "parcoords"
           }
          ],
          "pie": [
           {
            "automargin": true,
            "type": "pie"
           }
          ],
          "scatter": [
           {
            "fillpattern": {
             "fillmode": "overlay",
             "size": 10,
             "solidity": 0.2
            },
            "type": "scatter"
           }
          ],
          "scatter3d": [
           {
            "line": {
             "colorbar": {
              "outlinewidth": 0,
              "ticks": ""
             }
            },
            "marker": {
             "colorbar": {
              "outlinewidth": 0,
              "ticks": ""
             }
            },
            "type": "scatter3d"
           }
          ],
          "scattercarpet": [
           {
            "marker": {
             "colorbar": {
              "outlinewidth": 0,
              "ticks": ""
             }
            },
            "type": "scattercarpet"
           }
          ],
          "scattergeo": [
           {
            "marker": {
             "colorbar": {
              "outlinewidth": 0,
              "ticks": ""
             }
            },
            "type": "scattergeo"
           }
          ],
          "scattergl": [
           {
            "marker": {
             "colorbar": {
              "outlinewidth": 0,
              "ticks": ""
             }
            },
            "type": "scattergl"
           }
          ],
          "scattermapbox": [
           {
            "marker": {
             "colorbar": {
              "outlinewidth": 0,
              "ticks": ""
             }
            },
            "type": "scattermapbox"
           }
          ],
          "scatterpolar": [
           {
            "marker": {
             "colorbar": {
              "outlinewidth": 0,
              "ticks": ""
             }
            },
            "type": "scatterpolar"
           }
          ],
          "scatterpolargl": [
           {
            "marker": {
             "colorbar": {
              "outlinewidth": 0,
              "ticks": ""
             }
            },
            "type": "scatterpolargl"
           }
          ],
          "scatterternary": [
           {
            "marker": {
             "colorbar": {
              "outlinewidth": 0,
              "ticks": ""
             }
            },
            "type": "scatterternary"
           }
          ],
          "surface": [
           {
            "colorbar": {
             "outlinewidth": 0,
             "ticks": ""
            },
            "colorscale": [
             [
              0,
              "#0d0887"
             ],
             [
              0.1111111111111111,
              "#46039f"
             ],
             [
              0.2222222222222222,
              "#7201a8"
             ],
             [
              0.3333333333333333,
              "#9c179e"
             ],
             [
              0.4444444444444444,
              "#bd3786"
             ],
             [
              0.5555555555555556,
              "#d8576b"
             ],
             [
              0.6666666666666666,
              "#ed7953"
             ],
             [
              0.7777777777777778,
              "#fb9f3a"
             ],
             [
              0.8888888888888888,
              "#fdca26"
             ],
             [
              1,
              "#f0f921"
             ]
            ],
            "type": "surface"
           }
          ],
          "table": [
           {
            "cells": {
             "fill": {
              "color": "#EBF0F8"
             },
             "line": {
              "color": "white"
             }
            },
            "header": {
             "fill": {
              "color": "#C8D4E3"
             },
             "line": {
              "color": "white"
             }
            },
            "type": "table"
           }
          ]
         },
         "layout": {
          "annotationdefaults": {
           "arrowcolor": "#2a3f5f",
           "arrowhead": 0,
           "arrowwidth": 1
          },
          "autotypenumbers": "strict",
          "coloraxis": {
           "colorbar": {
            "outlinewidth": 0,
            "ticks": ""
           }
          },
          "colorscale": {
           "diverging": [
            [
             0,
             "#8e0152"
            ],
            [
             0.1,
             "#c51b7d"
            ],
            [
             0.2,
             "#de77ae"
            ],
            [
             0.3,
             "#f1b6da"
            ],
            [
             0.4,
             "#fde0ef"
            ],
            [
             0.5,
             "#f7f7f7"
            ],
            [
             0.6,
             "#e6f5d0"
            ],
            [
             0.7,
             "#b8e186"
            ],
            [
             0.8,
             "#7fbc41"
            ],
            [
             0.9,
             "#4d9221"
            ],
            [
             1,
             "#276419"
            ]
           ],
           "sequential": [
            [
             0,
             "#0d0887"
            ],
            [
             0.1111111111111111,
             "#46039f"
            ],
            [
             0.2222222222222222,
             "#7201a8"
            ],
            [
             0.3333333333333333,
             "#9c179e"
            ],
            [
             0.4444444444444444,
             "#bd3786"
            ],
            [
             0.5555555555555556,
             "#d8576b"
            ],
            [
             0.6666666666666666,
             "#ed7953"
            ],
            [
             0.7777777777777778,
             "#fb9f3a"
            ],
            [
             0.8888888888888888,
             "#fdca26"
            ],
            [
             1,
             "#f0f921"
            ]
           ],
           "sequentialminus": [
            [
             0,
             "#0d0887"
            ],
            [
             0.1111111111111111,
             "#46039f"
            ],
            [
             0.2222222222222222,
             "#7201a8"
            ],
            [
             0.3333333333333333,
             "#9c179e"
            ],
            [
             0.4444444444444444,
             "#bd3786"
            ],
            [
             0.5555555555555556,
             "#d8576b"
            ],
            [
             0.6666666666666666,
             "#ed7953"
            ],
            [
             0.7777777777777778,
             "#fb9f3a"
            ],
            [
             0.8888888888888888,
             "#fdca26"
            ],
            [
             1,
             "#f0f921"
            ]
           ]
          },
          "colorway": [
           "#636efa",
           "#EF553B",
           "#00cc96",
           "#ab63fa",
           "#FFA15A",
           "#19d3f3",
           "#FF6692",
           "#B6E880",
           "#FF97FF",
           "#FECB52"
          ],
          "font": {
           "color": "#2a3f5f"
          },
          "geo": {
           "bgcolor": "white",
           "lakecolor": "white",
           "landcolor": "#E5ECF6",
           "showlakes": true,
           "showland": true,
           "subunitcolor": "white"
          },
          "hoverlabel": {
           "align": "left"
          },
          "hovermode": "closest",
          "mapbox": {
           "style": "light"
          },
          "paper_bgcolor": "white",
          "plot_bgcolor": "#E5ECF6",
          "polar": {
           "angularaxis": {
            "gridcolor": "white",
            "linecolor": "white",
            "ticks": ""
           },
           "bgcolor": "#E5ECF6",
           "radialaxis": {
            "gridcolor": "white",
            "linecolor": "white",
            "ticks": ""
           }
          },
          "scene": {
           "xaxis": {
            "backgroundcolor": "#E5ECF6",
            "gridcolor": "white",
            "gridwidth": 2,
            "linecolor": "white",
            "showbackground": true,
            "ticks": "",
            "zerolinecolor": "white"
           },
           "yaxis": {
            "backgroundcolor": "#E5ECF6",
            "gridcolor": "white",
            "gridwidth": 2,
            "linecolor": "white",
            "showbackground": true,
            "ticks": "",
            "zerolinecolor": "white"
           },
           "zaxis": {
            "backgroundcolor": "#E5ECF6",
            "gridcolor": "white",
            "gridwidth": 2,
            "linecolor": "white",
            "showbackground": true,
            "ticks": "",
            "zerolinecolor": "white"
           }
          },
          "shapedefaults": {
           "line": {
            "color": "#2a3f5f"
           }
          },
          "ternary": {
           "aaxis": {
            "gridcolor": "white",
            "linecolor": "white",
            "ticks": ""
           },
           "baxis": {
            "gridcolor": "white",
            "linecolor": "white",
            "ticks": ""
           },
           "bgcolor": "#E5ECF6",
           "caxis": {
            "gridcolor": "white",
            "linecolor": "white",
            "ticks": ""
           }
          },
          "title": {
           "x": 0.05
          },
          "xaxis": {
           "automargin": true,
           "gridcolor": "white",
           "linecolor": "white",
           "ticks": "",
           "title": {
            "standoff": 15
           },
           "zerolinecolor": "white",
           "zerolinewidth": 2
          },
          "yaxis": {
           "automargin": true,
           "gridcolor": "white",
           "linecolor": "white",
           "ticks": "",
           "title": {
            "standoff": 15
           },
           "zerolinecolor": "white",
           "zerolinewidth": 2
          }
         }
        }
       }
      },
      "text/html": [
       "<div>                            <div id=\"fca51efe-c1cf-4cba-a8ce-940e5d7aee65\" class=\"plotly-graph-div\" style=\"height:525px; width:100%;\"></div>            <script type=\"text/javascript\">                require([\"plotly\"], function(Plotly) {                    window.PLOTLYENV=window.PLOTLYENV || {};                                    if (document.getElementById(\"fca51efe-c1cf-4cba-a8ce-940e5d7aee65\")) {                    Plotly.newPlot(                        \"fca51efe-c1cf-4cba-a8ce-940e5d7aee65\",                        [{\"colorscale\":[[0.0,\"#ffffcc\"],[1.0,\"#ffffcc\"]],\"geo\":\"geo\",\"hovertemplate\":\"<b>%{hovertext}</b><br><br>Average Consumption=1868.512 - 2187.68 kcal<br>ISO3=%{location}<extra></extra>\",\"hovertext\":[\"Central African Republic\",\"Chad\",\"Ethiopia\",\"Kenya\",\"Liberia\",\"Madagascar\",\"Mozambique\",\"Namibia\",\"Republic of the Congo\",\"Rwanda\",\"Tanzania\",\"Zambia\",\"Zimbabwe\"],\"locationmode\":\"ISO-3\",\"locations\":[\"CAF\",\"TCD\",\"ETH\",\"KEN\",\"LBR\",\"MDG\",\"MOZ\",\"NAM\",\"COG\",\"RWA\",\"TZA\",\"ZMB\",\"ZWE\"],\"name\":\"1868.512 - 2187.68 kcal\",\"showlegend\":true,\"showscale\":false,\"z\":[1,1,1,1,1,1,1,1,1,1,1,1,1],\"type\":\"choropleth\"},{\"colorscale\":[[0.0,\"#fed976\"],[1.0,\"#fed976\"]],\"geo\":\"geo\",\"hovertemplate\":\"<b>%{hovertext}</b><br><br>Average Consumption=2187.68 - 2505.26 kcal<br>ISO3=%{location}<extra></extra>\",\"hovertext\":[\"Angola\",\"Botswana\",\"Cameroon\",\"Djibouti\",\"Guinea-Bissau\",\"Malawi\",\"Niger\",\"Sao Tome and Principe\",\"Senegal\",\"Sierra Leone\",\"Sudan\",\"Swaziland\",\"Togo\",\"Uganda\"],\"locationmode\":\"ISO-3\",\"locations\":[\"AGO\",\"BWA\",\"CMR\",\"DJI\",\"GNB\",\"MWI\",\"NER\",\"STP\",\"SEN\",\"SLE\",\"SDN\",\"SWZ\",\"TGO\",\"UGA\"],\"name\":\"2187.68 - 2505.26 kcal\",\"showlegend\":true,\"showscale\":false,\"z\":[1,1,1,1,1,1,1,1,1,1,1,1,1,1],\"type\":\"choropleth\"},{\"colorscale\":[[0.0,\"#fd8d3c\"],[1.0,\"#fd8d3c\"]],\"geo\":\"geo\",\"hovertemplate\":\"<b>%{hovertext}</b><br><br>Average Consumption=2505.26 - 2822.84 kcal<br>ISO3=%{location}<extra></extra>\",\"hovertext\":[\"Benin\",\"Burkina Faso\",\"Cape Verde\",\"Gabon\",\"Gambia\",\"Guinea\",\"Ivory Coast\",\"Lesotho\",\"Mali\",\"Mauritania\",\"Nigeria\"],\"locationmode\":\"ISO-3\",\"locations\":[\"BEN\",\"BFA\",\"CPV\",\"GAB\",\"GMB\",\"GIN\",\"CIV\",\"LSO\",\"MLI\",\"MRT\",\"NGA\"],\"name\":\"2505.26 - 2822.84 kcal\",\"showlegend\":true,\"showscale\":false,\"z\":[1,1,1,1,1,1,1,1,1,1,1],\"type\":\"choropleth\"},{\"colorscale\":[[0.0,\"#e31a1c\"],[1.0,\"#e31a1c\"]],\"geo\":\"geo\",\"hovertemplate\":\"<b>%{hovertext}</b><br><br>Average Consumption=2822.84 - 3140.42 kcal<br>ISO3=%{location}<extra></extra>\",\"hovertext\":[\"Algeria\",\"Ghana\",\"Mauritius\",\"South Africa\"],\"locationmode\":\"ISO-3\",\"locations\":[\"DZA\",\"GHA\",\"MUS\",\"ZAF\"],\"name\":\"2822.84 - 3140.42 kcal\",\"showlegend\":true,\"showscale\":false,\"z\":[1,1,1,1],\"type\":\"choropleth\"},{\"colorscale\":[[0.0,\"#800026\"],[1.0,\"#800026\"]],\"geo\":\"geo\",\"hovertemplate\":\"<b>%{hovertext}</b><br><br>Average Consumption=3140.42 - 3458.0 kcal<br>ISO3=%{location}<extra></extra>\",\"hovertext\":[\"Egypt\",\"Morocco\",\"Tunisia\"],\"locationmode\":\"ISO-3\",\"locations\":[\"EGY\",\"MAR\",\"TUN\"],\"name\":\"3140.42 - 3458.0 kcal\",\"showlegend\":true,\"showscale\":false,\"z\":[1,1,1],\"type\":\"choropleth\"}],                        {\"template\":{\"data\":{\"histogram2dcontour\":[{\"type\":\"histogram2dcontour\",\"colorbar\":{\"outlinewidth\":0,\"ticks\":\"\"},\"colorscale\":[[0.0,\"#0d0887\"],[0.1111111111111111,\"#46039f\"],[0.2222222222222222,\"#7201a8\"],[0.3333333333333333,\"#9c179e\"],[0.4444444444444444,\"#bd3786\"],[0.5555555555555556,\"#d8576b\"],[0.6666666666666666,\"#ed7953\"],[0.7777777777777778,\"#fb9f3a\"],[0.8888888888888888,\"#fdca26\"],[1.0,\"#f0f921\"]]}],\"choropleth\":[{\"type\":\"choropleth\",\"colorbar\":{\"outlinewidth\":0,\"ticks\":\"\"}}],\"histogram2d\":[{\"type\":\"histogram2d\",\"colorbar\":{\"outlinewidth\":0,\"ticks\":\"\"},\"colorscale\":[[0.0,\"#0d0887\"],[0.1111111111111111,\"#46039f\"],[0.2222222222222222,\"#7201a8\"],[0.3333333333333333,\"#9c179e\"],[0.4444444444444444,\"#bd3786\"],[0.5555555555555556,\"#d8576b\"],[0.6666666666666666,\"#ed7953\"],[0.7777777777777778,\"#fb9f3a\"],[0.8888888888888888,\"#fdca26\"],[1.0,\"#f0f921\"]]}],\"heatmap\":[{\"type\":\"heatmap\",\"colorbar\":{\"outlinewidth\":0,\"ticks\":\"\"},\"colorscale\":[[0.0,\"#0d0887\"],[0.1111111111111111,\"#46039f\"],[0.2222222222222222,\"#7201a8\"],[0.3333333333333333,\"#9c179e\"],[0.4444444444444444,\"#bd3786\"],[0.5555555555555556,\"#d8576b\"],[0.6666666666666666,\"#ed7953\"],[0.7777777777777778,\"#fb9f3a\"],[0.8888888888888888,\"#fdca26\"],[1.0,\"#f0f921\"]]}],\"heatmapgl\":[{\"type\":\"heatmapgl\",\"colorbar\":{\"outlinewidth\":0,\"ticks\":\"\"},\"colorscale\":[[0.0,\"#0d0887\"],[0.1111111111111111,\"#46039f\"],[0.2222222222222222,\"#7201a8\"],[0.3333333333333333,\"#9c179e\"],[0.4444444444444444,\"#bd3786\"],[0.5555555555555556,\"#d8576b\"],[0.6666666666666666,\"#ed7953\"],[0.7777777777777778,\"#fb9f3a\"],[0.8888888888888888,\"#fdca26\"],[1.0,\"#f0f921\"]]}],\"contourcarpet\":[{\"type\":\"contourcarpet\",\"colorbar\":{\"outlinewidth\":0,\"ticks\":\"\"}}],\"contour\":[{\"type\":\"contour\",\"colorbar\":{\"outlinewidth\":0,\"ticks\":\"\"},\"colorscale\":[[0.0,\"#0d0887\"],[0.1111111111111111,\"#46039f\"],[0.2222222222222222,\"#7201a8\"],[0.3333333333333333,\"#9c179e\"],[0.4444444444444444,\"#bd3786\"],[0.5555555555555556,\"#d8576b\"],[0.6666666666666666,\"#ed7953\"],[0.7777777777777778,\"#fb9f3a\"],[0.8888888888888888,\"#fdca26\"],[1.0,\"#f0f921\"]]}],\"surface\":[{\"type\":\"surface\",\"colorbar\":{\"outlinewidth\":0,\"ticks\":\"\"},\"colorscale\":[[0.0,\"#0d0887\"],[0.1111111111111111,\"#46039f\"],[0.2222222222222222,\"#7201a8\"],[0.3333333333333333,\"#9c179e\"],[0.4444444444444444,\"#bd3786\"],[0.5555555555555556,\"#d8576b\"],[0.6666666666666666,\"#ed7953\"],[0.7777777777777778,\"#fb9f3a\"],[0.8888888888888888,\"#fdca26\"],[1.0,\"#f0f921\"]]}],\"mesh3d\":[{\"type\":\"mesh3d\",\"colorbar\":{\"outlinewidth\":0,\"ticks\":\"\"}}],\"scatter\":[{\"fillpattern\":{\"fillmode\":\"overlay\",\"size\":10,\"solidity\":0.2},\"type\":\"scatter\"}],\"parcoords\":[{\"type\":\"parcoords\",\"line\":{\"colorbar\":{\"outlinewidth\":0,\"ticks\":\"\"}}}],\"scatterpolargl\":[{\"type\":\"scatterpolargl\",\"marker\":{\"colorbar\":{\"outlinewidth\":0,\"ticks\":\"\"}}}],\"bar\":[{\"error_x\":{\"color\":\"#2a3f5f\"},\"error_y\":{\"color\":\"#2a3f5f\"},\"marker\":{\"line\":{\"color\":\"#E5ECF6\",\"width\":0.5},\"pattern\":{\"fillmode\":\"overlay\",\"size\":10,\"solidity\":0.2}},\"type\":\"bar\"}],\"scattergeo\":[{\"type\":\"scattergeo\",\"marker\":{\"colorbar\":{\"outlinewidth\":0,\"ticks\":\"\"}}}],\"scatterpolar\":[{\"type\":\"scatterpolar\",\"marker\":{\"colorbar\":{\"outlinewidth\":0,\"ticks\":\"\"}}}],\"histogram\":[{\"marker\":{\"pattern\":{\"fillmode\":\"overlay\",\"size\":10,\"solidity\":0.2}},\"type\":\"histogram\"}],\"scattergl\":[{\"type\":\"scattergl\",\"marker\":{\"colorbar\":{\"outlinewidth\":0,\"ticks\":\"\"}}}],\"scatter3d\":[{\"type\":\"scatter3d\",\"line\":{\"colorbar\":{\"outlinewidth\":0,\"ticks\":\"\"}},\"marker\":{\"colorbar\":{\"outlinewidth\":0,\"ticks\":\"\"}}}],\"scattermapbox\":[{\"type\":\"scattermapbox\",\"marker\":{\"colorbar\":{\"outlinewidth\":0,\"ticks\":\"\"}}}],\"scatterternary\":[{\"type\":\"scatterternary\",\"marker\":{\"colorbar\":{\"outlinewidth\":0,\"ticks\":\"\"}}}],\"scattercarpet\":[{\"type\":\"scattercarpet\",\"marker\":{\"colorbar\":{\"outlinewidth\":0,\"ticks\":\"\"}}}],\"carpet\":[{\"aaxis\":{\"endlinecolor\":\"#2a3f5f\",\"gridcolor\":\"white\",\"linecolor\":\"white\",\"minorgridcolor\":\"white\",\"startlinecolor\":\"#2a3f5f\"},\"baxis\":{\"endlinecolor\":\"#2a3f5f\",\"gridcolor\":\"white\",\"linecolor\":\"white\",\"minorgridcolor\":\"white\",\"startlinecolor\":\"#2a3f5f\"},\"type\":\"carpet\"}],\"table\":[{\"cells\":{\"fill\":{\"color\":\"#EBF0F8\"},\"line\":{\"color\":\"white\"}},\"header\":{\"fill\":{\"color\":\"#C8D4E3\"},\"line\":{\"color\":\"white\"}},\"type\":\"table\"}],\"barpolar\":[{\"marker\":{\"line\":{\"color\":\"#E5ECF6\",\"width\":0.5},\"pattern\":{\"fillmode\":\"overlay\",\"size\":10,\"solidity\":0.2}},\"type\":\"barpolar\"}],\"pie\":[{\"automargin\":true,\"type\":\"pie\"}]},\"layout\":{\"autotypenumbers\":\"strict\",\"colorway\":[\"#636efa\",\"#EF553B\",\"#00cc96\",\"#ab63fa\",\"#FFA15A\",\"#19d3f3\",\"#FF6692\",\"#B6E880\",\"#FF97FF\",\"#FECB52\"],\"font\":{\"color\":\"#2a3f5f\"},\"hovermode\":\"closest\",\"hoverlabel\":{\"align\":\"left\"},\"paper_bgcolor\":\"white\",\"plot_bgcolor\":\"#E5ECF6\",\"polar\":{\"bgcolor\":\"#E5ECF6\",\"angularaxis\":{\"gridcolor\":\"white\",\"linecolor\":\"white\",\"ticks\":\"\"},\"radialaxis\":{\"gridcolor\":\"white\",\"linecolor\":\"white\",\"ticks\":\"\"}},\"ternary\":{\"bgcolor\":\"#E5ECF6\",\"aaxis\":{\"gridcolor\":\"white\",\"linecolor\":\"white\",\"ticks\":\"\"},\"baxis\":{\"gridcolor\":\"white\",\"linecolor\":\"white\",\"ticks\":\"\"},\"caxis\":{\"gridcolor\":\"white\",\"linecolor\":\"white\",\"ticks\":\"\"}},\"coloraxis\":{\"colorbar\":{\"outlinewidth\":0,\"ticks\":\"\"}},\"colorscale\":{\"sequential\":[[0.0,\"#0d0887\"],[0.1111111111111111,\"#46039f\"],[0.2222222222222222,\"#7201a8\"],[0.3333333333333333,\"#9c179e\"],[0.4444444444444444,\"#bd3786\"],[0.5555555555555556,\"#d8576b\"],[0.6666666666666666,\"#ed7953\"],[0.7777777777777778,\"#fb9f3a\"],[0.8888888888888888,\"#fdca26\"],[1.0,\"#f0f921\"]],\"sequentialminus\":[[0.0,\"#0d0887\"],[0.1111111111111111,\"#46039f\"],[0.2222222222222222,\"#7201a8\"],[0.3333333333333333,\"#9c179e\"],[0.4444444444444444,\"#bd3786\"],[0.5555555555555556,\"#d8576b\"],[0.6666666666666666,\"#ed7953\"],[0.7777777777777778,\"#fb9f3a\"],[0.8888888888888888,\"#fdca26\"],[1.0,\"#f0f921\"]],\"diverging\":[[0,\"#8e0152\"],[0.1,\"#c51b7d\"],[0.2,\"#de77ae\"],[0.3,\"#f1b6da\"],[0.4,\"#fde0ef\"],[0.5,\"#f7f7f7\"],[0.6,\"#e6f5d0\"],[0.7,\"#b8e186\"],[0.8,\"#7fbc41\"],[0.9,\"#4d9221\"],[1,\"#276419\"]]},\"xaxis\":{\"gridcolor\":\"white\",\"linecolor\":\"white\",\"ticks\":\"\",\"title\":{\"standoff\":15},\"zerolinecolor\":\"white\",\"automargin\":true,\"zerolinewidth\":2},\"yaxis\":{\"gridcolor\":\"white\",\"linecolor\":\"white\",\"ticks\":\"\",\"title\":{\"standoff\":15},\"zerolinecolor\":\"white\",\"automargin\":true,\"zerolinewidth\":2},\"scene\":{\"xaxis\":{\"backgroundcolor\":\"#E5ECF6\",\"gridcolor\":\"white\",\"linecolor\":\"white\",\"showbackground\":true,\"ticks\":\"\",\"zerolinecolor\":\"white\",\"gridwidth\":2},\"yaxis\":{\"backgroundcolor\":\"#E5ECF6\",\"gridcolor\":\"white\",\"linecolor\":\"white\",\"showbackground\":true,\"ticks\":\"\",\"zerolinecolor\":\"white\",\"gridwidth\":2},\"zaxis\":{\"backgroundcolor\":\"#E5ECF6\",\"gridcolor\":\"white\",\"linecolor\":\"white\",\"showbackground\":true,\"ticks\":\"\",\"zerolinecolor\":\"white\",\"gridwidth\":2}},\"shapedefaults\":{\"line\":{\"color\":\"#2a3f5f\"}},\"annotationdefaults\":{\"arrowcolor\":\"#2a3f5f\",\"arrowhead\":0,\"arrowwidth\":1},\"geo\":{\"bgcolor\":\"white\",\"landcolor\":\"#E5ECF6\",\"subunitcolor\":\"white\",\"showland\":true,\"showlakes\":true,\"lakecolor\":\"white\"},\"title\":{\"x\":0.05},\"mapbox\":{\"style\":\"light\"}}},\"geo\":{\"domain\":{\"x\":[0.0,1.0],\"y\":[0.0,1.0]},\"center\":{},\"scope\":\"africa\"},\"legend\":{\"title\":{\"text\":\"Average Consumption\"},\"tracegroupgap\":0},\"margin\":{\"t\":60}},                        {\"responsive\": true}                    ).then(function(){\n",
       "                            \n",
       "var gd = document.getElementById('fca51efe-c1cf-4cba-a8ce-940e5d7aee65');\n",
       "var x = new MutationObserver(function (mutations, observer) {{\n",
       "        var display = window.getComputedStyle(gd).display;\n",
       "        if (!display || display === 'none') {{\n",
       "            console.log([gd, 'removed!']);\n",
       "            Plotly.purge(gd);\n",
       "            observer.disconnect();\n",
       "        }}\n",
       "}});\n",
       "\n",
       "// Listen for the removal of the full notebook cells\n",
       "var notebookContainer = gd.closest('#notebook-container');\n",
       "if (notebookContainer) {{\n",
       "    x.observe(notebookContainer, {childList: true});\n",
       "}}\n",
       "\n",
       "// Listen for the clearing of the current output cell\n",
       "var outputEl = gd.closest('.output');\n",
       "if (outputEl) {{\n",
       "    x.observe(outputEl, {childList: true});\n",
       "}}\n",
       "\n",
       "                        })                };                });            </script>        </div>"
      ]
     },
     "metadata": {},
     "output_type": "display_data"
    }
   ],
   "source": [
    "# let's plot the map for food production\n",
    "prod_map = px.choropleth(data_frame=food_supp_df3, locations='ISO3', locationmode='ISO-3', color='Average Consumption',\n",
    "                        hover_name='Country', scope='africa', \n",
    "                         color_discrete_sequence = ['#ffffcc', '#fed976', '#fd8d3c', '#e31a1c', '#800026'],\n",
    "                        category_orders = {'Average Consumption': ['1868.512 - 2187.68 kcal', '2187.68 - 2505.26 kcal', '2505.26 - 2822.84 kcal', '2822.84 - 3140.42 kcal', '3140.42 - 3458.0 kcal']}\n",
    ")\n",
    "\n",
    "prod_map"
   ]
  },
  {
   "cell_type": "code",
   "execution_count": 88,
   "id": "189943d4",
   "metadata": {},
   "outputs": [],
   "source": []
  },
  {
   "cell_type": "code",
   "execution_count": null,
   "id": "ac27460a",
   "metadata": {},
   "outputs": [],
   "source": []
  }
 ],
 "metadata": {
  "kernelspec": {
   "display_name": "Python 3 (ipykernel)",
   "language": "python",
   "name": "python3"
  },
  "language_info": {
   "codemirror_mode": {
    "name": "ipython",
    "version": 3
   },
   "file_extension": ".py",
   "mimetype": "text/x-python",
   "name": "python",
   "nbconvert_exporter": "python",
   "pygments_lexer": "ipython3",
   "version": "3.9.12"
  }
 },
 "nbformat": 4,
 "nbformat_minor": 5
}
